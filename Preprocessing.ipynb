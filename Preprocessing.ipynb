{
  "nbformat": 4,
  "nbformat_minor": 0,
  "metadata": {
    "colab": {
      "provenance": [],
      "toc_visible": true,
      "authorship_tag": "ABX9TyPj68oS14HgwbZrnXlN/2V8",
      "include_colab_link": true
    },
    "kernelspec": {
      "name": "python3",
      "display_name": "Python 3"
    },
    "language_info": {
      "name": "python"
    }
  },
  "cells": [
    {
      "cell_type": "markdown",
      "metadata": {
        "id": "view-in-github",
        "colab_type": "text"
      },
      "source": [
        "<a href=\"https://colab.research.google.com/github/NITHIN-KESHAV/DATA-228-Group-Project/blob/main/Preprocessing.ipynb\" target=\"_parent\"><img src=\"https://colab.research.google.com/assets/colab-badge.svg\" alt=\"Open In Colab\"/></a>"
      ]
    },
    {
      "cell_type": "code",
      "execution_count": null,
      "metadata": {
        "colab": {
          "base_uri": "https://localhost:8080/"
        },
        "id": "3Bu4xeKc3Op1",
        "outputId": "ffd35b85-b7b6-4577-e005-6701dfd7a06c"
      },
      "outputs": [
        {
          "output_type": "stream",
          "name": "stdout",
          "text": [
            "Requirement already satisfied: gdown in /usr/local/lib/python3.10/dist-packages (5.2.0)\n",
            "Requirement already satisfied: beautifulsoup4 in /usr/local/lib/python3.10/dist-packages (from gdown) (4.12.3)\n",
            "Requirement already satisfied: filelock in /usr/local/lib/python3.10/dist-packages (from gdown) (3.16.1)\n",
            "Requirement already satisfied: requests[socks] in /usr/local/lib/python3.10/dist-packages (from gdown) (2.32.3)\n",
            "Requirement already satisfied: tqdm in /usr/local/lib/python3.10/dist-packages (from gdown) (4.66.5)\n",
            "Requirement already satisfied: soupsieve>1.2 in /usr/local/lib/python3.10/dist-packages (from beautifulsoup4->gdown) (2.6)\n",
            "Requirement already satisfied: charset-normalizer<4,>=2 in /usr/local/lib/python3.10/dist-packages (from requests[socks]->gdown) (3.4.0)\n",
            "Requirement already satisfied: idna<4,>=2.5 in /usr/local/lib/python3.10/dist-packages (from requests[socks]->gdown) (3.10)\n",
            "Requirement already satisfied: urllib3<3,>=1.21.1 in /usr/local/lib/python3.10/dist-packages (from requests[socks]->gdown) (2.2.3)\n",
            "Requirement already satisfied: certifi>=2017.4.17 in /usr/local/lib/python3.10/dist-packages (from requests[socks]->gdown) (2024.8.30)\n",
            "Requirement already satisfied: PySocks!=1.5.7,>=1.5.6 in /usr/local/lib/python3.10/dist-packages (from requests[socks]->gdown) (1.7.1)\n"
          ]
        }
      ],
      "source": [
        "!pip install gdown\n"
      ]
    },
    {
      "cell_type": "markdown",
      "source": [
        "## Working on chunk data( 10,000 rows )"
      ],
      "metadata": {
        "id": "mCCvSXG5o7mk"
      }
    },
    {
      "cell_type": "code",
      "source": [
        "import gdown\n",
        "\n",
        "# The updated file ID from your Google Drive link\n",
        "file_id = \"11CHzQfUChpnG1EGRWQXPs4VYIcmtVQZj\"\n",
        "download_url = f\"https://drive.google.com/uc?id={file_id}\"\n",
        "\n",
        "# Download the file\n",
        "output = 'yourfile.zip'\n",
        "gdown.download(download_url, output, quiet=False)\n",
        "\n"
      ],
      "metadata": {
        "colab": {
          "base_uri": "https://localhost:8080/",
          "height": 122
        },
        "id": "fZiJzxqZ3PpH",
        "outputId": "d263c45c-3b81-4273-c684-1167f1ee070d"
      },
      "execution_count": null,
      "outputs": [
        {
          "output_type": "stream",
          "name": "stderr",
          "text": [
            "Downloading...\n",
            "From (original): https://drive.google.com/uc?id=11CHzQfUChpnG1EGRWQXPs4VYIcmtVQZj\n",
            "From (redirected): https://drive.google.com/uc?id=11CHzQfUChpnG1EGRWQXPs4VYIcmtVQZj&confirm=t&uuid=35d7e311-8c25-4c48-a22e-a3be0cbddcc9\n",
            "To: /content/yourfile.zip\n",
            "100%|██████████| 36.0G/36.0G [07:40<00:00, 78.1MB/s]\n"
          ]
        },
        {
          "output_type": "execute_result",
          "data": {
            "text/plain": [
              "'yourfile.zip'"
            ],
            "application/vnd.google.colaboratory.intrinsic+json": {
              "type": "string"
            }
          },
          "metadata": {},
          "execution_count": 3
        }
      ]
    },
    {
      "cell_type": "code",
      "source": [
        "import os\n",
        "\n",
        "# Check the size of the file to ensure it was downloaded completely\n",
        "file_size = os.path.getsize('yourfile.zip')\n",
        "print(f\"File size: {file_size / (1024 * 1024):.2f} MB\")\n"
      ],
      "metadata": {
        "colab": {
          "base_uri": "https://localhost:8080/"
        },
        "id": "RGBb2elN6Rsg",
        "outputId": "69454fe0-df27-4247-f7fd-b4a7c16cf3d1"
      },
      "execution_count": null,
      "outputs": [
        {
          "output_type": "stream",
          "name": "stdout",
          "text": [
            "File size: 34307.70 MB\n"
          ]
        }
      ]
    },
    {
      "cell_type": "code",
      "source": [
        "# Check the first few bytes of the file to see if it's a valid zip file\n",
        "with open('yourfile.zip', 'rb') as file:\n",
        "    header = file.read(4)\n",
        "    print(header)\n"
      ],
      "metadata": {
        "colab": {
          "base_uri": "https://localhost:8080/"
        },
        "id": "jyOjIWFh6f8o",
        "outputId": "5f4be417-da86-45fa-94a0-5ff7f50620d8"
      },
      "execution_count": null,
      "outputs": [
        {
          "output_type": "stream",
          "name": "stdout",
          "text": [
            "b'\\x1f\\x8b\\x08\\x08'\n"
          ]
        }
      ]
    },
    {
      "cell_type": "code",
      "source": [
        "with gzip.open('yourfile.zip', 'rb') as f:\n",
        "    chunk_size = 100000  # Adjust the chunk size as needed\n",
        "    for chunk in pd.read_csv(f, chunksize=chunk_size, sep='\\t'):  # Change sep if it's not a CSV\n",
        "        print(chunk.head())\n",
        "        break\n",
        "\n"
      ],
      "metadata": {
        "colab": {
          "base_uri": "https://localhost:8080/"
        },
        "id": "93GMLBpF3go_",
        "outputId": "9e4fd404-b078-410d-e1a8-95e98a5e1210"
      },
      "execution_count": null,
      "outputs": [
        {
          "output_type": "stream",
          "name": "stdout",
          "text": [
            "  {\"overall\": 1.0, \"verified\": false, \"reviewTime\": \"12 11, 2015\", \"reviewerID\": \"A27BTSGLXK2C5K\", \"asin\": \"B017O9P72A\", \"reviewerName\": \"Jacob M. Wessler\", \"reviewText\": \"Alexa is not able to control my lights. If I ask her to tell me what LIFX can do, she will give me an example with one of my group names. If I use that exact same group name in a new request, she'll await that she doesn't recognize the name. This skill is VERY buggy and has not yet worked for me. I even rest Alexa, uninstalled LIFX, and set everything up again.\", \"summary\": \"VERY Buggy, doesn't work.\", \"unixReviewTime\": 1449792000}\n",
            "0  {\"overall\": 4.0, \"vote\": \"5\", \"verified\": fals...                                                                                                                                                                                                                                                                                                                                                                                                                                                                                                                                                                           \n",
            "1  {\"overall\": 1.0, \"vote\": \"11\", \"verified\": fal...                                                                                                                                                                                                                                                                                                                                                                                                                                                                                                                                                                           \n",
            "2  {\"overall\": 2.0, \"verified\": false, \"reviewTim...                                                                                                                                                                                                                                                                                                                                                                                                                                                                                                                                                                           \n",
            "3  {\"overall\": 1.0, \"vote\": \"2\", \"verified\": fals...                                                                                                                                                                                                                                                                                                                                                                                                                                                                                                                                                                           \n",
            "4  {\"overall\": 5.0, \"verified\": false, \"reviewTim...                                                                                                                                                                                                                                                                                                                                                                                                                                                                                                                                                                           \n"
          ]
        }
      ]
    },
    {
      "cell_type": "code",
      "source": [
        "with gzip.open('yourfile.zip', 'rb') as f:\n",
        "    for i, line in enumerate(f):\n",
        "        print(line)\n",
        "        if i == 20:  # Stop after the first 20 lines\n",
        "            break\n",
        "\n"
      ],
      "metadata": {
        "colab": {
          "base_uri": "https://localhost:8080/"
        },
        "id": "AG0zuuGg67YB",
        "outputId": "0fdb375d-693b-436a-b2ac-5ba074a15aee"
      },
      "execution_count": null,
      "outputs": [
        {
          "output_type": "stream",
          "name": "stdout",
          "text": [
            "b'{\"overall\": 1.0, \"verified\": false, \"reviewTime\": \"12 11, 2015\", \"reviewerID\": \"A27BTSGLXK2C5K\", \"asin\": \"B017O9P72A\", \"reviewerName\": \"Jacob M. Wessler\", \"reviewText\": \"Alexa is not able to control my lights. If I ask her to tell me what LIFX can do, she will give me an example with one of my group names. If I use that exact same group name in a new request, she\\'ll await that she doesn\\'t recognize the name. This skill is VERY buggy and has not yet worked for me. I even rest Alexa, uninstalled LIFX, and set everything up again.\", \"summary\": \"VERY Buggy, doesn\\'t work.\", \"unixReviewTime\": 1449792000}\\n'\n",
            "b'{\"overall\": 4.0, \"vote\": \"5\", \"verified\": false, \"reviewTime\": \"12 8, 2015\", \"reviewerID\": \"A27ZJ1NCBFP1HZ\", \"asin\": \"B017O9P72A\", \"reviewerName\": \"Greg\", \"reviewText\": \"Alexa works great for me so far, but I\\'m also only controlling a single bulb at the moment. Turning on/off, changing colors and adjusting brightness are all easy and quick. That being said, I\\'m expecting complications as I add more bulbs (hope for the best prepare for the worst, right?)\\\\n\\\\nI\\'d speculate that some other users\\' frustrations might stem from Alexa not recognizing their bulb or room names. After simplifying my bulb name to \\'Lamp\\' and listing it under a Living Room group (within the LIFx app), I\\'ve been able to address it by either category pretty consistently.\\\\n\\\\\"Turn on/off living room lights.\\\\\"\\\\n\\\\\"Change lamp light to [color]\\\\\"\\\\n\\\\\"Dim living room lights to [X]%\\\\\"\\\\n\\\\nLike any new tech, you can expect growing pains and bugs early on. Be patient. This skill isn\\'t perfect by any means, but I\\'d say it\\'s off to a decent start\", \"summary\": \"So Far So Good\", \"unixReviewTime\": 1449532800}\\n'\n",
            "b'{\"overall\": 1.0, \"vote\": \"11\", \"verified\": false, \"reviewTime\": \"12 7, 2015\", \"reviewerID\": \"ACCQIOZMFN4UK\", \"asin\": \"B017O9P72A\", \"reviewerName\": \"Da-Gr8-1\", \"reviewText\": \"Weak!!\\\\n\\\\nAlexa doesn\\'t even recognize the name Lifx.\\\\nIt\\'s a waste of time to even ask her to turn on and off lights\", \"summary\": \"Time waster\", \"unixReviewTime\": 1449446400}\\n'\n",
            "b'{\"overall\": 2.0, \"verified\": false, \"reviewTime\": \"12 5, 2015\", \"reviewerID\": \"A3KUPJ396OQF78\", \"asin\": \"B017O9P72A\", \"reviewerName\": \"Larry Russlin\", \"reviewText\": \"Can only control one of two bulbs from one of two echos\", \"summary\": \"Buggy\", \"unixReviewTime\": 1449273600}\\n'\n",
            "b'{\"overall\": 1.0, \"vote\": \"2\", \"verified\": false, \"reviewTime\": \"02 2, 2018\", \"reviewerID\": \"A1U1RE1ZI19E1H\", \"asin\": \"B017O9P72A\", \"reviewerName\": \"Rebekah\", \"reviewText\": \"this worked great then randomly stopped. please update.\", \"summary\": \"stopped working\", \"unixReviewTime\": 1517529600}\\n'\n",
            "b'{\"overall\": 5.0, \"verified\": false, \"reviewTime\": \"01 15, 2018\", \"reviewerID\": \"A3TXR8GLKS19RE\", \"asin\": \"B017O9P72A\", \"reviewerName\": \"Nello\", \"reviewText\": \"Great skill\", \"summary\": \"Great\", \"unixReviewTime\": 1515974400}\\n'\n",
            "b'{\"overall\": 1.0, \"vote\": \"4\", \"verified\": false, \"reviewTime\": \"01 5, 2018\", \"reviewerID\": \"AVIWE1LJXCG77\", \"asin\": \"B017O9P72A\", \"reviewerName\": \"Pete Johnson\", \"reviewText\": \"Pretty crappy. Won&rsquo;t connect with Alexis\", \"summary\": \"Returning to\", \"unixReviewTime\": 1515110400}\\n'\n",
            "b'{\"overall\": 1.0, \"vote\": \"2\", \"verified\": false, \"reviewTime\": \"01 4, 2018\", \"reviewerID\": \"A1FOHYK23FJ6CN\", \"asin\": \"B017O9P72A\", \"reviewerName\": \"L. Ray Humphreys\", \"reviewText\": \"Not happy. Can not connect to Alexa regardless.\", \"summary\": \"Can not connect to ECHO\", \"unixReviewTime\": 1515024000}\\n'\n",
            "b'{\"overall\": 1.0, \"vote\": \"5\", \"verified\": false, \"reviewTime\": \"12 30, 2017\", \"reviewerID\": \"A1RRDX9AOST1AN\", \"asin\": \"B017O9P72A\", \"reviewerName\": \"Viola\", \"reviewText\": \"Can not connect a hue lights to Alexa. Linked the LIFX in the Amazon Alexa app. Can not located the smart hue bulbs. It should not be this hard to connect to Alexa. Even watched a you tube video and still\", \"summary\": \"Connecting is a no go\", \"unixReviewTime\": 1514592000}\\n'\n",
            "b'{\"overall\": 1.0, \"vote\": \"5\", \"verified\": false, \"reviewTime\": \"12 29, 2017\", \"reviewerID\": \"AA4DHYT5YSSIT\", \"asin\": \"B017O9P72A\", \"reviewerName\": \"angie anj\", \"reviewText\": \"The service works with google home, but doesn\\'t work with alexa. I\\'m getting rid of the \\\\\"I\\'m  not sure\\\\\" machine.\", \"summary\": \"Does not work\", \"unixReviewTime\": 1514505600}\\n'\n",
            "b'{\"overall\": 3.0, \"vote\": \"9\", \"verified\": false, \"reviewTime\": \"12 29, 2017\", \"reviewerID\": \"A3TYO7I2GSCH4X\", \"asin\": \"B017O9P72A\", \"reviewerName\": \"Amazon Customer\", \"reviewText\": \"The LifX bulb is awesome. This skill is not so much. The light does not show up in the Alexa Smart home device list and having Alexa ask LifX to do something is plain asinine. Fix it or I buy other products.\", \"summary\": \"Almost awesome\", \"unixReviewTime\": 1514505600}\\n'\n",
            "b'{\"overall\": 5.0, \"vote\": \"2\", \"verified\": false, \"reviewTime\": \"12 25, 2017\", \"reviewerID\": \"A3KWZMO1A9TO3Z\", \"asin\": \"B017O9P72A\", \"reviewerName\": \"Amazon Customer\", \"reviewText\": \"So easy to connect and I&rsquo;m having way too much fun with the voice commands!!\", \"summary\": \"This is awesome\", \"unixReviewTime\": 1514160000}\\n'\n",
            "b'{\"overall\": 5.0, \"vote\": \"2\", \"verified\": false, \"reviewTime\": \"12 18, 2017\", \"reviewerID\": \"A1QBG1TTQZGJNM\", \"asin\": \"B017O9P72A\", \"reviewerName\": \"Artyhow\", \"reviewText\": \"I use &ldquo;Echo&rdquo; as the wake word.  I say &ldquo;Echo, turn the light on.&rdquo;  My bedroom light comes on!  I did experience problems when LIFX updated their app and so I had to go back to the Alexa app and re-establish the link with LIFX.  After that, all was good!\", \"summary\": \"Alexa and LIFX\", \"unixReviewTime\": 1513555200}\\n'\n",
            "b'{\"overall\": 2.0, \"vote\": \"6\", \"verified\": false, \"reviewTime\": \"11 28, 2017\", \"reviewerID\": \"A2NGABQTU93H28\", \"asin\": \"B017O9P72A\", \"reviewerName\": \"noura\", \"reviewText\": \"Can&rsquo;t connect lifx to Alexa\", \"summary\": \"Really bad\", \"unixReviewTime\": 1511827200}\\n'\n",
            "b'{\"overall\": 5.0, \"verified\": false, \"reviewTime\": \"11 24, 2017\", \"reviewerID\": \"A2LNJJWW2TLL00\", \"asin\": \"B017O9P72A\", \"reviewerName\": \"jarhead\", \"reviewText\": \"I haven\\'t had any issues  with this skill like other reviews have said. I do belive it\\'s about spotty Wi-Fi and groupings\", \"summary\": \"Love it!\", \"unixReviewTime\": 1511481600}\\n'\n",
            "b'{\"overall\": 1.0, \"vote\": \"3\", \"verified\": false, \"reviewTime\": \"11 23, 2017\", \"reviewerID\": \"A1M5UIUZ2P5FFO\", \"asin\": \"B017O9P72A\", \"reviewerName\": \"Amazon Customer\", \"reviewText\": \"This app forces you to use the old invocation phrase, \\\\\"Tell Lifx to...\\\\\". I know what the other reviewer said, but that is in reference to the new skill, \\\\\"optimized for smart home\\\\\" not this one. Unfortunately, this is the only one of the two skills that will perform account linking currently, so we are stuck with the cumbersome old phrase until they get the new skill working again.\", \"summary\": \"Use the other app\", \"unixReviewTime\": 1511395200}\\n'\n",
            "b'{\"overall\": 1.0, \"vote\": \"2\", \"verified\": false, \"reviewTime\": \"11 10, 2017\", \"reviewerID\": \"AE5S7XRYMZ15P\", \"asin\": \"B017O9P72A\", \"reviewerName\": \"Karim Moussa\", \"reviewText\": \"Red all steps and did all not working\", \"summary\": \"I can&rsquo;t connect to alexia, connected to Lifx app and Home but Alexia noooo\", \"unixReviewTime\": 1510272000}\\n'\n",
            "b'{\"overall\": 4.0, \"vote\": \"5\", \"verified\": false, \"reviewTime\": \"10 19, 2017\", \"reviewerID\": \"A18JLUE8V4G7TX\", \"asin\": \"B017O9P72A\", \"reviewerName\": \"Uncle Rusty\", \"reviewText\": \"This skill works just fine, though I think a lot of issues some people have are due to spotty WiFi networks and a lack of understanding how the setup and commands work.\\\\n\\\\nIn particular, groups need to be created within the Alexa app itself or within the lifx app. You don\\'t need to use the \\\\\"Tell lifx\\\\\" verbiage as some users have mentioned, and instead can use simple commands such as \\\\\"turn on the kitchen light\\\\\" or \\\\\"set the basement lights to 50% brightness\\\\\". The only limitation I\\'ll complain about is that the number of recognized colors is limited to basic ones such as red, blue, orange, pink etc. It would be nice if more were recognized such as violet or magenta and so on.\\\\n\\\\nI don\\'t think most people realize how demanding having a bunch of lifx bulbs are on a WiFi network. Though they use little bandwidth, having multiple bulbs in a confined area causes a high probability of collisions and contention for access. Most people I see complaining about sporadic connectivity issues are running a basic router/wireless access point combo device. You really need to have a dedicated set of Access points depending on the size of your house. No matter how good your combo device is, the fact of the matter is CPU cycles have to be shared for both WiFi functions and routing and switching functions. The wifi controller logic within most combo devices is seriously lacking compared to a real prosumer or enterprise level AP.\\\\n\\\\nDedicated APs which support seamless roaming will simply provide a more stable network. If you\\'re in an apartment unfortunately you\\'re kind of out of luck due to high wireless interference from competing networks, but doing a basic 2.4 and 5ghz survey should help, or using an AP which has good auto channel detection would be ideal. I\\'d recommend at least a Ubiquiti AP setup for a good experience, as these APs are priced within consumer reach and don\\'t have the extra tax attached to them. (No, your overpriced Asus router/AP with 10 antennas is not going to cut it, as despite the marketing push these devices fall flat compared to enterprise gear which only utilize 2-3 antennas)\", \"summary\": \"This skill works just fine, though I think a lot of issues some ...\", \"unixReviewTime\": 1508371200}\\n'\n",
            "b'{\"overall\": 1.0, \"verified\": false, \"reviewTime\": \"09 13, 2017\", \"reviewerID\": \"A1E35W9YOVAH1G\", \"asin\": \"B017O9P72A\", \"reviewerName\": \"Amazon Customer\", \"reviewText\": \"Who would think you would have to spend so much time to put in a lightbulb and have it work. The steps are cumbersome. The support is inconsistent in procedures. I wouldn\\'t give one of these to my worst enemy. Y the way I\\'m reasonably computer savvy\", \"summary\": \"Pathetic\", \"unixReviewTime\": 1505260800}\\n'\n",
            "b'{\"overall\": 3.0, \"vote\": \"3\", \"verified\": false, \"reviewTime\": \"08 23, 2017\", \"reviewerID\": \"A2OPRIKEHM8WUI\", \"asin\": \"B017O9P72A\", \"reviewerName\": \"RS\", \"reviewText\": \"Lifx is a weird word to say.  Be so much better if it worked natively\", \"summary\": \"Not bad.\", \"unixReviewTime\": 1503446400}\\n'\n",
            "b'{\"overall\": 2.0, \"vote\": \"5\", \"verified\": false, \"reviewTime\": \"07 24, 2017\", \"reviewerID\": \"A1ZH6WTMUGWCOU\", \"asin\": \"B017O9P72A\", \"reviewerName\": \"edupunk\", \"reviewText\": \"I have to tell alexa to tell lifx to do things instead of just telling alexa to turn the lights off/on, blue/red/green ect. I know, it sounds like I\\'m lazy, but the more you have to say to alexa to complete a command raises the chances that alexa will get things wrong. They need to remedy this asap, the good thing is, this can get taken care of in an update. Fwiw I don\\'t know who is at fault, Amazon or lifx.\", \"summary\": \"Commands need to get shorter!!!!\", \"unixReviewTime\": 1500854400}\\n'\n"
          ]
        }
      ]
    },
    {
      "cell_type": "code",
      "source": [
        "import gzip\n",
        "import pandas as pd\n",
        "\n",
        "# Open the gzip file and read the data as JSON lines\n",
        "with gzip.open('yourfile.zip', 'rb') as f:\n",
        "    # Read the JSON lines into a pandas DataFrame\n",
        "    df = pd.read_json(f, lines=True)\n",
        "\n",
        "# Display the first few rows to get a better view of the data\n",
        "print(df.head(5))\n"
      ],
      "metadata": {
        "id": "DFr7Blpz7DBz"
      },
      "execution_count": null,
      "outputs": []
    },
    {
      "cell_type": "code",
      "source": [
        "import gzip\n",
        "import pandas as pd\n",
        "\n",
        "# Define the chunk size (number of lines to process at a time)\n",
        "chunk_size = 10000  # You can adjust this value\n",
        "\n",
        "# Open the gzip file and process it in chunks\n",
        "with gzip.open('yourfile.zip', 'rb') as f:\n",
        "    # Read the file in chunks and process each chunk\n",
        "    for chunk in pd.read_json(f, lines=True, chunksize=chunk_size):\n",
        "        print(chunk.head())  # Display the first few rows of each chunk\n",
        "\n",
        "        # Add your processing logic here, e.g., cleaning, analysis, etc.\n",
        "\n",
        "        # Stop after the first chunk for testing (remove this in your final implementation)\n",
        "        break\n"
      ],
      "metadata": {
        "colab": {
          "base_uri": "https://localhost:8080/"
        },
        "id": "_8KQnVtb7ZHw",
        "outputId": "0af38f86-3a1c-4b48-b565-ef9a6b81dd6e"
      },
      "execution_count": null,
      "outputs": [
        {
          "output_type": "stream",
          "name": "stdout",
          "text": [
            "   overall  verified   reviewTime      reviewerID        asin  \\\n",
            "0        1     False  12 11, 2015  A27BTSGLXK2C5K  B017O9P72A   \n",
            "1        4     False   12 8, 2015  A27ZJ1NCBFP1HZ  B017O9P72A   \n",
            "2        1     False   12 7, 2015   ACCQIOZMFN4UK  B017O9P72A   \n",
            "3        2     False   12 5, 2015  A3KUPJ396OQF78  B017O9P72A   \n",
            "4        1     False   02 2, 2018  A1U1RE1ZI19E1H  B017O9P72A   \n",
            "\n",
            "       reviewerName                                         reviewText  \\\n",
            "0  Jacob M. Wessler  Alexa is not able to control my lights. If I a...   \n",
            "1              Greg  Alexa works great for me so far, but I'm also ...   \n",
            "2          Da-Gr8-1  Weak!!\\n\\nAlexa doesn't even recognize the nam...   \n",
            "3     Larry Russlin  Can only control one of two bulbs from one of ...   \n",
            "4           Rebekah  this worked great then randomly stopped. pleas...   \n",
            "\n",
            "                     summary  unixReviewTime  vote image  \n",
            "0  VERY Buggy, doesn't work.      1449792000   NaN   NaN  \n",
            "1             So Far So Good      1449532800   5.0   NaN  \n",
            "2                Time waster      1449446400  11.0   NaN  \n",
            "3                      Buggy      1449273600   NaN   NaN  \n",
            "4            stopped working      1517529600   2.0   NaN  \n"
          ]
        }
      ]
    },
    {
      "cell_type": "code",
      "source": [
        "print(chunk.columns)  # List the column names\n",
        "print(chunk.dtypes)   # Check the data types of each column\n"
      ],
      "metadata": {
        "colab": {
          "base_uri": "https://localhost:8080/"
        },
        "id": "LWnFU3FA8dbA",
        "outputId": "4ccdef01-8e85-4368-ca16-c417270bc9d8"
      },
      "execution_count": null,
      "outputs": [
        {
          "output_type": "stream",
          "name": "stdout",
          "text": [
            "Index(['overall', 'verified', 'reviewTime', 'reviewerID', 'asin',\n",
            "       'reviewerName', 'reviewText', 'summary', 'unixReviewTime', 'vote',\n",
            "       'image'],\n",
            "      dtype='object')\n",
            "overall             int64\n",
            "verified             bool\n",
            "reviewTime         object\n",
            "reviewerID         object\n",
            "asin               object\n",
            "reviewerName       object\n",
            "reviewText         object\n",
            "summary            object\n",
            "unixReviewTime      int64\n",
            "vote              float64\n",
            "image              object\n",
            "dtype: object\n"
          ]
        }
      ]
    },
    {
      "cell_type": "code",
      "source": [
        "print(chunk.describe())  # Summary statistics for numerical columns\n"
      ],
      "metadata": {
        "colab": {
          "base_uri": "https://localhost:8080/"
        },
        "id": "j808L_K_8ohy",
        "outputId": "7e8451d3-3a6e-4a27-982b-cdbc196a1b6b"
      },
      "execution_count": null,
      "outputs": [
        {
          "output_type": "stream",
          "name": "stdout",
          "text": [
            "            overall  unixReviewTime         vote\n",
            "count  10000.000000    1.000000e+04  5934.000000\n",
            "mean       3.462400    1.488043e+09     5.857937\n",
            "std        1.631641    2.448096e+07    15.030646\n",
            "min        1.000000    1.447373e+09     2.000000\n",
            "25%        2.000000    1.470766e+09     2.000000\n",
            "50%        4.000000    1.483315e+09     4.000000\n",
            "75%        5.000000    1.508890e+09     6.000000\n",
            "max        5.000000    1.537056e+09   661.000000\n"
          ]
        }
      ]
    },
    {
      "cell_type": "code",
      "source": [
        "print(chunk.isnull().sum())  # Check for missing values in each column\n"
      ],
      "metadata": {
        "colab": {
          "base_uri": "https://localhost:8080/"
        },
        "id": "CigM5MBb8sFU",
        "outputId": "6de67b8a-74be-4d57-92f7-e709922b5a88"
      },
      "execution_count": null,
      "outputs": [
        {
          "output_type": "stream",
          "name": "stdout",
          "text": [
            "overall              0\n",
            "verified             0\n",
            "reviewTime           0\n",
            "reviewerID           0\n",
            "asin                 0\n",
            "reviewerName         0\n",
            "reviewText          16\n",
            "summary             23\n",
            "unixReviewTime       0\n",
            "vote              4066\n",
            "image             9989\n",
            "dtype: int64\n"
          ]
        }
      ]
    },
    {
      "cell_type": "code",
      "source": [
        "chunk['review_length'] = chunk['reviewText'].apply(lambda x: len(str(x).split()))\n",
        "print(chunk[['reviewText', 'review_length']].head())  # Show the first few rows with review lengths\n"
      ],
      "metadata": {
        "colab": {
          "base_uri": "https://localhost:8080/"
        },
        "id": "k1Kjta5S8wf4",
        "outputId": "2b4f88d1-c330-449e-88e6-669550b9cf52"
      },
      "execution_count": null,
      "outputs": [
        {
          "output_type": "stream",
          "name": "stdout",
          "text": [
            "                                          reviewText  review_length\n",
            "0  Alexa is not able to control my lights. If I a...             74\n",
            "1  Alexa works great for me so far, but I'm also ...            145\n",
            "2  Weak!!\\n\\nAlexa doesn't even recognize the nam...             23\n",
            "3  Can only control one of two bulbs from one of ...             12\n",
            "4  this worked great then randomly stopped. pleas...              8\n"
          ]
        }
      ]
    },
    {
      "cell_type": "code",
      "source": [
        "from google.colab import files\n",
        "\n",
        "# Download the saved file\n",
        "files.download('processed_chunk.csv')\n"
      ],
      "metadata": {
        "colab": {
          "base_uri": "https://localhost:8080/",
          "height": 34
        },
        "id": "fEwbPUwk9IfX",
        "outputId": "f3036068-1b58-4b64-e8ae-127e186c5721"
      },
      "execution_count": null,
      "outputs": [
        {
          "output_type": "display_data",
          "data": {
            "text/plain": [
              "<IPython.core.display.Javascript object>"
            ],
            "application/javascript": [
              "\n",
              "    async function download(id, filename, size) {\n",
              "      if (!google.colab.kernel.accessAllowed) {\n",
              "        return;\n",
              "      }\n",
              "      const div = document.createElement('div');\n",
              "      const label = document.createElement('label');\n",
              "      label.textContent = `Downloading \"${filename}\": `;\n",
              "      div.appendChild(label);\n",
              "      const progress = document.createElement('progress');\n",
              "      progress.max = size;\n",
              "      div.appendChild(progress);\n",
              "      document.body.appendChild(div);\n",
              "\n",
              "      const buffers = [];\n",
              "      let downloaded = 0;\n",
              "\n",
              "      const channel = await google.colab.kernel.comms.open(id);\n",
              "      // Send a message to notify the kernel that we're ready.\n",
              "      channel.send({})\n",
              "\n",
              "      for await (const message of channel.messages) {\n",
              "        // Send a message to notify the kernel that we're ready.\n",
              "        channel.send({})\n",
              "        if (message.buffers) {\n",
              "          for (const buffer of message.buffers) {\n",
              "            buffers.push(buffer);\n",
              "            downloaded += buffer.byteLength;\n",
              "            progress.value = downloaded;\n",
              "          }\n",
              "        }\n",
              "      }\n",
              "      const blob = new Blob(buffers, {type: 'application/binary'});\n",
              "      const a = document.createElement('a');\n",
              "      a.href = window.URL.createObjectURL(blob);\n",
              "      a.download = filename;\n",
              "      div.appendChild(a);\n",
              "      a.click();\n",
              "      div.remove();\n",
              "    }\n",
              "  "
            ]
          },
          "metadata": {}
        },
        {
          "output_type": "display_data",
          "data": {
            "text/plain": [
              "<IPython.core.display.Javascript object>"
            ],
            "application/javascript": [
              "download(\"download_1c9fcec5-9e9b-4aa7-b33b-416befc2dab4\", \"processed_chunk.csv\", 3994276)"
            ]
          },
          "metadata": {}
        }
      ]
    },
    {
      "cell_type": "markdown",
      "source": [
        "## steps for topic modelling for chunks\n"
      ],
      "metadata": {
        "id": "vuCH-0DIPThX"
      }
    },
    {
      "cell_type": "code",
      "source": [
        "!pip install gensim scikit-learn\n"
      ],
      "metadata": {
        "id": "NHWAHQ1R--Xu",
        "colab": {
          "base_uri": "https://localhost:8080/"
        },
        "outputId": "41543ad6-b8d9-4489-e6d8-e7fb6822b583"
      },
      "execution_count": 1,
      "outputs": [
        {
          "output_type": "stream",
          "name": "stdout",
          "text": [
            "Requirement already satisfied: gensim in /usr/local/lib/python3.10/dist-packages (4.3.3)\n",
            "Requirement already satisfied: scikit-learn in /usr/local/lib/python3.10/dist-packages (1.5.2)\n",
            "Requirement already satisfied: numpy<2.0,>=1.18.5 in /usr/local/lib/python3.10/dist-packages (from gensim) (1.26.4)\n",
            "Requirement already satisfied: scipy<1.14.0,>=1.7.0 in /usr/local/lib/python3.10/dist-packages (from gensim) (1.13.1)\n",
            "Requirement already satisfied: smart-open>=1.8.1 in /usr/local/lib/python3.10/dist-packages (from gensim) (7.0.5)\n",
            "Requirement already satisfied: joblib>=1.2.0 in /usr/local/lib/python3.10/dist-packages (from scikit-learn) (1.4.2)\n",
            "Requirement already satisfied: threadpoolctl>=3.1.0 in /usr/local/lib/python3.10/dist-packages (from scikit-learn) (3.5.0)\n",
            "Requirement already satisfied: wrapt in /usr/local/lib/python3.10/dist-packages (from smart-open>=1.8.1->gensim) (1.16.0)\n"
          ]
        }
      ]
    },
    {
      "cell_type": "code",
      "source": [
        "import pandas as pd\n",
        "\n",
        "# Load the dataset\n",
        "df = pd.read_csv('/processed_chunk.csv')\n",
        "\n",
        "# Check the data structure\n",
        "print(df.head())\n"
      ],
      "metadata": {
        "colab": {
          "base_uri": "https://localhost:8080/"
        },
        "id": "OgBV9CZrPX6z",
        "outputId": "384a4194-19c6-4ffc-b470-f117f258fd29"
      },
      "execution_count": 11,
      "outputs": [
        {
          "output_type": "stream",
          "name": "stdout",
          "text": [
            "   overall  verified   reviewTime      reviewerID        asin  \\\n",
            "0        1     False  12 11, 2015  A27BTSGLXK2C5K  B017O9P72A   \n",
            "1        4     False   12 8, 2015  A27ZJ1NCBFP1HZ  B017O9P72A   \n",
            "2        1     False   12 7, 2015   ACCQIOZMFN4UK  B017O9P72A   \n",
            "3        2     False   12 5, 2015  A3KUPJ396OQF78  B017O9P72A   \n",
            "4        1     False   02 2, 2018  A1U1RE1ZI19E1H  B017O9P72A   \n",
            "\n",
            "       reviewerName                                     reviewText_old  \\\n",
            "0  Jacob M. Wessler  Alexa is not able to control my lights. If I a...   \n",
            "1              Greg  Alexa works great for me so far, but I'm also ...   \n",
            "2          Da-Gr8-1  Weak!!\\n\\nAlexa doesn't even recognize the nam...   \n",
            "3     Larry Russlin  Can only control one of two bulbs from one of ...   \n",
            "4           Rebekah  this worked great then randomly stopped. pleas...   \n",
            "\n",
            "                     summary  unixReviewTime  vote image  \\\n",
            "0  VERY Buggy, doesn't work.      1449792000   NaN   NaN   \n",
            "1             So Far So Good      1449532800   5.0   NaN   \n",
            "2                Time waster      1449446400  11.0   NaN   \n",
            "3                      Buggy      1449273600   NaN   NaN   \n",
            "4            stopped working      1517529600   2.0   NaN   \n",
            "\n",
            "                                          reviewText  sentiment  review_length  \n",
            "0  Alexa is not able to control my lights If I as...   0.067273             74  \n",
            "1  Alexa works great for me so far but I m also o...   0.257949            145  \n",
            "2  Weak Alexa doesn t even recognize the name Lif...  -0.287500             23  \n",
            "3  Can only control one of two bulbs from one of ...   0.000000             12  \n",
            "4  this worked great then randomly stopped please...   0.150000              8  \n"
          ]
        }
      ]
    },
    {
      "cell_type": "markdown",
      "source": [
        "## Preprocess the Text for Topic Modeling:"
      ],
      "metadata": {
        "id": "Vv682o31PdeW"
      }
    },
    {
      "cell_type": "code",
      "source": [
        "import re\n",
        "from nltk.corpus import stopwords\n",
        "from sklearn.feature_extraction.text import CountVectorizer\n",
        "import nltk\n",
        "\n",
        "# Download stopwords if not done already\n",
        "nltk.download('stopwords')\n",
        "\n",
        "# Preprocessing function: clean and tokenize text\n",
        "def preprocess_text(text):\n",
        "    text = re.sub(r'\\W', ' ', str(text))  # Remove special characters\n",
        "    text = re.sub(r'\\s+', ' ', text)  # Remove extra spaces\n",
        "    tokens = text.lower().split()  # Lowercase and tokenize\n",
        "    tokens = [word for word in tokens if word not in stopwords.words('english')]  # Remove stopwords\n",
        "    return tokens\n",
        "\n",
        "# Apply preprocessing to the 'reviewText' column\n",
        "df['tokens'] = df['reviewText'].apply(preprocess_text)\n",
        "\n",
        "# Check the tokenized reviews\n",
        "print(df[['reviewText', 'tokens']].head())\n"
      ],
      "metadata": {
        "colab": {
          "base_uri": "https://localhost:8080/"
        },
        "id": "EDM2x8auPaFm",
        "outputId": "b4a04581-862b-4fea-8e94-a526bcd93f08"
      },
      "execution_count": 12,
      "outputs": [
        {
          "output_type": "stream",
          "name": "stderr",
          "text": [
            "[nltk_data] Downloading package stopwords to /root/nltk_data...\n",
            "[nltk_data]   Package stopwords is already up-to-date!\n"
          ]
        },
        {
          "output_type": "stream",
          "name": "stdout",
          "text": [
            "                                          reviewText  \\\n",
            "0  Alexa is not able to control my lights If I as...   \n",
            "1  Alexa works great for me so far but I m also o...   \n",
            "2  Weak Alexa doesn t even recognize the name Lif...   \n",
            "3  Can only control one of two bulbs from one of ...   \n",
            "4  this worked great then randomly stopped please...   \n",
            "\n",
            "                                              tokens  \n",
            "0  [alexa, able, control, lights, ask, tell, lifx...  \n",
            "1  [alexa, works, great, far, also, controlling, ...  \n",
            "2  [weak, alexa, even, recognize, name, lifx, was...  \n",
            "3        [control, one, two, bulbs, one, two, echos]  \n",
            "4  [worked, great, randomly, stopped, please, upd...  \n"
          ]
        }
      ]
    },
    {
      "cell_type": "markdown",
      "source": [
        "##  Create Dictionary and Corpus:"
      ],
      "metadata": {
        "id": "fsTFvRFIUOfC"
      }
    },
    {
      "cell_type": "code",
      "source": [
        "from gensim import corpora\n",
        "\n",
        "# Create a dictionary representation of the documents\n",
        "dictionary = corpora.Dictionary(df['tokens'])\n",
        "\n",
        "# Create a bag-of-words corpus\n",
        "corpus = [dictionary.doc2bow(text) for text in df['tokens']]\n",
        "\n",
        "# Show sample corpus\n",
        "print(corpus[:1])\n"
      ],
      "metadata": {
        "colab": {
          "base_uri": "https://localhost:8080/"
        },
        "id": "cMw694uSPaKu",
        "outputId": "73d3e3bf-88c6-448b-d7a1-1fa775591c5d"
      },
      "execution_count": 13,
      "outputs": [
        {
          "output_type": "stream",
          "name": "stdout",
          "text": [
            "[[(0, 1), (1, 2), (2, 1), (3, 1), (4, 1), (5, 1), (6, 1), (7, 1), (8, 1), (9, 1), (10, 1), (11, 2), (12, 2), (13, 1), (14, 2), (15, 1), (16, 1), (17, 1), (18, 1), (19, 1), (20, 1), (21, 1), (22, 1), (23, 1), (24, 1), (25, 1), (26, 1), (27, 1)]]\n"
          ]
        }
      ]
    },
    {
      "cell_type": "markdown",
      "source": [
        "## Apply LDA for Topic Modeling:"
      ],
      "metadata": {
        "id": "t9y3_TpaUZin"
      }
    },
    {
      "cell_type": "code",
      "source": [
        "import gensim\n",
        "\n",
        "# Set the number of topics\n",
        "num_topics = 10\n",
        "\n",
        "# Run LDA using gensim\n",
        "lda_model = gensim.models.ldamodel.LdaModel(corpus,\n",
        "                                            num_topics=num_topics,\n",
        "                                            id2word=dictionary,\n",
        "                                            passes=10)\n",
        "\n",
        "# Print the topics\n",
        "topics = lda_model.print_topics(num_words=5)\n",
        "for topic in topics:\n",
        "    print(topic)\n"
      ],
      "metadata": {
        "colab": {
          "base_uri": "https://localhost:8080/"
        },
        "id": "jEJs9PtgPaNi",
        "outputId": "377c1b9d-fc87-4a22-e897-955816b9e4f5"
      },
      "execution_count": 17,
      "outputs": [
        {
          "output_type": "stream",
          "name": "stderr",
          "text": [
            "/usr/local/lib/python3.10/dist-packages/ipykernel/ipkernel.py:283: DeprecationWarning: `should_run_async` will not call `transform_cell` automatically in the future. Please pass the result to `transformed_cell` argument and any exception that happen during thetransform in `preprocessing_exc_tuple` in IPython 7.17 and above.\n",
            "  and should_run_async(code)\n"
          ]
        },
        {
          "output_type": "stream",
          "name": "stdout",
          "text": [
            "(0, '0.021*\"skill\" + 0.018*\"would\" + 0.017*\"one\" + 0.017*\"like\" + 0.013*\"time\"')\n",
            "(1, '0.062*\"order\" + 0.022*\"easy\" + 0.019*\"interesting\" + 0.018*\"keeps\" + 0.018*\"super\"')\n",
            "(2, '0.038*\"alexa\" + 0.027*\"questions\" + 0.024*\"words\" + 0.021*\"answer\" + 0.021*\"game\"')\n",
            "(3, '0.036*\"alexa\" + 0.022*\"app\" + 0.017*\"echo\" + 0.015*\"use\" + 0.014*\"phone\"')\n",
            "(4, '0.029*\"old\" + 0.020*\"door\" + 0.019*\"awesome\" + 0.019*\"year\" + 0.012*\"zone\"')\n",
            "(5, '0.056*\"great\" + 0.048*\"works\" + 0.028*\"dog\" + 0.016*\"fed\" + 0.016*\"app\"')\n",
            "(6, '0.097*\"fun\" + 0.056*\"game\" + 0.040*\"good\" + 0.033*\"great\" + 0.024*\"kids\"')\n",
            "(7, '0.035*\"vivint\" + 0.018*\"pizza\" + 0.016*\"log\" + 0.011*\"impressed\" + 0.010*\"got\"')\n",
            "(8, '0.040*\"alexa\" + 0.036*\"skill\" + 0.035*\"work\" + 0.033*\"app\" + 0.020*\"account\"')\n",
            "(9, '0.053*\"rsquo\" + 0.033*\"love\" + 0.024*\"play\" + 0.021*\"like\" + 0.015*\"playing\"')\n"
          ]
        }
      ]
    },
    {
      "cell_type": "markdown",
      "source": [
        "### Visualize the Topics"
      ],
      "metadata": {
        "id": "zmYGsgftUruJ"
      }
    },
    {
      "cell_type": "code",
      "source": [
        "!pip install pyLDAvis\n"
      ],
      "metadata": {
        "colab": {
          "base_uri": "https://localhost:8080/"
        },
        "id": "fJFBGnn4PaPe",
        "outputId": "918f6f89-ec0f-42a5-fdfc-c37f294a2c79"
      },
      "execution_count": 15,
      "outputs": [
        {
          "output_type": "stream",
          "name": "stdout",
          "text": [
            "Collecting pyLDAvis\n",
            "  Downloading pyLDAvis-3.4.1-py3-none-any.whl.metadata (4.2 kB)\n",
            "Requirement already satisfied: numpy>=1.24.2 in /usr/local/lib/python3.10/dist-packages (from pyLDAvis) (1.26.4)\n",
            "Requirement already satisfied: scipy in /usr/local/lib/python3.10/dist-packages (from pyLDAvis) (1.13.1)\n",
            "Requirement already satisfied: pandas>=2.0.0 in /usr/local/lib/python3.10/dist-packages (from pyLDAvis) (2.2.2)\n",
            "Requirement already satisfied: joblib>=1.2.0 in /usr/local/lib/python3.10/dist-packages (from pyLDAvis) (1.4.2)\n",
            "Requirement already satisfied: jinja2 in /usr/local/lib/python3.10/dist-packages (from pyLDAvis) (3.1.4)\n",
            "Requirement already satisfied: numexpr in /usr/local/lib/python3.10/dist-packages (from pyLDAvis) (2.10.1)\n",
            "Collecting funcy (from pyLDAvis)\n",
            "  Downloading funcy-2.0-py2.py3-none-any.whl.metadata (5.9 kB)\n",
            "Requirement already satisfied: scikit-learn>=1.0.0 in /usr/local/lib/python3.10/dist-packages (from pyLDAvis) (1.5.2)\n",
            "Requirement already satisfied: gensim in /usr/local/lib/python3.10/dist-packages (from pyLDAvis) (4.3.3)\n",
            "Requirement already satisfied: setuptools in /usr/local/lib/python3.10/dist-packages (from pyLDAvis) (71.0.4)\n",
            "Requirement already satisfied: python-dateutil>=2.8.2 in /usr/local/lib/python3.10/dist-packages (from pandas>=2.0.0->pyLDAvis) (2.8.2)\n",
            "Requirement already satisfied: pytz>=2020.1 in /usr/local/lib/python3.10/dist-packages (from pandas>=2.0.0->pyLDAvis) (2024.2)\n",
            "Requirement already satisfied: tzdata>=2022.7 in /usr/local/lib/python3.10/dist-packages (from pandas>=2.0.0->pyLDAvis) (2024.2)\n",
            "Requirement already satisfied: threadpoolctl>=3.1.0 in /usr/local/lib/python3.10/dist-packages (from scikit-learn>=1.0.0->pyLDAvis) (3.5.0)\n",
            "Requirement already satisfied: smart-open>=1.8.1 in /usr/local/lib/python3.10/dist-packages (from gensim->pyLDAvis) (7.0.5)\n",
            "Requirement already satisfied: MarkupSafe>=2.0 in /usr/local/lib/python3.10/dist-packages (from jinja2->pyLDAvis) (3.0.1)\n",
            "Requirement already satisfied: six>=1.5 in /usr/local/lib/python3.10/dist-packages (from python-dateutil>=2.8.2->pandas>=2.0.0->pyLDAvis) (1.16.0)\n",
            "Requirement already satisfied: wrapt in /usr/local/lib/python3.10/dist-packages (from smart-open>=1.8.1->gensim->pyLDAvis) (1.16.0)\n",
            "Downloading pyLDAvis-3.4.1-py3-none-any.whl (2.6 MB)\n",
            "\u001b[2K   \u001b[90m━━━━━━━━━━━━━━━━━━━━━━━━━━━━━━━━━━━━━━━━\u001b[0m \u001b[32m2.6/2.6 MB\u001b[0m \u001b[31m46.1 MB/s\u001b[0m eta \u001b[36m0:00:00\u001b[0m\n",
            "\u001b[?25hDownloading funcy-2.0-py2.py3-none-any.whl (30 kB)\n",
            "Installing collected packages: funcy, pyLDAvis\n",
            "Successfully installed funcy-2.0 pyLDAvis-3.4.1\n"
          ]
        }
      ]
    },
    {
      "cell_type": "code",
      "source": [
        "import pyLDAvis.gensim_models as gensimvis\n",
        "import pyLDAvis\n",
        "\n",
        "# Prepare the visualization data\n",
        "vis_data = gensimvis.prepare(lda_model, corpus, dictionary)\n",
        "\n",
        "# Display the visualization\n",
        "pyLDAvis.display(vis_data)\n"
      ],
      "metadata": {
        "colab": {
          "base_uri": "https://localhost:8080/",
          "height": 916
        },
        "id": "vqL1vK0nPaTG",
        "outputId": "6577de6e-6b2c-4e23-b6fa-986df15099a2"
      },
      "execution_count": 18,
      "outputs": [
        {
          "output_type": "stream",
          "name": "stderr",
          "text": [
            "/usr/local/lib/python3.10/dist-packages/ipykernel/ipkernel.py:283: DeprecationWarning: `should_run_async` will not call `transform_cell` automatically in the future. Please pass the result to `transformed_cell` argument and any exception that happen during thetransform in `preprocessing_exc_tuple` in IPython 7.17 and above.\n",
            "  and should_run_async(code)\n"
          ]
        },
        {
          "output_type": "execute_result",
          "data": {
            "text/plain": [
              "<IPython.core.display.HTML object>"
            ],
            "text/html": [
              "\n",
              "<link rel=\"stylesheet\" type=\"text/css\" href=\"https://cdn.jsdelivr.net/gh/bmabey/pyLDAvis@3.4.0/pyLDAvis/js/ldavis.v1.0.0.css\">\n",
              "\n",
              "\n",
              "<div id=\"ldavis_el1991364194362602403166711094\" style=\"background-color:white;\"></div>\n",
              "<script type=\"text/javascript\">\n",
              "\n",
              "var ldavis_el1991364194362602403166711094_data = {\"mdsDat\": {\"x\": [-0.09945531229817492, -0.11094073236836093, -0.16538801136490885, -0.06866839627472415, -0.11279607452381231, -0.11418254053806626, 0.190298008840208, 0.07512360678227596, 0.202926959188918, 0.20308249255664546], \"y\": [0.15084194392548414, 0.08388693140895848, 0.009379373495809364, 0.2145768892666173, -0.21126171021160325, -0.18171606939856513, 0.017611168488674753, -0.07485597075771191, -0.04359320232276789, 0.035130646105103906], \"topics\": [1, 2, 3, 4, 5, 6, 7, 8, 9, 10], \"cluster\": [1, 1, 1, 1, 1, 1, 1, 1, 1, 1], \"Freq\": [25.867179365352882, 15.730308941262827, 13.87622145941826, 13.231448303932178, 7.820046226746255, 7.385636850223033, 5.08986685697015, 4.48421378415473, 3.2630192839761416, 3.2520589279635455]}, \"tinfo\": {\"Term\": [\"fun\", \"game\", \"great\", \"works\", \"rsquo\", \"good\", \"work\", \"skill\", \"order\", \"love\", \"questions\", \"words\", \"app\", \"answer\", \"play\", \"understand\", \"account\", \"easy\", \"alexa\", \"word\", \"phone\", \"old\", \"kids\", \"like\", \"dog\", \"link\", \"vivint\", \"really\", \"enabled\", \"day\", \"phone\", \"ooma\", \"turn\", \"commands\", \"anymote\", \"lists\", \"video\", \"system\", \"volume\", \"emergency\", \"integration\", \"setting\", \"command\", \"ring\", \"code\", \"calls\", \"send\", \"shows\", \"contacts\", \"sync\", \"mom\", \"ourgroceries\", \"call\", \"rating\", \"taken\", \"stopwatch\", \"front\", \"song\", \"twenty\", \"songs\", \"lights\", \"control\", \"devices\", \"number\", \"smart\", \"echo\", \"android\", \"seconds\", \"tv\", \"home\", \"device\", \"tell\", \"amazon\", \"name\", \"use\", \"set\", \"alexa\", \"using\", \"app\", \"issues\", \"works\", \"people\", \"could\", \"make\", \"say\", \"would\", \"able\", \"voice\", \"ask\", \"get\", \"work\", \"need\", \"skill\", \"great\", \"one\", \"well\", \"even\", \"like\", \"minute\", \"buddy\", \"weather\", \"items\", \"plan\", \"shopping\", \"groceries\", \"book\", \"week\", \"item\", \"grocery\", \"current\", \"exercises\", \"meditation\", \"peace\", \"30\", \"fantastic\", \"save\", \"fit\", \"math\", \"related\", \"ordering\", \"confused\", \"path\", \"middle\", \"reminds\", \"guys\", \"pool\", \"levels\", \"charge\", \"20\", \"days\", \"5\", \"ago\", \"list\", \"day\", \"1\", \"added\", \"add\", \"one\", \"option\", \"2\", \"would\", \"like\", \"skill\", \"7\", \"ask\", \"time\", \"done\", \"get\", \"minutes\", \"stars\", \"use\", \"also\", \"great\", \"really\", \"could\", \"need\", \"app\", \"give\", \"good\", \"every\", \"love\", \"able\", \"well\", \"word\", \"answer\", \"guessed\", \"answers\", \"animal\", \"stories\", \"vegetable\", \"letter\", \"hears\", \"letters\", \"repeated\", \"min\", \"stumped\", \"object\", \"ends\", \"f\", \"catch\", \"ten\", \"words\", \"bear\", \"misunderstands\", \"separate\", \"p\", \"beats\", \"laughing\", \"six\", \"choosing\", \"guess\", \"smile\", \"spooky\", \"questions\", \"understand\", \"wrong\", \"said\", \"sometimes\", \"correctly\", \"yes\", \"asks\", \"correct\", \"frustrating\", \"points\", \"heard\", \"thinking\", \"often\", \"recognize\", \"right\", \"played\", \"gets\", \"say\", \"game\", \"got\", \"alexa\", \"times\", \"saying\", \"asked\", \"time\", \"get\", \"even\", \"fun\", \"first\", \"would\", \"many\", \"enabled\", \"fitbit\", \"enable\", \"link\", \"uber\", \"linked\", \"bible\", \"payment\", \"remote\", \"calendar\", \"chapter\", \"disable\", \"waste\", \"accounts\", \"balance\", \"linking\", \"stock\", \"hilarious\", \"automatic\", \"homeseer\", \"enter\", \"facebook\", \"portfolio\", \"horoscope\", \"news\", \"driver\", \"pop\", \"prefer\", \"symbols\", \"result\", \"account\", \"car\", \"address\", \"page\", \"read\", \"work\", \"working\", \"useless\", \"tells\", \"says\", \"reading\", \"worked\", \"skill\", \"tried\", \"app\", \"info\", \"alexa\", \"open\", \"cannot\", \"ask\", \"get\", \"still\", \"nothing\", \"time\", \"even\", \"first\", \"one\", \"try\", \"works\", \"use\", \"entertaining\", \"choices\", \"zones\", \"food\", \"god\", \"worthless\", \"ages\", \"relaxing\", \"lots\", \"imagination\", \"engaging\", \"forecast\", \"continues\", \"sharp\", \"paths\", \"bill\", \"activate\", \"decisions\", \"banana\", \"adult\", \"surprise\", \"becomes\", \"main\", \"puts\", \"runs\", \"places\", \"batman\", \"investigation\", \"wayne\", \"sounding\", \"laugh\", \"fun\", \"interactive\", \"kids\", \"good\", \"cool\", \"game\", \"amazing\", \"story\", \"variety\", \"options\", \"enjoy\", \"pretty\", \"much\", \"guesses\", \"really\", \"lot\", \"great\", \"play\", \"think\", \"love\", \"children\", \"concept\", \"playing\", \"needs\", \"makes\", \"awesome\", \"skill\", \"like\", \"way\", \"little\", \"time\", \"keep\", \"would\", \"alexa\", \"use\", \"easy\", \"rsquo\", \"jeopardy\", \"ldquo\", \"rdquo\", \"adventure\", \"sound\", \"husband\", \"enjoyed\", \"effects\", \"record\", \"creative\", \"trivia\", \"everyday\", \"sucks\", \"shut\", \"boring\", \"pass\", \"relax\", \"kill\", \"spend\", \"noticed\", \"strange\", \"horse\", \"attempt\", \"liked\", \"loud\", \"forest\", \"rock\", \"dinner\", \"members\", \"music\", \"choose\", \"sounds\", \"ready\", \"loved\", \"play\", \"playing\", \"workout\", \"love\", \"exercise\", \"question\", \"wait\", \"guessing\", \"every\", \"way\", \"like\", \"start\", \"day\", \"end\", \"fart\", \"nice\", \"stop\", \"alexa\", \"time\", \"really\", \"game\", \"fun\", \"get\", \"great\", \"year\", \"zone\", \"magic\", \"water\", \"daughter\", \"wonderful\", \"verse\", \"tested\", \"doorbell\", \"12\", \"recipe\", \"major\", \"bed\", \"important\", \"mother\", \"drink\", \"old\", \"normal\", \"everytime\", \"complaint\", \"cooking\", \"tracking\", \"baby\", \"piece\", \"description\", \"watering\", \"glass\", \"saw\", \"confirm\", \"forgot\", \"door\", \"store\", \"hands\", \"loves\", \"awesome\", \"accurate\", \"doors\", \"spot\", \"years\", \"addition\", \"8\", \"anyone\", \"hours\", \"show\", \"close\", \"live\", \"new\", \"skill\", \"love\", \"free\", \"6\", \"alexa\", \"family\", \"fed\", \"dogs\", \"feed\", \"security\", \"ride\", \"accessing\", \"online\", \"books\", \"feeding\", \"cat\", \"yo\", \"scary\", \"finish\", \"parents\", \"natural\", \"lame\", \"joke\", \"orders\", \"voices\", \"seven\", \"incredibly\", \"goodbye\", \"basically\", \"wind\", \"listeners\", \"coffee\", \"sentences\", \"cute\", \"medicine\", \"ideas\", \"dog\", \"funny\", \"hungry\", \"wow\", \"facts\", \"family\", \"works\", \"great\", \"quick\", \"ever\", \"trouble\", \"whole\", \"best\", \"date\", \"idea\", \"love\", \"amazing\", \"yet\", \"app\", \"skill\", \"like\", \"well\", \"says\", \"interesting\", \"super\", \"login\", \"domino\", \"creepy\", \"received\", \"picked\", \"drinks\", \"recipes\", \"entertained\", \"download\", \"bother\", \"active\", \"blast\", \"obscure\", \"entered\", \"surprisingly\", \"wins\", \"mix\", \"intro\", \"detailed\", \"menu\", \"order\", \"phrasing\", \"invalid\", \"listening\", \"cylinder\", \"chair\", \"wondering\", \"rabbit\", \"cats\", \"dominos\", \"track\", \"beat\", \"keeps\", \"everyone\", \"easy\", \"previous\", \"told\", \"find\", \"minutes\", \"7\", \"useful\", \"email\", \"unable\", \"app\", \"even\", \"tried\", \"keep\", \"try\", \"vivint\", \"pizza\", \"log\", \"impressed\", \"stats\", \"customer\", \"answered\", \"supposed\", \"im\", \"reach\", \"panel\", \"lock\", \"requests\", \"skip\", \"bring\", \"mine\", \"tablet\", \"details\", \"proper\", \"feeling\", \"null\", \"degrees\", \"sky\", \"clever\", \"flow\", \"dashboard\", \"human\", \"showing\", \"reminder\", \"whatsoever\", \"horrible\", \"message\", \"reviewers\", \"twice\", \"service\", \"knows\", \"error\", \"city\", \"excellent\", \"problem\", \"bad\", \"got\", \"looking\", \"one\", \"well\", \"fixed\"], \"Freq\": [1386.0, 1108.0, 1355.0, 857.0, 547.0, 651.0, 1029.0, 1812.0, 306.0, 982.0, 574.0, 479.0, 1805.0, 420.0, 501.0, 444.0, 393.0, 377.0, 3185.0, 354.0, 504.0, 215.0, 334.0, 1124.0, 193.0, 285.0, 158.0, 643.0, 258.0, 378.0, 503.7892254696971, 198.94017384836224, 170.62366446996108, 154.6266099938995, 103.1132831579565, 91.1176641649158, 85.56175716143159, 113.77118603861337, 67.56190603901385, 64.68799333189365, 60.91485709442884, 60.29141381319964, 215.62277677521035, 56.49367720172729, 56.26910054797828, 55.62506258744425, 61.708580429270164, 51.416801424773595, 50.1762445360121, 49.104560637217155, 41.25967376320013, 39.32474997972325, 206.4435836998064, 36.74823052636442, 36.59318732412144, 37.08964839310835, 35.327271599117026, 35.339977426090684, 35.33307943389431, 34.73767601558405, 87.86568232960519, 125.75484710337491, 106.25706898213055, 158.27755564126642, 90.83832188981472, 604.0831671727333, 47.1037457111306, 67.53517182974801, 101.90224502783751, 201.34325263667685, 132.07292625779212, 285.5501215936657, 200.16238397931872, 149.77295873746183, 535.9692189380243, 247.61967450212654, 1309.061028843916, 208.1157668690334, 789.912178307515, 97.47317205738844, 424.9052994109826, 147.05070889950218, 311.45205905127193, 248.3921482181283, 320.76967676640226, 410.5998988227029, 215.60935685287302, 169.63165502191953, 282.2803592063414, 319.7678136474253, 293.7475983352642, 206.42472144120632, 363.05480414807846, 321.50909082485765, 222.42512244701953, 173.09718939971398, 175.11352428006535, 180.69923737050408, 135.2214955645867, 116.81201080732068, 113.27701420907988, 124.55730325422638, 82.78638762676842, 76.30417982317638, 72.63008300872276, 65.84898472687537, 76.18289175272754, 59.214875190885266, 52.38615280205726, 51.248652522861995, 48.467686298272135, 47.36768094564756, 42.8682383660927, 37.03116325330719, 36.94608019350671, 35.50231995624491, 35.27301042073953, 33.926412714893395, 30.332514238789397, 30.09720479555769, 27.635007116105783, 26.890759033124706, 37.957672344826186, 23.73926831417906, 22.982755751721424, 22.585513038719665, 24.64066258851728, 21.610071937422326, 95.85782514264693, 115.5014459520297, 233.38143519552915, 45.73033053789265, 187.24220131026127, 253.0420150588707, 165.8061010013661, 78.19628605603573, 186.52659090248787, 366.58514252010013, 83.97608067929865, 127.6488565651959, 399.6812810660297, 364.72774581767646, 466.9756705444902, 67.11595967438504, 245.19599610966438, 280.8088171502189, 82.750655413988, 237.6030473583811, 92.40369753625322, 94.47462414533976, 184.83010992659666, 132.19018286892168, 183.03136071622677, 140.7527475434228, 136.4904542074988, 120.97359819737306, 168.99081604874917, 103.79080806491099, 115.05447723717788, 103.12975441981224, 115.97249652350297, 103.41453290953099, 103.57334160208683, 353.5206394757708, 418.5891873762313, 179.12541778053097, 145.6751209962766, 120.28142959096351, 69.42188451592345, 54.52356387713533, 41.31272864206388, 32.327026175387644, 30.088928368727903, 27.284652815811537, 25.87339728873755, 25.500273319969608, 25.495422608641373, 25.37364255405224, 24.981866013545957, 24.6521921781663, 20.90606942012182, 459.1205706909432, 19.55788220706503, 18.962299856740408, 18.56995437766245, 17.034398239458675, 16.523771338004263, 16.053788410767876, 15.820148459593353, 15.38114435091911, 258.7931742324553, 15.0568459650324, 14.950362651283731, 519.9438848379343, 403.6702852146112, 186.93431954547714, 284.31433507807435, 231.00594238928795, 143.2880904850273, 113.65494991283809, 118.34927793455074, 178.85570009718083, 127.82328836385267, 35.485739125020565, 59.162643656831904, 99.13559222991209, 99.22949656117663, 128.91862431551883, 202.5813905448415, 94.41170660272273, 108.02573115004702, 318.8661422708444, 405.47344421669357, 161.9055013662989, 738.3482594684774, 192.10704557190564, 120.228633904862, 132.0643332787545, 253.51880993688755, 243.19785624292567, 178.05769914981022, 240.4300675592853, 139.19842403056697, 161.3311408780353, 126.387097007189, 257.5158995501753, 212.17844656215564, 162.4437599957275, 283.48291865979115, 165.72285970320985, 137.3486089967207, 173.91250818141484, 69.91214332689056, 62.06122374070677, 65.84617761360651, 61.76865292817768, 60.37116282132921, 56.26381131922164, 55.50177505762323, 43.64458661878343, 42.6846299762498, 35.116010403112696, 31.394360706568307, 27.964715545308824, 26.379731475181533, 38.58888067355756, 24.64399878310552, 23.599826772088516, 21.613280810833654, 21.082759003477534, 20.5065049052442, 20.38598079086327, 20.32156999638188, 19.576176233944793, 19.665555099895233, 375.230552581772, 44.34578049708426, 85.92875051521408, 35.899167509101304, 212.1036288022896, 648.5043657196709, 155.0902998390205, 102.53175724216875, 103.58758332532574, 236.1213055010485, 112.02971364535279, 166.0971387025305, 671.6073706645232, 183.364012559667, 606.5647836876938, 84.55708005706447, 735.684571653638, 122.0316740867747, 86.75264500096797, 201.05996030427198, 210.46981088462323, 114.24045136121896, 77.31124715857014, 175.21053666145735, 137.70557979691355, 118.5153690548823, 149.54546868207967, 98.86745932682513, 125.56852071763194, 109.6802942001116, 77.99482451720728, 50.1658446590218, 42.108823907550835, 36.047970880253786, 32.0038467421164, 28.75720353439355, 25.808408524674583, 21.0426649064836, 76.41423605526116, 19.672256106695635, 19.317581120324657, 17.815589040041313, 16.977993654852433, 16.81513941766897, 15.863710341166945, 15.616038743600484, 15.485414796784552, 13.049147956884983, 12.930361753354532, 12.612818473233938, 11.790992694267054, 11.532638130573856, 11.413294976997816, 10.419218344940704, 9.642349675846395, 9.445801877017367, 9.43409890031402, 9.028855149138655, 9.022404236913376, 8.53216237207187, 36.283504543569826, 1064.2344540842066, 40.49940178407026, 265.68325984812566, 438.63746420143025, 135.2362596384212, 617.4260319699149, 94.29662972038078, 104.93441646818923, 30.01376714619312, 62.83746479394962, 101.83429966397388, 138.78144595429657, 162.69807656609424, 42.519357406750935, 223.37749789349135, 112.10086132268052, 357.01225534027293, 170.89411255990746, 111.44274053486582, 242.16735734894564, 28.476467498799533, 40.366507882596046, 76.26674648584911, 83.03563631009256, 60.51458455243669, 68.1077655537846, 148.87374867396878, 112.90946081547303, 84.28610668400805, 60.79087776174961, 88.7172267948776, 57.49626276042118, 74.72426056050807, 84.00000297847926, 70.15686141600648, 61.11592198376859, 545.7293872341975, 122.13046328092496, 115.55449503436733, 107.16484066375328, 129.60398977048877, 105.47056387539378, 64.4328075101707, 90.98856258000535, 38.72558307479017, 29.91359008341192, 29.757058361890184, 29.397807287422715, 26.815056804814265, 29.34263162303171, 26.05541480028539, 32.91101342014397, 22.195630116356448, 19.558075555149458, 19.515530188360007, 19.344219486456286, 18.353338919410263, 17.312272554329148, 16.57205676548278, 15.967498745621894, 26.658392374080936, 14.958995601723652, 14.716585336485105, 14.64775148132639, 17.317538697134648, 13.089742924325696, 129.32144944611176, 87.51811535525947, 56.19028663600282, 62.17829516572774, 56.23903676165794, 244.08048064039903, 155.32991655312495, 81.86004122871365, 346.71884656038924, 37.78686567303198, 93.94677155115895, 56.7868603871153, 35.8247044830449, 119.96705219089868, 144.10764920920923, 220.71080349670805, 89.94545852530258, 108.60592757955072, 55.55627923564199, 39.16271756619964, 79.8171494059722, 59.68555289621141, 142.92307230915844, 99.65079684544263, 84.04540000944272, 84.54333462291999, 81.5341846176726, 74.24440006379666, 71.64467969236756, 132.53937022807284, 89.21615711098404, 74.30447325761777, 64.73116300483603, 58.147689706598, 67.83728739695225, 52.80788271684701, 39.782199782166124, 37.54536106778204, 34.168193094051595, 27.22878365767367, 26.34527217446718, 25.73571262281936, 25.060953818472044, 24.115700177783033, 22.851934826541033, 207.09738375597544, 21.843188032090772, 21.578012699163743, 21.44532110367134, 20.99506563036942, 20.674176023635443, 20.26649154343102, 19.611846747618813, 19.539681755687045, 19.052681966363274, 15.972248830188482, 15.966259192395537, 15.866788303129523, 15.6614760908427, 143.45836352409933, 74.59321969429688, 38.50993220492875, 48.20725556357451, 134.99390450639396, 47.78265310033138, 29.79855776895611, 30.095588596386037, 46.68054311778487, 31.907119792995005, 29.19934455999227, 34.09907446981463, 30.753494269408673, 49.347481725324215, 39.56840529825748, 35.32428630849988, 42.59660121021584, 67.63045366368249, 55.20513131444438, 31.905776198509525, 33.51407875200284, 56.81451140410922, 31.14761975278809, 102.19181596912483, 61.76896206410991, 47.98644596420055, 46.20295860041299, 37.03732198751031, 35.74100766046387, 34.80582974712475, 29.274639764234, 28.7777860272301, 53.69462516624186, 27.613980680021506, 24.747192484891013, 23.567096370896387, 23.115064217509275, 23.753631510584526, 22.517363016115358, 21.400526938144804, 21.294137390054104, 20.447203571801012, 18.817161460165973, 18.27616736315639, 17.37000811065339, 15.600154009070046, 15.519475158559825, 13.812472358833894, 12.109887257601065, 12.040417831736827, 53.54178495785577, 10.539545971746696, 10.282477085864278, 176.76229697322225, 71.6039616723009, 22.06090950174261, 33.52363506129088, 38.17966219848248, 97.3371850468509, 302.4843558483811, 353.51432724737646, 59.01675421537054, 52.80899345188687, 62.09391012159881, 50.218515413409285, 73.66978326045935, 35.51346432438413, 50.62614204233134, 90.02651007201248, 42.903111428212476, 43.00886956259051, 101.64162169087278, 91.75326103147545, 64.8533374756189, 52.90700761205349, 34.95742470804967, 85.51127971052172, 81.47694715838024, 42.83644078488905, 39.97328037528229, 34.0486329088857, 25.204231548369957, 23.984921683814413, 22.82589590510079, 27.76605894335666, 20.787153149853385, 20.455523517733287, 23.283846015309738, 18.77354955132259, 16.941144670581018, 15.53007384734285, 14.891496412271493, 13.839805089209147, 13.757481866484893, 13.569550093237181, 13.568836918110245, 15.912037226538319, 11.780744838080908, 284.6999200290804, 11.100154032415105, 11.072549144654246, 57.54034228989207, 10.876877982136643, 10.018919776179686, 10.00186433693327, 9.643939969863977, 28.585882001606755, 31.674222393893633, 49.89159555317445, 37.02913994274192, 82.03622996644576, 40.236841758964225, 102.52106722056244, 22.69705319629396, 41.06797114815047, 56.281810991449774, 32.245999092075294, 25.295210947522797, 33.391213365640056, 20.921112810243617, 22.830865744326168, 40.20310825565066, 29.416906919698175, 26.228845669303485, 23.193169369125584, 22.753680793816912, 157.8403628270906, 80.75230560750511, 74.94069111765931, 49.38271415472007, 37.56163983296664, 31.357545385377843, 28.843249143049317, 26.794693092367083, 26.61587199470398, 28.43874011711225, 24.91280582685867, 24.812308603711188, 20.8962296226189, 18.655412471389376, 18.545421187706467, 25.66654243762053, 17.965246543044326, 16.899923917590794, 17.842533473232145, 14.97864628789808, 14.53464702739955, 13.611988173272769, 13.096559281635342, 18.778595144464386, 12.880243232052399, 12.871774436559127, 12.839937035260496, 12.31199672275633, 11.964982222991438, 11.731638274102178, 24.001726624228713, 37.24824233962536, 17.775531074663874, 33.20023884010382, 41.71467084593591, 19.712334298202173, 24.94747572204578, 29.49878554933845, 30.99902348077195, 35.85244119898318, 30.086227357615442, 45.08863642057343, 24.806229260114087, 21.821609413297967, 19.514962809206427, 18.898875201896743], \"Total\": [1386.0, 1108.0, 1355.0, 857.0, 547.0, 651.0, 1029.0, 1812.0, 306.0, 982.0, 574.0, 479.0, 1805.0, 420.0, 501.0, 444.0, 393.0, 377.0, 3185.0, 354.0, 504.0, 215.0, 334.0, 1124.0, 193.0, 285.0, 158.0, 643.0, 258.0, 378.0, 504.6712768675684, 199.81514993473968, 171.5015598507367, 155.5170007553332, 104.00547362365583, 91.99136524192342, 86.51372400113054, 115.09206353495401, 68.43543320070805, 65.60071191802761, 61.78870629931735, 61.164843324830514, 218.89912411859103, 57.36703888183064, 57.14250890799311, 56.498432739533726, 62.711743170357146, 52.29024934492702, 51.049682100023674, 49.97806047446768, 42.13305693076028, 40.19851049570672, 211.09641147564435, 37.62171055894685, 37.4667838130651, 37.99656893935221, 36.20075205531069, 36.21386865952355, 36.20766389187477, 35.61131018685327, 91.10228240426187, 131.49325844483133, 111.80202666799902, 168.92416277102797, 96.6116938297775, 720.8288726936944, 48.89342889056555, 72.47576037594105, 114.68796171770384, 244.96635297133537, 158.8976713705463, 403.8466113300475, 270.1837376730605, 191.42291546815392, 911.9097165563672, 357.19178042423, 3185.4935888743694, 305.37136415806424, 1805.900247545307, 115.74282352406135, 857.7411275353052, 206.39081335227036, 636.5437941502037, 481.0819586341858, 763.5998762599964, 1213.428952225404, 437.078738775882, 286.94836895424197, 805.3620514186215, 1087.0427906194957, 1029.925747582043, 458.51648249200014, 1812.7432606150999, 1355.1561039209794, 940.2252861205823, 509.2310717552728, 592.9425397012731, 1124.5801308169623, 136.10068648327928, 117.69121737879935, 114.16172104600197, 125.723733442269, 83.66594707808844, 77.18341176178693, 73.51111500292264, 66.72823525593219, 77.21155823675478, 60.09429729963866, 53.265403874398864, 52.12784256273056, 49.34693695873952, 48.24682960246129, 43.74746361081794, 37.91546610987893, 37.85312298719847, 36.38152189075299, 36.15221359177793, 34.80583083659451, 31.212083745930407, 30.976938223716868, 28.514304834029446, 27.770240478054152, 39.24027879098646, 24.618701891013544, 23.862011344379212, 23.46506547719185, 25.63197912364842, 22.489294516707787, 100.99104729227915, 131.035140314917, 334.0831551780173, 52.1920927119869, 266.86034483242804, 378.869745931382, 237.44625111011314, 98.09026322062458, 351.6100231115964, 940.2252861205823, 126.03685114329106, 231.81918221297218, 1213.428952225404, 1124.5801308169623, 1812.7432606150999, 93.865504036485, 805.3620514186215, 1084.9719466320923, 136.1470528495225, 1087.0427906194957, 171.04198641545398, 192.3291972095457, 911.9097165563672, 447.3113792004109, 1355.1561039209794, 643.7804242952016, 636.5437941502037, 458.51648249200014, 1805.900247545307, 302.19800295324717, 651.5122634857529, 354.63844375251193, 982.3019456524199, 437.078738775882, 509.2310717552728, 354.8576739422102, 420.197382959485, 180.03406726749427, 146.55324043403076, 121.18578797393607, 70.2938995227247, 55.40370764845233, 42.18760409079147, 33.198573224780226, 30.962991411843245, 28.156421268619567, 26.745297612136618, 26.371888338222135, 26.367077314805023, 26.245478797456357, 25.853438559631474, 25.52390672248152, 21.802931317230406, 479.24283106807036, 20.429385990371177, 19.833853338082097, 19.442018122994043, 17.906033768416297, 17.395659366604818, 16.92539557247037, 16.691757158628278, 16.253103570258666, 273.7546633594884, 15.92852631132445, 15.822323946930366, 574.2240143185217, 444.1368052999187, 219.35094805970508, 360.4807380778254, 289.4089959174206, 174.47080886500925, 136.09194407191296, 146.16562369615542, 231.2700518632587, 166.5169418682826, 39.792188224712376, 72.59576237398406, 134.93560801143656, 139.48889815777645, 197.4200433997088, 378.1727762196398, 144.22566665055305, 176.41618544921374, 763.5998762599964, 1108.1287389032968, 318.68411387794856, 3185.4935888743694, 423.5505675418782, 219.81167976667962, 260.33371777445376, 1084.9719466320923, 1087.0427906194957, 592.9425397012731, 1386.8844567952517, 419.00729913275603, 1213.428952225404, 283.3849904662403, 258.41170116244024, 213.0597553008558, 163.32571989995904, 285.0334538749389, 166.64426669691326, 138.26358986368146, 176.03914415172284, 70.79364455067203, 62.951689236868916, 66.79130180785799, 62.66012163027449, 61.262258722051925, 57.14460486457464, 56.382550676270405, 44.52567138586998, 43.657086498445544, 35.996764214995224, 32.27536919789819, 28.84549582287659, 27.260632737217552, 39.92122327293818, 25.5248107232647, 24.48063538022178, 22.494187353403376, 21.96358897382011, 21.387312053197327, 21.266909299675596, 21.20272398888572, 20.45692627842517, 20.555569285067616, 393.16293055112845, 46.71182098525462, 92.70744059892613, 38.433874953770605, 266.57645595909247, 1029.925747582043, 207.17014384800234, 130.51663120895682, 136.9512271912858, 380.92441022188984, 157.24059480999045, 287.01986409148697, 1812.7432606150999, 342.5756757787395, 1805.900247545307, 120.12295939609899, 3185.4935888743694, 210.95849221453884, 139.58647737457736, 805.3620514186215, 1087.0427906194957, 299.20096656336204, 111.34223767074269, 1084.9719466320923, 592.9425397012731, 419.00729913275603, 940.2252861205823, 236.27803681357994, 857.7411275353052, 911.9097165563672, 78.89871387663511, 51.05380745630889, 42.99601699262377, 36.93528904071293, 32.89077091676211, 29.64418002996482, 26.695219992219318, 21.92959527065132, 79.69228995488763, 20.55907774584787, 20.20450084086054, 18.702552417934182, 17.86505267887101, 17.701945461535722, 16.75071822299882, 16.502979098177747, 16.372452594574597, 13.936006794591888, 13.818683108199942, 13.499712732190758, 12.677983456057037, 12.419570506258445, 12.300399915191969, 11.30629652279948, 10.529708731536688, 10.332815590143415, 10.32094910567966, 9.91571352108024, 9.909365531376189, 9.419090257426609, 41.18866691727617, 1386.8844567952517, 46.72130387351547, 334.57423850465756, 651.5122634857529, 188.47649442668884, 1108.1287389032968, 137.99457801302353, 159.52525344530184, 37.35103512544898, 88.20371503347361, 156.6906393926224, 252.78633888330614, 381.19941331323895, 63.19403748821143, 643.7804242952016, 257.44611664948354, 1355.1561039209794, 501.2009582594007, 294.1914703482572, 982.3019456524199, 38.039556629210104, 75.4256756626825, 286.8674318839271, 352.9646537543406, 188.62640199240434, 249.62546292785868, 1812.7432606150999, 1124.5801308169623, 513.6622862310178, 245.16237793900623, 1084.9719466320923, 222.62979632877864, 1213.428952225404, 3185.4935888743694, 911.9097165563672, 377.82533128943714, 547.157567450595, 123.01776246048544, 116.44170849596685, 108.05204436330988, 130.93719505257954, 106.74078269511861, 65.32018304028219, 92.33942823638023, 39.61311671713961, 30.80110287408675, 30.6443218140876, 30.28506010847296, 27.702473480979293, 30.322497358031523, 26.94271569618794, 34.19659840221621, 23.082912082935565, 20.4453205052694, 20.40275416091237, 20.231515274339593, 19.240742297727607, 18.199781158154615, 17.459371228144988, 16.85498581637074, 28.237401404111715, 15.846313491197543, 15.603868898406773, 15.535054338853755, 18.456034896470083, 13.977312013196807, 149.82236678640123, 118.24730008511148, 72.90799979189686, 82.13845980648172, 76.26797776435963, 501.2009582594007, 286.8674318839271, 137.05605929894125, 982.3019456524199, 50.95620403041462, 186.77018526446503, 91.85616339655486, 49.160631392344314, 354.63844375251193, 513.6622862310178, 1124.5801308169623, 234.18705640446262, 378.869745931382, 121.89262867948797, 58.18346501848381, 352.1789440483819, 185.82896637175517, 3185.4935888743694, 1084.9719466320923, 643.7804242952016, 1108.1287389032968, 1386.8844567952517, 1087.0427906194957, 1355.1561039209794, 133.42436928080215, 90.09973045502775, 75.18799568637345, 65.62728212273527, 59.032485680569245, 68.92924182055698, 53.69152892088616, 40.66623156785872, 38.42889826861527, 35.05182798855378, 28.113025092995855, 27.229099085231205, 26.619229400536003, 25.944578396009224, 25.007833014626442, 23.735594068961877, 215.14855387768264, 22.730403304685517, 22.461599789801717, 22.32892248788329, 21.878667622099982, 21.557943665326693, 21.150050201110396, 20.49533126142329, 20.42325569215099, 20.076198290532, 16.855959108355577, 16.84990842284951, 16.7504724198084, 16.545089558666945, 156.29522481800313, 88.16509415594223, 44.285027986266726, 66.91086149439349, 249.62546292785868, 68.55618754367019, 38.14125164618578, 39.720644220889014, 88.0356665914295, 46.305433118756405, 42.368736105277236, 59.256387186871784, 53.16340160252399, 185.19277218184453, 107.03029174836445, 92.13917265980979, 204.68354868794742, 1812.7432606150999, 982.3019456524199, 65.33500767331756, 87.00100499943727, 3185.4935888743694, 185.01528014076837, 103.17896071229505, 62.65508641412878, 48.87262479593709, 47.08919544249945, 37.92359999841042, 36.62710826637703, 35.69212428483, 30.160790378522684, 29.663878297303896, 55.35528606983583, 28.50007812853004, 25.63349359614945, 24.45336417770687, 24.001277573963083, 24.67507659625539, 23.40355087958815, 22.286627678368728, 22.180821555426462, 21.333411474035795, 19.7034189049749, 19.162437835590058, 18.256312573297464, 16.48645828392653, 16.407545835921788, 14.69872468177284, 12.996107746326555, 12.926755875798268, 57.809657119488, 11.425611493828587, 11.16863912138163, 193.17195467140124, 81.68315642028357, 24.384860091529752, 41.435821990420756, 51.23089418551532, 185.01528014076837, 857.7411275353052, 1355.1561039209794, 104.93514041516907, 89.51105298907775, 113.88414300774606, 84.7635317428803, 158.01953869469182, 57.83663743937348, 199.8533045850528, 982.3019456524199, 137.99457801302353, 139.05511356181773, 1805.900247545307, 1812.7432606150999, 1124.5801308169623, 509.2310717552728, 380.92441022188984, 86.39917966167351, 82.47879896681948, 43.72430611695028, 40.86130757867963, 34.94731529301333, 26.092227244769887, 24.87293125434167, 23.714038258884415, 28.847933723611334, 21.675142620929442, 21.343358134338786, 24.34768287547884, 19.661477332361123, 17.82902247788037, 16.4181346512777, 15.779341757081992, 14.727701166093329, 14.645338590671658, 14.457407168635843, 14.45674776337397, 16.96964806192078, 12.66901223659644, 306.99841530967734, 11.988347441078659, 11.96037325570635, 62.19015508994796, 11.764752870664012, 10.906763634944218, 10.889873208266486, 10.546176482545143, 33.627630928340224, 37.66319738430289, 79.39518208634762, 56.19223726085003, 201.65701786534308, 84.07186229350981, 377.82533128943714, 36.741059194637046, 115.25796523641922, 256.68114546104925, 171.04198641545398, 93.865504036485, 250.13301139598877, 50.45919853208, 79.64969200086976, 1805.900247545307, 592.9425397012731, 342.5756757787395, 222.62979632877864, 236.27803681357994, 158.72396645320524, 81.63614264126471, 75.8243598764377, 50.26700349572881, 38.44550905373509, 32.241163137909005, 29.73076633214087, 27.678416258587937, 27.499576680611728, 29.394580264036648, 25.796416529483277, 25.696046334515636, 21.779924020938786, 19.539554685351522, 19.429126417607918, 26.90126779733211, 18.848895508623347, 17.783671892341893, 18.838308636173917, 15.862327038935298, 15.418223227368246, 14.495800008301606, 13.980295540207582, 20.06585139874352, 13.764034571661616, 13.755630176389506, 13.7237117171722, 13.195689225362454, 12.848805411500202, 12.615349538387276, 30.352841379152714, 67.98263018850395, 22.922582380713635, 66.41685191452899, 110.34684808692542, 30.588350120671222, 50.45794224150674, 75.63827489844229, 94.43924548843577, 150.91274748854005, 98.03837626980109, 318.68411387794856, 85.41609598111384, 940.2252861205823, 509.2310717552728, 54.306002715260554], \"Category\": [\"Default\", \"Default\", \"Default\", \"Default\", \"Default\", \"Default\", \"Default\", \"Default\", \"Default\", \"Default\", \"Default\", \"Default\", \"Default\", \"Default\", \"Default\", \"Default\", \"Default\", \"Default\", \"Default\", \"Default\", \"Default\", \"Default\", \"Default\", \"Default\", \"Default\", \"Default\", \"Default\", \"Default\", \"Default\", \"Default\", \"Topic1\", \"Topic1\", \"Topic1\", \"Topic1\", \"Topic1\", \"Topic1\", \"Topic1\", \"Topic1\", \"Topic1\", \"Topic1\", \"Topic1\", \"Topic1\", \"Topic1\", \"Topic1\", \"Topic1\", \"Topic1\", \"Topic1\", \"Topic1\", \"Topic1\", \"Topic1\", \"Topic1\", \"Topic1\", \"Topic1\", \"Topic1\", \"Topic1\", \"Topic1\", \"Topic1\", \"Topic1\", \"Topic1\", \"Topic1\", \"Topic1\", \"Topic1\", \"Topic1\", \"Topic1\", \"Topic1\", \"Topic1\", \"Topic1\", \"Topic1\", \"Topic1\", \"Topic1\", \"Topic1\", \"Topic1\", \"Topic1\", \"Topic1\", \"Topic1\", \"Topic1\", \"Topic1\", \"Topic1\", \"Topic1\", \"Topic1\", \"Topic1\", \"Topic1\", \"Topic1\", \"Topic1\", \"Topic1\", \"Topic1\", \"Topic1\", \"Topic1\", \"Topic1\", \"Topic1\", \"Topic1\", \"Topic1\", \"Topic1\", \"Topic1\", \"Topic1\", \"Topic1\", \"Topic1\", \"Topic1\", \"Topic2\", \"Topic2\", \"Topic2\", \"Topic2\", \"Topic2\", \"Topic2\", \"Topic2\", \"Topic2\", \"Topic2\", \"Topic2\", \"Topic2\", \"Topic2\", \"Topic2\", \"Topic2\", \"Topic2\", \"Topic2\", \"Topic2\", \"Topic2\", \"Topic2\", \"Topic2\", \"Topic2\", \"Topic2\", \"Topic2\", \"Topic2\", \"Topic2\", \"Topic2\", \"Topic2\", \"Topic2\", \"Topic2\", \"Topic2\", \"Topic2\", \"Topic2\", \"Topic2\", \"Topic2\", \"Topic2\", \"Topic2\", \"Topic2\", \"Topic2\", \"Topic2\", \"Topic2\", \"Topic2\", \"Topic2\", \"Topic2\", \"Topic2\", \"Topic2\", \"Topic2\", \"Topic2\", \"Topic2\", \"Topic2\", \"Topic2\", \"Topic2\", \"Topic2\", \"Topic2\", \"Topic2\", \"Topic2\", \"Topic2\", \"Topic2\", \"Topic2\", \"Topic2\", \"Topic2\", \"Topic2\", \"Topic2\", \"Topic2\", \"Topic2\", \"Topic2\", \"Topic3\", \"Topic3\", \"Topic3\", \"Topic3\", \"Topic3\", \"Topic3\", \"Topic3\", \"Topic3\", \"Topic3\", \"Topic3\", \"Topic3\", \"Topic3\", \"Topic3\", \"Topic3\", \"Topic3\", \"Topic3\", \"Topic3\", \"Topic3\", \"Topic3\", \"Topic3\", \"Topic3\", \"Topic3\", \"Topic3\", \"Topic3\", \"Topic3\", \"Topic3\", \"Topic3\", \"Topic3\", \"Topic3\", \"Topic3\", \"Topic3\", \"Topic3\", \"Topic3\", \"Topic3\", \"Topic3\", \"Topic3\", \"Topic3\", \"Topic3\", \"Topic3\", \"Topic3\", \"Topic3\", \"Topic3\", \"Topic3\", \"Topic3\", \"Topic3\", \"Topic3\", \"Topic3\", \"Topic3\", \"Topic3\", \"Topic3\", \"Topic3\", \"Topic3\", \"Topic3\", \"Topic3\", \"Topic3\", \"Topic3\", \"Topic3\", \"Topic3\", \"Topic3\", \"Topic3\", \"Topic3\", \"Topic3\", \"Topic4\", \"Topic4\", \"Topic4\", \"Topic4\", \"Topic4\", \"Topic4\", \"Topic4\", \"Topic4\", \"Topic4\", \"Topic4\", \"Topic4\", \"Topic4\", \"Topic4\", \"Topic4\", \"Topic4\", \"Topic4\", \"Topic4\", \"Topic4\", \"Topic4\", \"Topic4\", \"Topic4\", \"Topic4\", \"Topic4\", \"Topic4\", \"Topic4\", \"Topic4\", \"Topic4\", \"Topic4\", \"Topic4\", \"Topic4\", \"Topic4\", \"Topic4\", \"Topic4\", \"Topic4\", \"Topic4\", \"Topic4\", \"Topic4\", \"Topic4\", \"Topic4\", \"Topic4\", \"Topic4\", \"Topic4\", \"Topic4\", \"Topic4\", \"Topic4\", \"Topic4\", \"Topic4\", \"Topic4\", \"Topic4\", \"Topic4\", \"Topic4\", \"Topic4\", \"Topic4\", \"Topic4\", \"Topic4\", \"Topic4\", \"Topic4\", \"Topic4\", \"Topic4\", \"Topic4\", \"Topic5\", \"Topic5\", \"Topic5\", \"Topic5\", \"Topic5\", \"Topic5\", \"Topic5\", \"Topic5\", \"Topic5\", \"Topic5\", \"Topic5\", \"Topic5\", \"Topic5\", \"Topic5\", \"Topic5\", \"Topic5\", \"Topic5\", \"Topic5\", \"Topic5\", \"Topic5\", \"Topic5\", \"Topic5\", \"Topic5\", \"Topic5\", \"Topic5\", \"Topic5\", \"Topic5\", \"Topic5\", \"Topic5\", \"Topic5\", \"Topic5\", \"Topic5\", \"Topic5\", \"Topic5\", \"Topic5\", \"Topic5\", \"Topic5\", \"Topic5\", \"Topic5\", \"Topic5\", \"Topic5\", \"Topic5\", \"Topic5\", \"Topic5\", \"Topic5\", \"Topic5\", \"Topic5\", \"Topic5\", \"Topic5\", \"Topic5\", \"Topic5\", \"Topic5\", \"Topic5\", \"Topic5\", \"Topic5\", \"Topic5\", \"Topic5\", \"Topic5\", \"Topic5\", \"Topic5\", \"Topic5\", \"Topic5\", \"Topic5\", \"Topic5\", \"Topic5\", \"Topic5\", \"Topic5\", \"Topic6\", \"Topic6\", \"Topic6\", \"Topic6\", \"Topic6\", \"Topic6\", \"Topic6\", \"Topic6\", \"Topic6\", \"Topic6\", \"Topic6\", \"Topic6\", \"Topic6\", \"Topic6\", \"Topic6\", \"Topic6\", \"Topic6\", \"Topic6\", \"Topic6\", \"Topic6\", \"Topic6\", \"Topic6\", \"Topic6\", \"Topic6\", \"Topic6\", \"Topic6\", \"Topic6\", \"Topic6\", \"Topic6\", \"Topic6\", \"Topic6\", \"Topic6\", \"Topic6\", \"Topic6\", \"Topic6\", \"Topic6\", \"Topic6\", \"Topic6\", \"Topic6\", \"Topic6\", \"Topic6\", \"Topic6\", \"Topic6\", \"Topic6\", \"Topic6\", \"Topic6\", \"Topic6\", \"Topic6\", \"Topic6\", \"Topic6\", \"Topic6\", \"Topic6\", \"Topic6\", \"Topic6\", \"Topic6\", \"Topic6\", \"Topic6\", \"Topic6\", \"Topic6\", \"Topic7\", \"Topic7\", \"Topic7\", \"Topic7\", \"Topic7\", \"Topic7\", \"Topic7\", \"Topic7\", \"Topic7\", \"Topic7\", \"Topic7\", \"Topic7\", \"Topic7\", \"Topic7\", \"Topic7\", \"Topic7\", \"Topic7\", \"Topic7\", \"Topic7\", \"Topic7\", \"Topic7\", \"Topic7\", \"Topic7\", \"Topic7\", \"Topic7\", \"Topic7\", \"Topic7\", \"Topic7\", \"Topic7\", \"Topic7\", \"Topic7\", \"Topic7\", \"Topic7\", \"Topic7\", \"Topic7\", \"Topic7\", \"Topic7\", \"Topic7\", \"Topic7\", \"Topic7\", \"Topic7\", \"Topic7\", \"Topic7\", \"Topic7\", \"Topic7\", \"Topic7\", \"Topic7\", \"Topic7\", \"Topic7\", \"Topic7\", \"Topic7\", \"Topic7\", \"Topic7\", \"Topic8\", \"Topic8\", \"Topic8\", \"Topic8\", \"Topic8\", \"Topic8\", \"Topic8\", \"Topic8\", \"Topic8\", \"Topic8\", \"Topic8\", \"Topic8\", \"Topic8\", \"Topic8\", \"Topic8\", \"Topic8\", \"Topic8\", \"Topic8\", \"Topic8\", \"Topic8\", \"Topic8\", \"Topic8\", \"Topic8\", \"Topic8\", \"Topic8\", \"Topic8\", \"Topic8\", \"Topic8\", \"Topic8\", \"Topic8\", \"Topic8\", \"Topic8\", \"Topic8\", \"Topic8\", \"Topic8\", \"Topic8\", \"Topic8\", \"Topic8\", \"Topic8\", \"Topic8\", \"Topic8\", \"Topic8\", \"Topic8\", \"Topic8\", \"Topic8\", \"Topic8\", \"Topic8\", \"Topic8\", \"Topic8\", \"Topic8\", \"Topic8\", \"Topic8\", \"Topic8\", \"Topic9\", \"Topic9\", \"Topic9\", \"Topic9\", \"Topic9\", \"Topic9\", \"Topic9\", \"Topic9\", \"Topic9\", \"Topic9\", \"Topic9\", \"Topic9\", \"Topic9\", \"Topic9\", \"Topic9\", \"Topic9\", \"Topic9\", \"Topic9\", \"Topic9\", \"Topic9\", \"Topic9\", \"Topic9\", \"Topic9\", \"Topic9\", \"Topic9\", \"Topic9\", \"Topic9\", \"Topic9\", \"Topic9\", \"Topic9\", \"Topic9\", \"Topic9\", \"Topic9\", \"Topic9\", \"Topic9\", \"Topic9\", \"Topic9\", \"Topic9\", \"Topic9\", \"Topic9\", \"Topic9\", \"Topic9\", \"Topic9\", \"Topic9\", \"Topic9\", \"Topic9\", \"Topic9\", \"Topic9\", \"Topic9\", \"Topic9\", \"Topic10\", \"Topic10\", \"Topic10\", \"Topic10\", \"Topic10\", \"Topic10\", \"Topic10\", \"Topic10\", \"Topic10\", \"Topic10\", \"Topic10\", \"Topic10\", \"Topic10\", \"Topic10\", \"Topic10\", \"Topic10\", \"Topic10\", \"Topic10\", \"Topic10\", \"Topic10\", \"Topic10\", \"Topic10\", \"Topic10\", \"Topic10\", \"Topic10\", \"Topic10\", \"Topic10\", \"Topic10\", \"Topic10\", \"Topic10\", \"Topic10\", \"Topic10\", \"Topic10\", \"Topic10\", \"Topic10\", \"Topic10\", \"Topic10\", \"Topic10\", \"Topic10\", \"Topic10\", \"Topic10\", \"Topic10\", \"Topic10\", \"Topic10\", \"Topic10\", \"Topic10\"], \"logprob\": [30.0, 29.0, 28.0, 27.0, 26.0, 25.0, 24.0, 23.0, 22.0, 21.0, 20.0, 19.0, 18.0, 17.0, 16.0, 15.0, 14.0, 13.0, 12.0, 11.0, 10.0, 9.0, 8.0, 7.0, 6.0, 5.0, 4.0, 3.0, 2.0, 1.0, -4.2773, -5.2065, -5.36, -5.4585, -5.8636, -5.9873, -6.0502, -5.7653, -6.2864, -6.3299, -6.39, -6.4003, -5.1259, -6.4653, -6.4693, -6.4808, -6.377, -6.5595, -6.5839, -6.6055, -6.7796, -6.8276, -5.1694, -6.8954, -6.8996, -6.8861, -6.9348, -6.9344, -6.9346, -6.9516, -6.0237, -5.6651, -5.8336, -5.4351, -5.9904, -4.0958, -6.6471, -6.2868, -5.8755, -5.1945, -5.6161, -4.845, -5.2003, -5.4903, -4.2154, -4.9876, -3.3224, -5.1614, -3.8275, -5.9199, -4.4476, -5.5087, -4.7582, -4.9845, -4.7287, -4.4818, -5.126, -5.3658, -4.8566, -4.7319, -4.8167, -5.1695, -4.6049, -4.7264, -5.0949, -5.3456, -5.334, -5.3026, -5.0952, -5.2415, -5.2722, -5.1773, -5.5858, -5.6674, -5.7167, -5.8147, -5.6689, -5.9209, -6.0434, -6.0654, -6.1212, -6.1441, -6.2439, -6.3903, -6.3926, -6.4325, -6.439, -6.4779, -6.5899, -6.5976, -6.683, -6.7103, -6.3656, -6.8349, -6.8673, -6.8848, -6.7977, -6.9289, -5.4392, -5.2528, -4.5494, -6.1793, -4.7697, -4.4685, -4.8913, -5.6429, -4.7735, -4.0978, -5.5715, -5.1528, -4.0114, -4.1029, -3.8558, -5.7957, -4.5, -4.3644, -5.5862, -4.5315, -5.4759, -5.4537, -4.7826, -5.1178, -4.7924, -5.0551, -5.0858, -5.2065, -4.8722, -5.3597, -5.2567, -5.3661, -5.2487, -5.3633, -5.3618, -4.0087, -3.8398, -4.6886, -4.8953, -5.0868, -5.6365, -5.878, -6.1555, -6.4008, -6.4725, -6.5703, -6.6235, -6.638, -6.6382, -6.643, -6.6585, -6.6718, -6.8366, -3.7474, -6.9033, -6.9342, -6.9551, -7.0414, -7.0719, -7.1007, -7.1154, -7.1435, -4.3206, -7.1648, -7.1719, -3.6229, -3.8761, -4.6459, -4.2266, -4.4342, -4.9118, -5.1435, -5.103, -4.6901, -5.026, -6.3075, -5.7964, -5.2802, -5.2792, -5.0175, -4.5655, -5.329, -5.1943, -4.1119, -3.8716, -4.7897, -3.2723, -4.6186, -5.0873, -4.9934, -4.3412, -4.3828, -4.6946, -4.3942, -4.9408, -4.7932, -5.0373, -4.278, -4.4717, -4.7388, -4.1819, -4.7188, -4.9066, -4.6705, -5.5818, -5.701, -5.6418, -5.7057, -5.7286, -5.799, -5.8127, -6.053, -6.0752, -6.2704, -6.3825, -6.4981, -6.5565, -6.1761, -6.6246, -6.6678, -6.7558, -6.7806, -6.8083, -6.8142, -6.8174, -6.8548, -6.8502, -3.9015, -6.0371, -5.3756, -6.2484, -4.472, -3.3544, -4.7851, -5.1989, -5.1887, -4.3647, -5.1103, -4.7165, -3.3194, -4.6176, -3.4213, -5.3917, -3.2283, -5.0248, -5.366, -4.5255, -4.4797, -5.0908, -5.4812, -4.6631, -4.904, -5.054, -4.8215, -5.2353, -4.9962, -5.1315, -4.9465, -5.3878, -5.5629, -5.7183, -5.8373, -5.9443, -6.0525, -6.2566, -4.967, -6.324, -6.3422, -6.4231, -6.4713, -6.4809, -6.5391, -6.5549, -6.5633, -6.7345, -6.7436, -6.7685, -6.8358, -6.858, -6.8684, -6.9595, -7.037, -7.0576, -7.0588, -7.1028, -7.1035, -7.1593, -5.7118, -2.3332, -5.6019, -3.7209, -3.2195, -4.3962, -2.8776, -4.7567, -4.6498, -5.9015, -5.1626, -4.6798, -4.3703, -4.2113, -5.5532, -3.8943, -4.5838, -3.4254, -4.1621, -4.5897, -3.8136, -5.9541, -5.6052, -4.9689, -4.8839, -5.2003, -5.0821, -4.3001, -4.5766, -4.869, -5.1957, -4.8177, -5.2515, -4.9894, -4.8724, -5.0524, -5.1904, -2.9439, -4.4409, -4.4963, -4.5717, -4.3815, -4.5876, -5.0804, -4.7353, -5.5895, -5.8477, -5.853, -5.8651, -5.9571, -5.867, -5.9858, -5.7522, -6.1461, -6.2726, -6.2748, -6.2836, -6.3362, -6.3946, -6.4383, -6.4755, -5.9629, -6.5407, -6.5571, -6.5617, -6.3943, -6.6742, -4.3837, -4.7742, -5.2173, -5.116, -5.2164, -3.7485, -4.2005, -4.841, -3.3975, -5.6141, -4.7033, -5.2067, -5.6674, -4.4588, -4.2755, -3.8492, -4.7468, -4.5583, -5.2286, -5.5783, -4.8663, -5.1569, -4.2837, -4.6444, -4.8147, -4.8088, -4.845, -4.9387, -4.9743, -3.9869, -4.3827, -4.5656, -4.7035, -4.8108, -4.6566, -4.9071, -5.1903, -5.2482, -5.3424, -5.5695, -5.6025, -5.6259, -5.6524, -5.6909, -5.7447, -3.5406, -5.7899, -5.8021, -5.8082, -5.8295, -5.8449, -5.8648, -5.8976, -5.9013, -5.9265, -6.1029, -6.1033, -6.1095, -6.1225, -3.9077, -4.5617, -5.2228, -4.9982, -3.9685, -5.0071, -5.4793, -5.4694, -5.0304, -5.4109, -5.4996, -5.3445, -5.4477, -4.9749, -5.1957, -5.3092, -5.122, -4.6597, -4.8627, -5.411, -5.3618, -4.8339, -5.435, -4.1202, -4.6237, -4.8761, -4.914, -5.1351, -5.1708, -5.1973, -5.3703, -5.3874, -4.7637, -5.4287, -5.5383, -5.5872, -5.6066, -5.5793, -5.6328, -5.6836, -5.6886, -5.7292, -5.8123, -5.8415, -5.8923, -5.9998, -6.005, -6.1215, -6.253, -6.2588, -4.7666, -6.3919, -6.4166, -3.5722, -4.4759, -5.6532, -5.2348, -5.1047, -4.1689, -3.035, -2.8791, -4.6692, -4.7804, -4.6184, -4.8307, -4.4475, -5.1771, -4.8226, -4.2469, -4.9881, -4.9856, -4.1256, -4.2279, -4.5749, -4.7785, -5.1929, -3.9805, -4.0288, -4.6718, -4.7409, -4.9014, -5.2021, -5.2517, -5.3012, -5.1053, -5.3948, -5.4109, -5.2814, -5.4967, -5.5994, -5.6864, -5.7284, -5.8016, -5.8076, -5.8213, -5.8214, -5.6621, -5.9627, -2.7777, -6.0222, -6.0247, -4.3767, -6.0425, -6.1247, -6.1264, -6.1628, -5.0762, -4.9736, -4.5193, -4.8174, -4.022, -4.7344, -3.7991, -5.3069, -4.7139, -4.3988, -4.9557, -5.1985, -4.9208, -5.3884, -5.301, -4.7352, -5.0476, -5.1623, -5.2853, -5.3044, -3.3642, -4.0344, -4.1091, -4.5262, -4.7998, -4.9803, -5.0639, -5.1376, -5.1443, -5.078, -5.2104, -5.2144, -5.3862, -5.4996, -5.5056, -5.1806, -5.5373, -5.5985, -5.5442, -5.7192, -5.7492, -5.8148, -5.8534, -5.4931, -5.8701, -5.8707, -5.8732, -5.9152, -5.9438, -5.9635, -5.2477, -4.8082, -5.548, -4.9232, -4.6949, -5.4445, -5.209, -5.0414, -4.9918, -4.8464, -5.0217, -4.6171, -5.2147, -5.3429, -5.4546, -5.4867], \"loglift\": [30.0, 29.0, 28.0, 27.0, 26.0, 25.0, 24.0, 23.0, 22.0, 21.0, 20.0, 19.0, 18.0, 17.0, 16.0, 15.0, 14.0, 13.0, 12.0, 11.0, 10.0, 9.0, 8.0, 7.0, 6.0, 5.0, 4.0, 3.0, 2.0, 1.0, 1.3504, 1.3478, 1.3471, 1.3465, 1.3436, 1.3427, 1.3411, 1.3407, 1.3393, 1.3382, 1.338, 1.3378, 1.3371, 1.3369, 1.3368, 1.3366, 1.3361, 1.3354, 1.3349, 1.3346, 1.3312, 1.3302, 1.3299, 1.3287, 1.3286, 1.328, 1.3278, 1.3278, 1.3277, 1.3274, 1.316, 1.3076, 1.3013, 1.2871, 1.2906, 1.1755, 1.3149, 1.2816, 1.234, 1.1561, 1.1673, 1.0056, 1.0522, 1.1068, 0.8207, 0.9858, 0.4629, 0.9688, 0.5253, 1.1804, 0.6498, 1.0132, 0.6374, 0.6912, 0.4849, 0.2686, 0.6456, 0.8265, 0.3038, 0.1286, 0.0977, 0.5541, -0.2558, -0.0865, -0.0893, 0.2731, 0.1325, -0.4761, 1.8431, 1.8421, 1.8418, 1.8403, 1.839, 1.8381, 1.8375, 1.8363, 1.8362, 1.8348, 1.8329, 1.8326, 1.8316, 1.8312, 1.8293, 1.826, 1.8253, 1.8251, 1.825, 1.824, 1.821, 1.8208, 1.8183, 1.8174, 1.8163, 1.8132, 1.812, 1.8114, 1.8101, 1.8097, 1.7974, 1.7234, 1.4909, 1.7174, 1.4953, 1.4459, 1.4905, 1.6229, 1.2156, 0.9077, 1.4435, 1.2529, 0.739, 0.7236, 0.4933, 1.5141, 0.6603, 0.4979, 1.3517, 0.329, 1.2338, 1.1387, 0.2535, 0.6306, -0.1524, 0.3292, 0.3098, 0.5172, -0.5194, 0.7809, 0.1157, 0.6145, -0.287, 0.4082, 0.257, 1.9712, 1.9712, 1.9699, 1.969, 1.9675, 1.9625, 1.959, 1.954, 1.9484, 1.9464, 1.9435, 1.9419, 1.9414, 1.9414, 1.9412, 1.9407, 1.9402, 1.933, 1.9321, 1.9314, 1.9301, 1.9291, 1.9251, 1.9236, 1.9221, 1.9214, 1.9199, 1.9188, 1.9187, 1.9183, 1.8757, 1.8795, 1.8151, 1.7376, 1.7496, 1.7781, 1.7948, 1.7639, 1.718, 1.7105, 1.8605, 1.7704, 1.6667, 1.6344, 1.5488, 1.3508, 1.5513, 1.4845, 1.1017, 0.9696, 1.2978, 0.513, 1.1844, 1.3716, 1.2963, 0.5211, 0.4777, 0.772, 0.2226, 0.873, -0.0428, 1.1675, 2.0191, 2.0184, 2.0172, 2.0171, 2.017, 2.0159, 2.0104, 2.01, 2.0083, 2.0083, 2.0082, 2.0079, 2.007, 2.0068, 2.0026, 2.0, 1.9978, 1.9949, 1.9916, 1.9897, 1.9886, 1.9875, 1.9859, 1.9826, 1.9816, 1.9805, 1.9803, 1.9801, 1.9786, 1.9783, 1.9759, 1.9706, 1.9466, 1.9543, 1.794, 1.56, 1.733, 1.7812, 1.7434, 1.5443, 1.6836, 1.4756, 1.0297, 1.3976, 0.9316, 1.6715, 0.557, 1.4752, 1.547, 0.6349, 0.3807, 1.0598, 1.6578, 0.1993, 0.5626, 0.7597, 0.1841, 1.1513, 0.1011, -0.0954, 2.537, 2.5309, 2.5276, 2.5242, 2.5211, 2.5181, 2.5147, 2.5072, 2.5065, 2.5044, 2.5036, 2.4999, 2.4976, 2.4971, 2.4941, 2.4932, 2.4928, 2.4827, 2.482, 2.4805, 2.4759, 2.4744, 2.4736, 2.4668, 2.4604, 2.4587, 2.4586, 2.4548, 2.4547, 2.4496, 2.4217, 2.2837, 2.4056, 2.3179, 2.1529, 2.2165, 1.9636, 2.1677, 2.1296, 2.3298, 2.2094, 2.1176, 1.9488, 1.6971, 2.1522, 1.49, 1.7171, 1.2146, 1.4725, 1.5778, 1.1482, 2.2589, 1.9233, 1.2237, 1.1014, 1.4116, 1.2496, 0.049, 0.2499, 0.7411, 1.154, 0.0446, 1.1947, -0.2389, -1.0871, -0.0163, 0.7268, 2.603, 2.5984, 2.598, 2.5974, 2.5954, 2.5937, 2.592, 2.5909, 2.583, 2.5764, 2.5763, 2.5759, 2.5731, 2.5728, 2.5721, 2.5673, 2.5664, 2.5613, 2.5612, 2.5608, 2.5584, 2.5556, 2.5535, 2.5515, 2.5481, 2.548, 2.5471, 2.5468, 2.542, 2.54, 2.4585, 2.3047, 2.3452, 2.3272, 2.301, 1.8861, 1.9922, 2.0903, 1.5642, 2.3066, 1.9185, 2.1247, 2.2892, 1.5218, 1.3346, 0.9773, 1.6487, 1.3562, 1.8199, 2.2098, 1.1212, 1.4699, -0.4984, 0.218, 0.5696, 0.0325, -0.2282, -0.0782, -0.3343, 2.9713, 2.9681, 2.9661, 2.9642, 2.9628, 2.962, 2.9613, 2.9559, 2.9547, 2.9524, 2.946, 2.9449, 2.9442, 2.9433, 2.9416, 2.94, 2.9398, 2.9381, 2.9378, 2.9375, 2.9367, 2.9361, 2.9352, 2.9339, 2.9337, 2.9256, 2.9241, 2.9241, 2.9237, 2.923, 2.8922, 2.8108, 2.8382, 2.6501, 2.3632, 2.6169, 2.7311, 2.7004, 2.3435, 2.6055, 2.6057, 2.4253, 2.4306, 1.6554, 1.9828, 2.0192, 1.4082, -0.3106, 0.0991, 2.2612, 2.024, -1.0487, 1.1962, 3.095, 3.0904, 3.0863, 3.0856, 3.081, 3.0801, 3.0795, 3.0748, 3.0743, 3.0741, 3.073, 3.0694, 3.0677, 3.067, 3.0665, 3.066, 3.064, 3.0638, 3.0622, 3.0586, 3.0573, 3.0548, 3.0493, 3.049, 3.0424, 3.034, 3.0336, 3.0279, 3.0239, 3.0219, 3.0158, 2.9729, 3.0045, 2.8927, 2.8106, 2.4623, 2.0623, 1.7609, 2.5291, 2.5769, 2.4981, 2.5811, 2.3415, 2.6169, 1.7315, 0.7148, 1.9363, 1.9311, 0.2272, 0.1211, 0.2516, 0.8402, 0.7161, 3.4122, 3.4103, 3.402, 3.4005, 3.3965, 3.3879, 3.3862, 3.3843, 3.3843, 3.3807, 3.38, 3.3778, 3.3763, 3.3714, 3.3669, 3.3646, 3.3603, 3.36, 3.3591, 3.3591, 3.3582, 3.3498, 3.3471, 3.3455, 3.3454, 3.3448, 3.344, 3.3376, 3.3375, 3.3331, 3.2601, 3.2493, 2.9579, 3.0054, 2.5231, 2.6856, 2.1182, 2.9409, 2.3906, 1.9051, 1.754, 2.1113, 1.4088, 2.5421, 2.173, -0.3824, 0.419, 0.8529, 1.1609, 1.0822, 3.4203, 3.415, 3.4142, 3.4081, 3.4026, 3.3981, 3.3956, 3.3934, 3.3932, 3.3928, 3.391, 3.3909, 3.3845, 3.3796, 3.3793, 3.3789, 3.3779, 3.3749, 3.3716, 3.3686, 3.3669, 3.363, 3.3606, 3.3596, 3.3595, 3.3595, 3.3593, 3.3566, 3.3546, 3.3533, 3.1911, 2.8242, 3.1716, 2.7325, 2.4531, 2.9865, 2.7215, 2.4843, 2.3119, 1.9886, 2.2446, 1.4703, 2.1894, -0.3373, 0.1642, 2.3703]}, \"token.table\": {\"Topic\": [1, 2, 3, 4, 7, 7, 1, 2, 3, 4, 7, 10, 1, 2, 2, 1, 2, 3, 1, 2, 3, 4, 7, 1, 2, 9, 1, 5, 7, 1, 2, 3, 4, 6, 10, 8, 1, 4, 4, 5, 7, 5, 9, 1, 2, 4, 10, 2, 4, 10, 4, 7, 1, 4, 5, 6, 7, 5, 2, 7, 1, 2, 3, 4, 5, 6, 7, 8, 9, 10, 1, 2, 3, 4, 5, 6, 7, 5, 8, 1, 2, 4, 7, 1, 10, 3, 3, 6, 10, 3, 1, 1, 7, 10, 1, 2, 4, 5, 6, 7, 8, 9, 10, 1, 2, 3, 4, 7, 8, 10, 1, 2, 3, 4, 6, 7, 8, 10, 1, 3, 8, 6, 4, 1, 2, 5, 7, 8, 7, 1, 2, 5, 6, 10, 4, 5, 8, 5, 3, 6, 9, 3, 5, 7, 1, 2, 4, 7, 8, 2, 4, 5, 9, 2, 8, 3, 6, 9, 10, 2, 4, 1, 2, 1, 1, 2, 3, 4, 10, 4, 6, 3, 8, 3, 2, 3, 9, 9, 4, 2, 2, 5, 7, 5, 2, 3, 6, 3, 1, 10, 2, 10, 1, 2, 3, 7, 1, 8, 1, 4, 1, 7, 1, 2, 3, 5, 7, 7, 2, 1, 5, 1, 10, 7, 1, 4, 5, 10, 1, 3, 4, 1, 3, 4, 1, 2, 3, 4, 5, 6, 7, 6, 9, 2, 10, 3, 8, 9, 10, 4, 8, 7, 2, 4, 6, 10, 2, 4, 8, 9, 5, 10, 7, 9, 10, 1, 4, 7, 1, 4, 6, 4, 3, 8, 8, 9, 9, 10, 1, 2, 4, 5, 1, 7, 7, 1, 7, 9, 7, 9, 4, 1, 2, 4, 5, 9, 1, 2, 3, 4, 5, 7, 10, 6, 1, 7, 9, 1, 4, 4, 2, 3, 6, 3, 5, 3, 5, 6, 6, 1, 4, 9, 9, 5, 4, 10, 1, 2, 3, 4, 5, 6, 7, 9, 1, 2, 3, 8, 1, 2, 3, 4, 6, 10, 6, 1, 2, 4, 9, 7, 1, 5, 10, 6, 9, 2, 3, 4, 3, 7, 8, 1, 2, 6, 7, 8, 2, 1, 3, 6, 8, 8, 8, 10, 1, 2, 4, 7, 9, 8, 1, 2, 3, 4, 5, 6, 9, 2, 4, 2, 3, 10, 10, 5, 5, 6, 7, 1, 7, 1, 1, 3, 4, 9, 3, 5, 6, 3, 8, 3, 5, 6, 1, 2, 3, 4, 6, 10, 2, 3, 5, 1, 2, 3, 4, 5, 6, 10, 7, 5, 1, 2, 4, 5, 6, 8, 10, 8, 1, 2, 3, 4, 6, 7, 8, 10, 1, 2, 3, 4, 5, 6, 7, 8, 9, 10, 2, 2, 1, 2, 3, 6, 3, 5, 6, 1, 6, 2, 2, 7, 1, 3, 6, 8, 3, 4, 1, 2, 4, 10, 4, 4, 1, 10, 6, 1, 7, 10, 3, 8, 6, 1, 2, 3, 4, 5, 8, 8, 10, 5, 7, 10, 8, 1, 2, 4, 9, 10, 1, 5, 6, 9, 9, 9, 5, 1, 4, 8, 2, 2, 6, 8, 1, 2, 3, 4, 5, 6, 8, 9, 4, 5, 6, 9, 3, 5, 6, 7, 8, 6, 7, 10, 8, 5, 7, 9, 3, 6, 3, 3, 2, 1, 10, 1, 2, 3, 4, 5, 6, 7, 8, 10, 6, 7, 1, 4, 4, 4, 1, 2, 8, 1, 9, 1, 1, 2, 3, 5, 6, 9, 1, 7, 10, 10, 10, 9, 1, 2, 5, 6, 10, 1, 2, 3, 4, 5, 6, 8, 10, 2, 5, 6, 1, 2, 3, 4, 5, 6, 7, 8, 3, 6, 7, 7, 8, 7, 5, 7, 1, 2, 3, 4, 5, 6, 7, 8, 1, 2, 3, 5, 6, 9, 1, 2, 3, 4, 5, 6, 7, 9, 2, 8, 2, 6, 9, 1, 4, 9, 10, 2, 3, 10, 2, 1, 2, 4, 6, 7, 9, 3, 9, 1, 7, 1, 2, 3, 4, 5, 6, 7, 2, 5, 6, 1, 2, 3, 4, 7, 10, 8, 1, 2, 3, 4, 5, 6, 9, 1, 2, 3, 4, 5, 1, 2, 3, 4, 5, 6, 7, 9, 4, 1, 2, 3, 4, 5, 6, 8, 9, 7, 1, 4, 6, 8, 9, 6, 10, 1, 2, 3, 9, 1, 2, 3, 6, 1, 7, 1, 2, 3, 4, 5, 6, 7, 8, 10, 8, 1, 1, 4, 7, 1, 2, 4, 5, 9, 1, 5, 9, 7, 9, 10, 2, 8, 1, 3, 1, 4, 10, 8, 6, 2, 5, 4, 2, 1, 2, 3, 5, 6, 8, 10, 1, 9, 9, 7, 10, 5, 2, 3, 5, 6, 3, 5, 6, 3, 5, 6, 3, 9, 2, 4, 4, 4, 1, 2, 3, 4, 5, 9, 1, 9, 1, 2, 3, 4, 9, 10, 10, 5, 4, 5, 6, 8, 10, 3, 5, 1, 6, 7, 8, 9, 1, 6, 10, 1, 2, 4, 6, 1, 2, 4, 1, 2, 6, 1, 2, 3, 5, 6, 7, 8, 9, 9, 7, 9, 1, 3, 4, 7, 6, 2, 6, 5, 10, 2, 4, 3, 10, 4, 3, 10, 8, 1, 2, 3, 4, 5, 6, 7, 8, 10, 1, 6, 6, 7, 5, 1, 2, 3, 4, 6, 9, 2, 7, 1, 2, 3, 4, 6, 8, 1, 2, 3, 4, 8, 9, 1, 3, 4, 8, 8, 1, 5, 8, 1, 8, 3, 1, 10, 1, 2, 4, 10, 1, 8, 5, 2, 1, 2, 6, 7, 10, 1, 6, 3, 1, 2, 4, 5, 7, 8, 10, 10, 10, 1, 4, 6, 3, 1, 2, 3, 6, 7, 1, 1, 6, 5, 3, 5, 6, 6, 3, 5, 7, 1, 2, 3, 4, 1, 2, 3, 4, 6, 10, 1, 2, 3, 4, 5, 6, 4, 1, 2, 3, 6, 1, 7, 10, 3, 2, 5, 6, 7, 6, 3, 6, 9, 10, 5, 9, 4, 1, 1, 10, 1, 1, 3, 4, 8, 1, 4, 7, 8, 9, 10, 3, 7, 1, 2, 3, 5, 6, 7, 1, 3, 6, 9, 1, 2, 3, 4, 5, 6, 7, 8, 9, 10, 1, 2, 3, 4, 5, 6, 7, 1, 2, 3, 8, 9, 1, 9, 7, 1, 2, 3, 4, 8, 9, 10, 6, 1, 3, 4, 8, 3, 4, 5, 6, 9, 10, 1, 1, 6, 1, 2, 8, 10, 4, 1, 2, 7, 9, 1, 3, 5, 1, 2, 3, 4, 5, 7, 8, 1, 2, 4, 7, 9, 1, 4, 1, 2, 3, 4, 7, 8, 5, 10, 3, 7, 1, 10, 1, 3, 4, 5, 6, 10, 8, 1, 1, 6, 4, 7, 7, 1, 2, 3, 4, 5, 6, 8, 9, 5, 2, 2, 1, 2, 3, 4, 5, 7, 8, 9, 10, 10, 1, 6, 8, 8, 9, 7, 9, 3, 5, 3, 5, 1, 2, 3, 4, 5, 10, 1, 2, 3, 4, 6, 9, 1, 2, 4, 2, 6, 1, 4, 8, 10, 5, 1, 2, 3, 4, 5, 6, 8, 1, 8, 2, 3, 9, 7, 1, 7, 8, 1, 2, 3, 6, 1, 2, 6, 8, 8, 7, 5], \"Freq\": [0.22741988870128796, 0.6991055837854407, 0.016845917681576884, 0.042114794203942214, 0.012634438261182664, 0.9699922072852446, 0.1552934474892885, 0.5521544799619147, 0.06470560312053687, 0.11647008561696638, 0.06039189624583442, 0.047450775621727045, 0.039607471228846274, 0.9505793094923106, 0.9758550743586824, 0.194562338724814, 0.6974311526597179, 0.1047643362364383, 0.160917681354262, 0.17241180145099497, 0.19540004164446098, 0.080458840677131, 0.39080008328892196, 0.010653541045401572, 0.7137872500419054, 0.26633852613503933, 0.21242078068217393, 0.07080692689405797, 0.6844669599758938, 0.494190132892181, 0.23565548003654926, 0.06863751845724736, 0.17845754798884314, 0.018303338255265963, 0.004575834563816491, 0.982878575567138, 0.043239071334038835, 0.9538030441332096, 0.9932150874396073, 0.2917315083669148, 0.7001556200805955, 0.9161730604106686, 0.9663566820956843, 0.3014703592973429, 0.5318392187604069, 0.1393589396751868, 0.025596539940340435, 0.795185958718068, 0.15292037667655153, 0.040778767113747075, 0.3023403315134781, 0.69106361488795, 0.06471972434183995, 0.9276493822330392, 0.9629834543812797, 0.9928424077497369, 0.007637249290382591, 0.9739571356811463, 0.8813595625268965, 0.11495994293829084, 0.41092532867490406, 0.027625232179825484, 0.231675242598991, 0.23104739641308586, 0.026369539808015235, 0.04489100229221641, 0.017893616298296052, 0.0015696154647628117, 0.002197461650667936, 0.005650615673146122, 0.3331012957156247, 0.2950964498957212, 0.22579349575354424, 0.04918274164928687, 0.03576926665402681, 0.029062529156396785, 0.029062529156396785, 0.6811861839320132, 0.31160644584124014, 0.7402370021322776, 0.04441422012793666, 0.1258402903624872, 0.08882844025587332, 0.9612743688972302, 0.020452646146749576, 0.9902151234582796, 0.9971504273752212, 0.002379833955549454, 0.975420534944272, 0.9962249866847551, 0.9903324931984432, 0.3375163581425867, 0.5737778088423973, 0.08437908953564667, 0.43745494861846196, 0.09358213457787351, 0.33612044786253975, 0.029348243388327196, 0.0033224426477351542, 0.016058472797386578, 0.05648152501149762, 0.022149617651567696, 0.006091144854181116, 0.35015307649927796, 0.3042110061784507, 0.05463381335449727, 0.24957719282395344, 0.014900130914862891, 0.009933420609908594, 0.016141808491101466, 0.026888564646338337, 0.08450691745992049, 0.5070415047595229, 0.27656809350519435, 0.030729788167243813, 0.015364894083621907, 0.042253458729960246, 0.015364894083621907, 0.082098647387468, 0.8073033659767685, 0.10262330923433499, 0.9492740115188755, 0.9706888095088299, 0.06009002376626528, 0.04006001584417685, 0.2724081077404026, 0.5408102138963875, 0.0801200316883537, 0.9456242330313704, 0.38760331867823067, 0.13260113533728943, 0.11220096067001414, 0.06120052400182589, 0.3060026200091295, 0.9881939705902605, 0.9407553453690433, 0.9704934634504973, 0.8720128263249806, 0.9789819434331724, 0.32032894359486325, 0.6584539396116633, 0.9772552820064767, 0.9662169874516179, 0.9767375159055681, 0.025313325383947396, 0.4682965196030268, 0.025313325383947396, 0.012656662691973698, 0.4682965196030268, 0.005680554769898961, 0.9884165299624192, 0.9695219211522067, 0.9535015181618118, 0.9890865500467817, 0.961513263944526, 0.02924267461453687, 0.9650082622797167, 0.9446484134703379, 0.9779132417801855, 0.994126856751132, 0.9881526218768071, 0.9758574224923177, 0.01894868781538481, 0.9911779368848765, 0.2005924966847798, 0.04298410643245282, 0.11462428381987418, 0.6232695432705658, 0.014328035477484272, 0.9419457232011861, 0.042815714690963, 0.018065122068710967, 0.9755165917103923, 0.9794738819500519, 0.05947490039550981, 0.05947490039550981, 0.8623860557348922, 0.9168622640689641, 0.9894650439051247, 0.978243225177905, 0.21030739337947224, 0.7360758768281528, 0.02628842417243403, 0.9793588860691591, 0.16913705417040809, 0.08456852708520404, 0.7442030383497955, 0.9229006592592135, 0.594936889563127, 0.38340377327401515, 0.04983591177509756, 0.9468823237268537, 0.16817668816898335, 0.009343149342721298, 0.4484711684506223, 0.3737259737088519, 0.9800059722643137, 0.9233533788908366, 0.9867558898179035, 0.013704942914137548, 0.9966755997555111, 0.9404842536130248, 0.17235510170486762, 0.14583893221181107, 0.09280659322569795, 0.5303233898611311, 0.03977425423958483, 0.9551969400623637, 0.9819632694178234, 0.9794380286645666, 0.951578498288219, 0.9582240298111097, 0.03802476308774245, 0.959839070766246, 0.2705907713061658, 0.005305701398160115, 0.7162696887516155, 0.005305701398160115, 0.0648592408707935, 0.7739869410581357, 0.15998612748129062, 0.045852942690199384, 0.819621350587314, 0.12609559239804832, 0.4885759673695194, 0.21365379923554548, 0.18380510669528544, 0.048700498355161104, 0.04398754690143583, 0.01728082199699265, 0.003141967635816845, 0.9789741858868158, 0.9728930452862936, 0.9783639125027415, 0.9615037729067023, 0.05189444375702206, 0.9340999876263971, 0.9349962656188928, 0.945067571118153, 0.3803817264283599, 0.6224428250645889, 0.9825098728493981, 0.6677756741384714, 0.036952013588690116, 0.2876978200833731, 0.007918288626147883, 0.8852587154958357, 0.08394694715908786, 0.02289462195247851, 0.007631540650826169, 0.9328353660852747, 0.9657969889197101, 0.9792757972317973, 0.9428598602409067, 0.9559330661808171, 0.8307233130696959, 0.14474724394396218, 0.025173433729384725, 0.9481044589180089, 0.04472190843952872, 0.921107924609063, 0.9793958181042782, 0.08282775844566619, 0.9162820778051822, 0.9895445613178333, 0.978921193918693, 0.8496357776925446, 0.1327555902644601, 0.1983149795379114, 0.609634937098024, 0.1542449840850422, 0.03672499621072434, 0.07677777752950107, 0.9149351822265545, 0.9888391734361651, 0.20974665630303246, 0.7865499611363718, 0.9370596639065204, 0.9690088199678227, 0.9698896387410144, 0.9818905689394744, 0.4075957519164501, 0.1296895574279614, 0.026467256617951306, 0.16145026536950297, 0.2726127431648985, 0.8379242603627794, 0.08323750930756088, 0.0013872918217926813, 0.04300604647557312, 0.004161875465378044, 0.026358544614060942, 0.004161875465378044, 0.9845223812729098, 0.3963598428398496, 0.17836192927793232, 0.4161778349818421, 0.9908429055041622, 0.9918829691932717, 0.9984068013925521, 0.09844729849541226, 0.44301284322935514, 0.4594207263119238, 0.9525450151979294, 0.9403845286578613, 0.0319100108301391, 0.6509642209348375, 0.31271810613536316, 0.9854945145106225, 0.02504933261095435, 0.9769239718272196, 0.9506099957095985, 0.9688517564688351, 0.9886092708933085, 0.4954621391483337, 0.4954621391483337, 0.29513821033681564, 0.06071414612643065, 0.3001977225140182, 0.2327375601513175, 0.023611056826945254, 0.03373008118135036, 0.0033730081181350363, 0.04890861771295802, 0.10054624205010962, 0.29046692147809444, 0.011171804672234402, 0.5921056476284233, 0.07331410471151392, 0.29043664558792054, 0.20020390132759572, 0.056395465162703017, 0.3383727909762181, 0.04229659887202726, 0.9746422108675019, 0.2022079627622614, 0.2022079627622614, 0.11894586044838906, 0.47578344179355625, 0.9794493805373873, 0.38119745465785465, 0.285898090993391, 0.3282533637331526, 0.745738437999005, 0.23549634884179105, 0.9727047504515683, 0.9669893597455905, 0.9794391923624978, 0.11711683146253575, 0.11711683146253575, 0.7417399325960597, 0.04864463082807201, 0.06485950777076267, 0.18376860535049425, 0.16755372840780358, 0.5242810211469984, 0.9774622826368385, 0.18905714873642374, 0.13749610817194452, 0.6702935273382296, 0.9885736326073057, 0.9821449165134745, 0.9776199763682204, 0.9456367885481965, 0.33894191894668024, 0.12856417615218907, 0.26492012055602593, 0.05064649363571084, 0.21816951104613902, 0.9814600488336822, 0.16467493559852858, 0.15035537598126522, 0.33173646446660104, 0.28400459907572323, 0.00954637307817557, 0.007159779808631677, 0.052505051929965636, 0.9681288231811074, 0.9950260184080313, 0.5340109481460822, 0.11048502375436182, 0.34986924188881247, 0.944490507657205, 0.974677630390763, 0.9624354792739148, 0.9613000530613, 0.967054299903659, 0.5050890965683166, 0.4897833663692767, 0.966830742812302, 0.024021579757116007, 0.7686905522277122, 0.18616724311764904, 0.018016184817837004, 0.17304974385146754, 0.7671871977415061, 0.05912532914925141, 0.11018183422898578, 0.8814546738318862, 0.36548100034010866, 0.556794511629252, 0.07670588896026971, 0.2943766361006221, 0.21894262309983767, 0.2235422580389099, 0.19318466744103324, 0.06807459709826885, 0.000919926987814444, 0.1983944948751639, 0.6121887270433629, 0.1870576665965831, 0.23494529846705955, 0.3441452259235802, 0.2779634517075071, 0.08603630648089505, 0.006618177421607311, 0.02316362097562559, 0.026472709686429244, 0.9492191988095608, 0.9729172989281274, 0.11511678935824066, 0.17651241034930235, 0.006139562099106168, 0.673816940376902, 0.02302335787164813, 0.001534890524776542, 0.003069781049553084, 0.9311847576966333, 0.056482263207176184, 0.11924033343737195, 0.5083403688645857, 0.08158549129925449, 0.021965324580568518, 0.003137903511509788, 0.06589597374170555, 0.14120565801794047, 0.2376110022072971, 0.1350397931799235, 0.002951689468413629, 0.022875593380205624, 0.2634382850559164, 0.05313041043144532, 0.011806757873654516, 0.26122451795460616, 0.011806757873654516, 0.0007379223671034073, 0.9930471058301549, 0.976243419135942, 0.025570340662316896, 0.01826452904451207, 0.9461026045057253, 0.010958717426707242, 0.9942562689207157, 0.6804439423263858, 0.316485554570412, 0.2644392399326357, 0.7322932798134527, 0.9638751598958458, 0.11290497550437487, 0.880658808934124, 0.15152399589568935, 0.8127196143496065, 0.013774908717789941, 0.013774908717789941, 0.9638968453052199, 0.9604847526273612, 0.8205208493409702, 0.09797263872728003, 0.06531509248485336, 0.012246579840910004, 0.9537562921092263, 0.9780304420142297, 0.19767506853974431, 0.7907002741589773, 0.9736891310607756, 0.4138185168150626, 0.5831079100575882, 0.9472655989802937, 0.08201810436856735, 0.9021991480542408, 0.9797890486701782, 0.13509909208686335, 0.23016882355539683, 0.11508441177769842, 0.050036700772912356, 0.21515781332352313, 0.25518717394185303, 0.8953642329489949, 0.9818332956025484, 0.9728062828129155, 0.9635924553642191, 0.9747945290624601, 0.9393376852379877, 0.13319685162967773, 0.024974409680564576, 0.7076082742826629, 0.024974409680564576, 0.10822244194911315, 0.9872354294732003, 0.8561404901774259, 0.10701756127217824, 0.9953798211599156, 0.9684059118378522, 0.9197037387400806, 0.9076502644884318, 0.838064918814038, 0.138237512381697, 0.008639844523856062, 0.9817903303838909, 0.9942434620540336, 0.9917267032001793, 0.9422690728746942, 0.1482281372223229, 0.10780228161623484, 0.013475285202029355, 0.08534347294618591, 0.25603041883855776, 0.1527198989563327, 0.125769328552274, 0.10331051988222506, 0.4661380049900803, 0.11901395872087156, 0.004958914946702982, 0.4066310256296445, 0.0029888732750895258, 0.7950402911738139, 0.15542141030465534, 0.041844225851253365, 0.0059777465501790516, 0.9802598140556942, 0.3269218496764272, 0.6538436993528544, 0.9827568525107823, 0.8740268305430434, 0.07283556921192029, 0.024278523070640094, 0.94532502543246, 0.9962066127191689, 0.9718494539714643, 0.9688986313035987, 0.9753441152320014, 0.965947259252017, 0.021953346801182202, 0.1609489577843695, 0.3245655778524578, 0.10670649134875326, 0.04179337577826169, 0.10048194602007599, 0.1965177882339539, 0.0008892207612396105, 0.057799349480574684, 0.011559869896114936, 0.9561786374601902, 0.03541402360963667, 0.0035083601114371623, 0.992865911536717, 0.9908610078406956, 0.9849489154877767, 0.29603499182168547, 0.700741056590572, 0.9524635846374282, 0.06431886195193837, 0.9326234983031063, 0.989223279388057, 0.23249896855781432, 0.2610514734684231, 0.016315717091776444, 0.24881468564959075, 0.23657789783075842, 0.008157858545888222, 0.5752167994353837, 0.37986015057053646, 0.032559441477474554, 0.9729123178930181, 0.9891280338168227, 0.9834347029999067, 0.3395144634848697, 0.21073311526647084, 0.081951767048072, 0.081951767048072, 0.2926848823145428, 0.1437193944951829, 0.0038843079593292675, 0.34570340838030483, 0.0038843079593292675, 0.43504249144487794, 0.007768615918658535, 0.04272738755262195, 0.011652923877987803, 0.025096530682355397, 0.953668165929505, 0.946592405125163, 0.06311704896280255, 0.11808996257556606, 0.01832430453758784, 0.052936879775253756, 0.24636009433868092, 0.3532518708079433, 0.05599093053151839, 0.09162152268793919, 0.03933498812921081, 0.7342531117452684, 0.22289826606552793, 0.7173723208454275, 0.26901462031703527, 0.9841996627848831, 0.8942798669833595, 0.9548608243929063, 0.5155046776314032, 0.157977239919301, 0.07067402838495043, 0.049887549448200307, 0.07067402838495043, 0.08730321153435054, 0.03949430997982525, 0.006235943681025038, 0.3021846326809292, 0.20675790657116208, 0.07952227175813927, 0.323390571816433, 0.07422078697426332, 0.015904454351627854, 0.10939182046655725, 0.1658521149009094, 0.44462481867052306, 0.11292058886870426, 0.07057536804294016, 0.010586305206441025, 0.07763290484723419, 0.0035287684021470082, 0.9768478206890764, 0.962749346583465, 0.9741572739030777, 0.9300786866406023, 0.9471930230942636, 0.23535423615760082, 0.13238675783865045, 0.07354819879925026, 0.5442566711144519, 0.9683927120499625, 0.9721335083667787, 0.9664971999044041, 0.9919127043976042, 0.011693035388060111, 0.537879627850765, 0.03507910616418033, 0.05846517694030055, 0.1695490131268716, 0.18708856620896178, 0.9579580768361813, 0.9683617426485608, 0.9731076495915713, 0.9596993064518231, 0.3331589597585284, 0.1311649447868222, 0.01311649447868222, 0.036726184540310215, 0.42759772000504037, 0.05508927681046532, 0.002623298895736444, 0.10011856254670708, 0.03337285418223569, 0.8610196379016808, 0.7836052420012104, 0.03134420968004842, 0.03134420968004842, 0.06791245430677158, 0.04701631452007263, 0.03656824462672315, 0.9726413576216482, 0.4492750159828641, 0.26389454822294445, 0.028352306833870067, 0.1831995210803912, 0.047980826949626264, 0.023990413474813132, 0.0021809466795284665, 0.24365045928892085, 0.05666289750905136, 0.2634824734170888, 0.19832014128167974, 0.23515102466256313, 0.23450834377109092, 0.22962275327585985, 0.029313542971386365, 0.07816944792369697, 0.1514533053521629, 0.029313542971386365, 0.2100803912949356, 0.034199133466617425, 0.9561278908028794, 0.36629106361985725, 0.15617060852009418, 0.005678931218912516, 0.088023433893144, 0.09370236511205651, 0.22715724875650062, 0.04259198414184387, 0.017036793656737548, 0.9678666808109403, 0.14370108177019605, 0.6915614560190686, 0.06286922327446078, 0.053887905663823524, 0.035925270442549014, 0.9355148424874365, 0.972874745604547, 0.9353309639554919, 0.059198162275664046, 0.948152110357813, 0.97453214630292, 0.17922573287318105, 0.007169029314927243, 0.709733902177797, 0.1003664104089814, 0.03253565907758634, 0.9621259184371962, 0.23611362433782587, 0.39033198257649593, 0.11061178797808059, 0.15953623266069314, 0.026589372110115524, 0.00957217395964159, 0.0202079228036878, 0.024462222341306284, 0.023398647456901664, 0.9806084872027588, 0.9959204798284519, 0.32707856069538527, 0.5783128174614058, 0.09006511091612059, 0.24595981031576358, 0.666471744081424, 0.007934187429540761, 0.007934187429540761, 0.06347349943632609, 0.15872347320843516, 0.7142556294379583, 0.12471130037805621, 0.048860187062754405, 0.9283435541923336, 0.022801420629285387, 0.9684624020404672, 0.9467638494599593, 0.9701852013687242, 0.9494006444903276, 0.05203742798262363, 0.9366737036872254, 0.9691268541670105, 0.9582823218106822, 0.9530859850332262, 0.9722638167767094, 0.9551829233227696, 0.9887893248651161, 0.9829141269201924, 0.7122410034263424, 0.07752283030490803, 0.04360659204651076, 0.08236800719896478, 0.014535530682170254, 0.04845176894056751, 0.014535530682170254, 0.9986698730473925, 0.917557657889357, 0.9649043675063712, 0.9758319953405383, 0.9922075857496094, 0.8710113832463242, 0.9920404047124826, 0.17158786028395817, 0.3411805128901959, 0.4868306733637883, 0.6517563910989178, 0.3258781955494589, 0.013867157257423783, 0.19172619087082082, 0.2649307364760433, 0.5403192651814042, 0.8795696231217499, 0.07539168198186429, 0.9801805165366406, 0.9404281420575334, 0.9803667113717934, 0.943275024967727, 0.17406003898142508, 0.11076547935181597, 0.11472138932866653, 0.04747091972220684, 0.5498714867822293, 0.0039559099768505706, 0.35382757832679906, 0.626002638578183, 0.1656586366363679, 0.05301076372363773, 0.13915325477454904, 0.33794361873819057, 0.06626345465454717, 0.2385484367563698, 0.9554997928760881, 0.884462916732699, 0.12850016701550196, 0.12314599338985605, 0.5032923208107161, 0.16597938239502338, 0.07495843075904281, 0.9055699292150404, 0.09229847355460989, 0.08576726504002458, 0.33353936404454, 0.009529696115558286, 0.5622520708179388, 0.9482109479725555, 0.9834746865650158, 0.9902635404123172, 0.952556551190395, 0.018756345086856717, 0.1387969536427397, 0.7952690316827248, 0.04501522820845612, 0.019079042556568806, 0.2671065957919633, 0.7122842554452354, 0.0486982591276243, 0.1826184717285911, 0.7548230164781766, 0.17397236040939804, 0.21901877515826004, 0.07766623232562413, 0.3463913961722836, 0.13047927030704853, 0.00621329858604993, 0.04193976545583703, 0.003106649293024965, 0.9581397465795557, 0.9604089175990826, 0.9706067778810334, 0.08611081077305181, 0.6534290935131579, 0.22287503964789881, 0.03545739267125663, 0.973991097742129, 0.9611662023017465, 0.9782189520993507, 0.9576100124430746, 0.9339389628594977, 0.9748686224906364, 0.984882228762949, 0.9589286842391294, 0.9641906913821654, 0.9729723231031503, 0.17450040896637714, 0.7852518403486971, 0.9756457720667571, 0.14808046353785032, 0.023798645925725944, 0.5367916803247075, 0.13485899357911368, 0.005288587983494655, 0.05024158584319922, 0.0026442939917473273, 0.052885879834946546, 0.04759729185145189, 0.9761703077502993, 0.96555825765504, 0.9978843983534971, 0.0018276271032115331, 0.9496938856484985, 0.008322219977679695, 0.019418513281252624, 0.7878368245536779, 0.155348106250021, 0.013870366629466158, 0.013870366629466158, 0.9895133059057114, 0.9495600568548502, 0.42037722893855395, 0.02095338212777839, 0.41775805617258166, 0.05893138723437672, 0.05762180085139058, 0.02357255489375069, 0.040944139135614184, 0.031845441549922145, 0.5459218551415225, 0.3048063691206834, 0.022746743964230105, 0.05004283672130623, 0.0840061679989473, 0.20213984174746696, 0.6195454889922364, 0.09188174624884862, 0.975286490162831, 0.9382447268890356, 0.05519086628759033, 0.9768695253281728, 0.9886505599370171, 0.928307157286589, 0.9772648024398626, 0.6162387161836574, 0.3806180305840237, 0.6943048905141519, 0.12598274223039047, 0.1483796741824599, 0.03079578143409545, 0.9809556722209793, 0.9642996523411836, 0.9603464227668667, 0.9846675375605406, 0.6101750012632405, 0.010799557544482133, 0.10799557544482133, 0.26458915983981224, 0.9093878913831717, 0.9753252401529772, 0.9650103684120706, 0.9585569600579352, 0.20024898610122366, 0.257620596444274, 0.37070886683201737, 0.08219586481840861, 0.037512206762763664, 0.05075180914962142, 0.0011033001989048136, 0.9723865413495827, 0.9298801990710258, 0.9419149628028997, 0.020701427753909884, 0.031052141630864824, 0.9417067032331603, 0.04491912892614228, 0.003455317609703252, 0.7981783678414512, 0.14857865721723984, 0.003455317609703252, 0.9664805582928427, 0.9828338192656852, 0.9836914939991515, 0.9555062913749901, 0.1371591598801675, 0.08229549592810051, 0.768091295328938, 0.9391288661457023, 0.9480276127774578, 0.226582427766036, 0.75527475922012, 0.3015662772033935, 0.4887453458123964, 0.19757790575394749, 0.005199418572472302, 0.08113172560308052, 0.26474563091531533, 0.15799336038494627, 0.11102236135158386, 0.38430817390932875, 0.9884119351076246, 0.1704539948041902, 0.03008011673015121, 0.30414340249375116, 0.38101481191524866, 0.06684470384478047, 0.050133527883585355, 0.9723096162465625, 0.08610067801804175, 0.3067336654392737, 0.27982720355863566, 0.32287754256765655, 0.9737721334538687, 0.8506767980913577, 0.147450645002502, 0.9815930040656458, 0.037611599859061096, 0.6582029975335691, 0.2570125990369175, 0.037611599859061096, 0.934077165668718, 0.9858983045335006, 0.9563856056308228, 0.9820705564903486, 0.975489339698855, 0.9465227685138583, 0.950589629848773, 0.9776639817631321, 0.9804302034696335, 0.9905113914772903, 0.9549631166327502, 0.9875413962566404, 0.7081896739409899, 0.094095131502649, 0.1535236356095852, 0.04457137808020216, 0.014603739163333762, 0.7593944364933556, 0.051113087071668166, 0.06571682623500193, 0.036509347908334405, 0.07301869581666881, 0.9631732400773163, 0.9836170812447423, 0.16995734084612016, 0.18015478129688736, 0.16655819402919775, 0.37730529667838675, 0.08497867042306008, 0.020394880901534417, 0.05187659583085519, 0.7336832838935234, 0.14080790296946408, 0.05928753809240593, 0.13180064281283252, 0.2589928715413003, 0.23410743548573051, 0.16129449295276707, 0.08202977070169297, 0.09216828168729548, 0.006451779718110683, 0.020277021971205005, 0.010138510985602502, 0.003686731267491819, 0.1062446929564099, 0.1652695223766376, 0.4533106899473489, 0.22429435179686533, 0.014165959060854653, 0.028331918121709307, 0.007082979530427327, 0.026028569859326823, 0.2516095086401593, 0.3643999780305755, 0.00867618995310894, 0.3557237880774666, 0.36526145841520385, 0.6297611351986274, 0.9741188828587545, 0.02335250447018599, 0.1196815854097032, 0.21017254023167392, 0.5341885397555045, 0.005838126117546498, 0.07589563952810446, 0.029190630587732486, 0.9575678534607421, 0.10537024455796094, 0.298549026247556, 0.043904268565817056, 0.5444129302161316, 0.19045358852166344, 0.4189978947476596, 0.10157524721155384, 0.16505977671877498, 0.09734294524440576, 0.02539381180288846, 0.9970754793648919, 0.8893697165101395, 0.10463173135413406, 0.9666461803368159, 0.27101555525642756, 0.225846296047023, 0.49686185130345056, 0.9961338802127226, 0.4394241725331192, 0.22598957444560416, 0.03766492907426736, 0.2887644562360498, 0.0855592230739337, 0.9096296347860319, 0.004503117003891247, 0.5877774852801106, 0.2028709604045158, 0.005482998929851778, 0.12062597645673911, 0.07676198501792489, 0.0010965997859703556, 0.006579598715822134, 0.44776177032743336, 0.29584259825205417, 0.07995745898704168, 0.03997872949352084, 0.13192980732861875, 0.20687018772935584, 0.7891714568934686, 0.6811378682263621, 0.058944623211896724, 0.006549402579099636, 0.22267968768938762, 0.013098805158199271, 0.01637350644774909, 0.8031905916192298, 0.18741113804448695, 0.992713345990959, 0.9871203347197448, 0.9940619363336639, 0.9954388334075643, 0.5924410743979832, 0.0069698949929174496, 0.055759159943339597, 0.20212695479460605, 0.09757852990084429, 0.041819369957504696, 0.9374965660949892, 0.9936373135911771, 0.37014391569151034, 0.6205353880710615, 0.9799700274892581, 0.9904417476627764, 0.9463943185379108, 0.29980787791521657, 0.13627630814328026, 0.03309567483479663, 0.03893608804093721, 0.1635315697719363, 0.2803398338947479, 0.015574435216374886, 0.02920206603070291, 0.9082317098408723, 0.9898239003813384, 0.9843085897445591, 0.3397278948507303, 0.2042294859218263, 0.09033227261926932, 0.09818725284703186, 0.10407848801785378, 0.017673705512465738, 0.10407848801785378, 0.003927490113881275, 0.03927490113881275, 0.9512221570623289, 0.2595455798931819, 0.14157031630537195, 0.5898763179390498, 0.9751610728382346, 0.9559355636145752, 0.9865189026309608, 0.918284337085671, 0.9975830480635177, 0.0028180312092189767, 0.9577608056797513, 0.03964587213053437, 0.28545747175485603, 0.0019418875629582041, 0.05048907663691331, 0.6301425141799373, 0.021360763192540246, 0.010680381596270123, 0.27175819432183157, 0.013936317657529824, 0.06271342945888421, 0.5783571827874877, 0.006968158828764912, 0.06271342945888421, 0.21721276610695328, 0.028961702147593773, 0.7481773054795058, 0.393999362568986, 0.5982953283454973, 0.49548749192104785, 0.1468974681930636, 0.3520875824944858, 0.0046634116886686856, 0.9782695952691668, 0.3387095711258862, 0.32964435146071647, 0.13268185146293837, 0.06757709204944688, 0.06180831589888434, 0.04862254184045568, 0.02060277196629478, 0.16893595115883736, 0.8205460484857815, 0.05014794828698854, 0.8525151208788052, 0.09573699218425086, 0.9968194020096206, 0.4202842033526676, 0.5338745285831182, 0.045436130092180275, 0.058783788082068134, 0.06613176159232664, 0.8376689801694709, 0.029391894041034067, 0.4386749860362532, 0.20135900998385395, 0.04314835928225441, 0.30922990818949, 0.9824534471002226, 0.9877942980575656, 0.976834668364871], \"Term\": [\"1\", \"1\", \"1\", \"1\", \"1\", \"12\", \"2\", \"2\", \"2\", \"2\", \"2\", \"2\", \"20\", \"20\", \"30\", \"5\", \"5\", \"5\", \"6\", \"6\", \"6\", \"6\", \"6\", \"7\", \"7\", \"7\", \"8\", \"8\", \"8\", \"able\", \"able\", \"able\", \"able\", \"able\", \"able\", \"accessing\", \"account\", \"account\", \"accounts\", \"accurate\", \"accurate\", \"activate\", \"active\", \"add\", \"add\", \"add\", \"add\", \"added\", \"added\", \"added\", \"addition\", \"addition\", \"address\", \"address\", \"adult\", \"adventure\", \"adventure\", \"ages\", \"ago\", \"ago\", \"alexa\", \"alexa\", \"alexa\", \"alexa\", \"alexa\", \"alexa\", \"alexa\", \"alexa\", \"alexa\", \"alexa\", \"also\", \"also\", \"also\", \"also\", \"also\", \"also\", \"also\", \"amazing\", \"amazing\", \"amazon\", \"amazon\", \"amazon\", \"amazon\", \"android\", \"android\", \"animal\", \"answer\", \"answer\", \"answered\", \"answers\", \"anymote\", \"anyone\", \"anyone\", \"anyone\", \"app\", \"app\", \"app\", \"app\", \"app\", \"app\", \"app\", \"app\", \"app\", \"ask\", \"ask\", \"ask\", \"ask\", \"ask\", \"ask\", \"ask\", \"asked\", \"asked\", \"asked\", \"asked\", \"asked\", \"asked\", \"asked\", \"asked\", \"asks\", \"asks\", \"asks\", \"attempt\", \"automatic\", \"awesome\", \"awesome\", \"awesome\", \"awesome\", \"awesome\", \"baby\", \"bad\", \"bad\", \"bad\", \"bad\", \"bad\", \"balance\", \"banana\", \"basically\", \"batman\", \"bear\", \"beat\", \"beat\", \"beats\", \"becomes\", \"bed\", \"best\", \"best\", \"best\", \"best\", \"best\", \"bible\", \"bible\", \"bill\", \"blast\", \"book\", \"books\", \"boring\", \"boring\", \"bother\", \"bring\", \"buddy\", \"calendar\", \"call\", \"call\", \"calls\", \"cannot\", \"cannot\", \"cannot\", \"cannot\", \"cannot\", \"car\", \"car\", \"cat\", \"cat\", \"catch\", \"cats\", \"cats\", \"cats\", \"chair\", \"chapter\", \"charge\", \"children\", \"children\", \"children\", \"choices\", \"choose\", \"choose\", \"choose\", \"choosing\", \"city\", \"city\", \"clever\", \"clever\", \"close\", \"close\", \"close\", \"close\", \"code\", \"coffee\", \"command\", \"command\", \"commands\", \"complaint\", \"concept\", \"concept\", \"concept\", \"concept\", \"concept\", \"confirm\", \"confused\", \"contacts\", \"continues\", \"control\", \"control\", \"cooking\", \"cool\", \"cool\", \"cool\", \"cool\", \"correct\", \"correct\", \"correct\", \"correctly\", \"correctly\", \"correctly\", \"could\", \"could\", \"could\", \"could\", \"could\", \"could\", \"could\", \"creative\", \"creepy\", \"current\", \"customer\", \"cute\", \"cute\", \"cylinder\", \"dashboard\", \"date\", \"date\", \"daughter\", \"day\", \"day\", \"day\", \"day\", \"days\", \"days\", \"days\", \"days\", \"decisions\", \"degrees\", \"description\", \"detailed\", \"details\", \"device\", \"device\", \"device\", \"devices\", \"devices\", \"dinner\", \"disable\", \"dog\", \"dog\", \"dogs\", \"domino\", \"dominos\", \"dominos\", \"done\", \"done\", \"done\", \"done\", \"door\", \"door\", \"doorbell\", \"doors\", \"doors\", \"download\", \"drink\", \"drinks\", \"driver\", \"easy\", \"easy\", \"easy\", \"easy\", \"easy\", \"echo\", \"echo\", \"echo\", \"echo\", \"echo\", \"echo\", \"echo\", \"effects\", \"email\", \"email\", \"email\", \"emergency\", \"enable\", \"enabled\", \"end\", \"end\", \"end\", \"ends\", \"engaging\", \"enjoy\", \"enjoy\", \"enjoy\", \"enjoyed\", \"enter\", \"enter\", \"entered\", \"entertained\", \"entertaining\", \"error\", \"error\", \"even\", \"even\", \"even\", \"even\", \"even\", \"even\", \"even\", \"even\", \"ever\", \"ever\", \"ever\", \"ever\", \"every\", \"every\", \"every\", \"every\", \"every\", \"every\", \"everyday\", \"everyone\", \"everyone\", \"everyone\", \"everyone\", \"everytime\", \"excellent\", \"excellent\", \"excellent\", \"exercise\", \"exercise\", \"exercises\", \"f\", \"facebook\", \"facts\", \"facts\", \"facts\", \"family\", \"family\", \"family\", \"family\", \"family\", \"fantastic\", \"fart\", \"fart\", \"fart\", \"fed\", \"feed\", \"feeding\", \"feeling\", \"find\", \"find\", \"find\", \"find\", \"find\", \"finish\", \"first\", \"first\", \"first\", \"first\", \"first\", \"first\", \"first\", \"fit\", \"fitbit\", \"fixed\", \"fixed\", \"fixed\", \"flow\", \"food\", \"forecast\", \"forest\", \"forgot\", \"free\", \"free\", \"front\", \"frustrating\", \"frustrating\", \"frustrating\", \"frustrating\", \"fun\", \"fun\", \"fun\", \"funny\", \"funny\", \"game\", \"game\", \"game\", \"get\", \"get\", \"get\", \"get\", \"get\", \"get\", \"gets\", \"gets\", \"gets\", \"give\", \"give\", \"give\", \"give\", \"give\", \"give\", \"give\", \"glass\", \"god\", \"good\", \"good\", \"good\", \"good\", \"good\", \"good\", \"good\", \"goodbye\", \"got\", \"got\", \"got\", \"got\", \"got\", \"got\", \"got\", \"got\", \"great\", \"great\", \"great\", \"great\", \"great\", \"great\", \"great\", \"great\", \"great\", \"great\", \"groceries\", \"grocery\", \"guess\", \"guess\", \"guess\", \"guess\", \"guessed\", \"guesses\", \"guesses\", \"guessing\", \"guessing\", \"guys\", \"hands\", \"hands\", \"heard\", \"heard\", \"heard\", \"heard\", \"hears\", \"hilarious\", \"home\", \"home\", \"home\", \"home\", \"homeseer\", \"horoscope\", \"horrible\", \"horrible\", \"horse\", \"hours\", \"hours\", \"human\", \"hungry\", \"hungry\", \"husband\", \"idea\", \"idea\", \"idea\", \"idea\", \"idea\", \"idea\", \"ideas\", \"im\", \"imagination\", \"important\", \"impressed\", \"incredibly\", \"info\", \"info\", \"info\", \"info\", \"info\", \"integration\", \"interactive\", \"interactive\", \"interesting\", \"intro\", \"invalid\", \"investigation\", \"issues\", \"issues\", \"issues\", \"item\", \"items\", \"jeopardy\", \"joke\", \"keep\", \"keep\", \"keep\", \"keep\", \"keep\", \"keep\", \"keep\", \"keep\", \"keeps\", \"keeps\", \"keeps\", \"keeps\", \"kids\", \"kids\", \"kids\", \"kids\", \"kids\", \"kill\", \"knows\", \"knows\", \"lame\", \"laugh\", \"laugh\", \"laugh\", \"laughing\", \"ldquo\", \"letter\", \"letters\", \"levels\", \"lights\", \"lights\", \"like\", \"like\", \"like\", \"like\", \"like\", \"like\", \"like\", \"like\", \"like\", \"liked\", \"liked\", \"link\", \"link\", \"linked\", \"linking\", \"list\", \"list\", \"listeners\", \"listening\", \"listening\", \"lists\", \"little\", \"little\", \"little\", \"little\", \"little\", \"little\", \"live\", \"live\", \"live\", \"lock\", \"log\", \"login\", \"looking\", \"looking\", \"looking\", \"looking\", \"looking\", \"lot\", \"lot\", \"lot\", \"lot\", \"lot\", \"lot\", \"lot\", \"lot\", \"lots\", \"lots\", \"loud\", \"love\", \"love\", \"love\", \"love\", \"love\", \"love\", \"love\", \"love\", \"loved\", \"loved\", \"loved\", \"loves\", \"loves\", \"magic\", \"main\", \"major\", \"make\", \"make\", \"make\", \"make\", \"make\", \"make\", \"make\", \"make\", \"makes\", \"makes\", \"makes\", \"makes\", \"makes\", \"makes\", \"many\", \"many\", \"many\", \"many\", \"many\", \"many\", \"many\", \"many\", \"math\", \"medicine\", \"meditation\", \"members\", \"menu\", \"message\", \"message\", \"message\", \"message\", \"middle\", \"min\", \"mine\", \"minute\", \"minutes\", \"minutes\", \"minutes\", \"minutes\", \"minutes\", \"minutes\", \"misunderstands\", \"mix\", \"mom\", \"mother\", \"much\", \"much\", \"much\", \"much\", \"much\", \"much\", \"much\", \"music\", \"music\", \"music\", \"name\", \"name\", \"name\", \"name\", \"name\", \"name\", \"natural\", \"need\", \"need\", \"need\", \"need\", \"need\", \"need\", \"need\", \"needs\", \"needs\", \"needs\", \"needs\", \"needs\", \"new\", \"new\", \"new\", \"new\", \"new\", \"new\", \"new\", \"new\", \"news\", \"nice\", \"nice\", \"nice\", \"nice\", \"nice\", \"nice\", \"nice\", \"nice\", \"normal\", \"nothing\", \"nothing\", \"nothing\", \"nothing\", \"nothing\", \"noticed\", \"null\", \"number\", \"number\", \"object\", \"obscure\", \"often\", \"often\", \"often\", \"often\", \"old\", \"old\", \"one\", \"one\", \"one\", \"one\", \"one\", \"one\", \"one\", \"one\", \"one\", \"online\", \"ooma\", \"open\", \"open\", \"open\", \"option\", \"option\", \"option\", \"option\", \"option\", \"options\", \"options\", \"options\", \"order\", \"order\", \"order\", \"ordering\", \"orders\", \"ourgroceries\", \"p\", \"page\", \"page\", \"panel\", \"parents\", \"pass\", \"path\", \"paths\", \"payment\", \"peace\", \"people\", \"people\", \"people\", \"people\", \"people\", \"people\", \"people\", \"phone\", \"phrasing\", \"picked\", \"piece\", \"pizza\", \"places\", \"plan\", \"play\", \"play\", \"play\", \"played\", \"played\", \"played\", \"playing\", \"playing\", \"playing\", \"points\", \"points\", \"pool\", \"pop\", \"portfolio\", \"prefer\", \"pretty\", \"pretty\", \"pretty\", \"pretty\", \"pretty\", \"pretty\", \"previous\", \"previous\", \"problem\", \"problem\", \"problem\", \"problem\", \"problem\", \"problem\", \"proper\", \"puts\", \"question\", \"question\", \"question\", \"question\", \"question\", \"questions\", \"questions\", \"quick\", \"quick\", \"quick\", \"quick\", \"rabbit\", \"rating\", \"rdquo\", \"reach\", \"read\", \"read\", \"read\", \"read\", \"reading\", \"reading\", \"reading\", \"ready\", \"ready\", \"ready\", \"really\", \"really\", \"really\", \"really\", \"really\", \"really\", \"really\", \"really\", \"received\", \"recipe\", \"recipes\", \"recognize\", \"recognize\", \"recognize\", \"recognize\", \"record\", \"related\", \"relax\", \"relaxing\", \"reminder\", \"reminds\", \"remote\", \"repeated\", \"requests\", \"result\", \"reviewers\", \"reviewers\", \"ride\", \"right\", \"right\", \"right\", \"right\", \"right\", \"right\", \"right\", \"right\", \"right\", \"ring\", \"rock\", \"rsquo\", \"rsquo\", \"runs\", \"said\", \"said\", \"said\", \"said\", \"said\", \"said\", \"save\", \"saw\", \"say\", \"say\", \"say\", \"say\", \"say\", \"say\", \"saying\", \"saying\", \"saying\", \"saying\", \"saying\", \"saying\", \"says\", \"says\", \"says\", \"says\", \"scary\", \"seconds\", \"seconds\", \"security\", \"send\", \"sentences\", \"separate\", \"service\", \"service\", \"set\", \"set\", \"set\", \"set\", \"setting\", \"seven\", \"sharp\", \"shopping\", \"show\", \"show\", \"show\", \"show\", \"showing\", \"shows\", \"shut\", \"six\", \"skill\", \"skill\", \"skill\", \"skill\", \"skill\", \"skill\", \"skill\", \"skip\", \"sky\", \"smart\", \"smart\", \"smart\", \"smile\", \"sometimes\", \"sometimes\", \"sometimes\", \"sometimes\", \"sometimes\", \"song\", \"songs\", \"sound\", \"sounding\", \"sounds\", \"sounds\", \"sounds\", \"spend\", \"spooky\", \"spot\", \"spot\", \"stars\", \"stars\", \"stars\", \"stars\", \"start\", \"start\", \"start\", \"start\", \"start\", \"stats\", \"still\", \"still\", \"still\", \"still\", \"still\", \"still\", \"stock\", \"stop\", \"stop\", \"stop\", \"stop\", \"stopwatch\", \"store\", \"store\", \"stories\", \"story\", \"story\", \"story\", \"story\", \"strange\", \"stumped\", \"sucks\", \"super\", \"supposed\", \"surprise\", \"surprisingly\", \"symbols\", \"sync\", \"system\", \"tablet\", \"taken\", \"tell\", \"tell\", \"tell\", \"tell\", \"tells\", \"tells\", \"tells\", \"tells\", \"tells\", \"tells\", \"ten\", \"tested\", \"think\", \"think\", \"think\", \"think\", \"think\", \"think\", \"thinking\", \"thinking\", \"thinking\", \"thinking\", \"time\", \"time\", \"time\", \"time\", \"time\", \"time\", \"time\", \"time\", \"time\", \"time\", \"times\", \"times\", \"times\", \"times\", \"times\", \"times\", \"times\", \"told\", \"told\", \"told\", \"told\", \"told\", \"track\", \"track\", \"tracking\", \"tried\", \"tried\", \"tried\", \"tried\", \"tried\", \"tried\", \"tried\", \"trivia\", \"trouble\", \"trouble\", \"trouble\", \"trouble\", \"try\", \"try\", \"try\", \"try\", \"try\", \"try\", \"turn\", \"tv\", \"tv\", \"twenty\", \"twice\", \"twice\", \"twice\", \"uber\", \"unable\", \"unable\", \"unable\", \"unable\", \"understand\", \"understand\", \"understand\", \"use\", \"use\", \"use\", \"use\", \"use\", \"use\", \"use\", \"useful\", \"useful\", \"useful\", \"useful\", \"useful\", \"useless\", \"useless\", \"using\", \"using\", \"using\", \"using\", \"using\", \"using\", \"variety\", \"variety\", \"vegetable\", \"verse\", \"video\", \"vivint\", \"voice\", \"voice\", \"voice\", \"voice\", \"voice\", \"voice\", \"voices\", \"volume\", \"wait\", \"wait\", \"waste\", \"water\", \"watering\", \"way\", \"way\", \"way\", \"way\", \"way\", \"way\", \"way\", \"way\", \"wayne\", \"weather\", \"week\", \"well\", \"well\", \"well\", \"well\", \"well\", \"well\", \"well\", \"well\", \"well\", \"whatsoever\", \"whole\", \"whole\", \"whole\", \"wind\", \"wins\", \"wonderful\", \"wondering\", \"word\", \"word\", \"words\", \"words\", \"work\", \"work\", \"work\", \"work\", \"work\", \"work\", \"worked\", \"worked\", \"worked\", \"worked\", \"worked\", \"worked\", \"working\", \"working\", \"working\", \"workout\", \"workout\", \"works\", \"works\", \"works\", \"works\", \"worthless\", \"would\", \"would\", \"would\", \"would\", \"would\", \"would\", \"would\", \"wow\", \"wow\", \"wrong\", \"wrong\", \"wrong\", \"year\", \"years\", \"years\", \"years\", \"yes\", \"yes\", \"yes\", \"yes\", \"yet\", \"yet\", \"yet\", \"yet\", \"yo\", \"zone\", \"zones\"]}, \"R\": 30, \"lambda.step\": 0.01, \"plot.opts\": {\"xlab\": \"PC1\", \"ylab\": \"PC2\"}, \"topic.order\": [4, 1, 3, 9, 7, 10, 5, 6, 2, 8]};\n",
              "\n",
              "function LDAvis_load_lib(url, callback){\n",
              "  var s = document.createElement('script');\n",
              "  s.src = url;\n",
              "  s.async = true;\n",
              "  s.onreadystatechange = s.onload = callback;\n",
              "  s.onerror = function(){console.warn(\"failed to load library \" + url);};\n",
              "  document.getElementsByTagName(\"head\")[0].appendChild(s);\n",
              "}\n",
              "\n",
              "if(typeof(LDAvis) !== \"undefined\"){\n",
              "   // already loaded: just create the visualization\n",
              "   !function(LDAvis){\n",
              "       new LDAvis(\"#\" + \"ldavis_el1991364194362602403166711094\", ldavis_el1991364194362602403166711094_data);\n",
              "   }(LDAvis);\n",
              "}else if(typeof define === \"function\" && define.amd){\n",
              "   // require.js is available: use it to load d3/LDAvis\n",
              "   require.config({paths: {d3: \"https://d3js.org/d3.v5\"}});\n",
              "   require([\"d3\"], function(d3){\n",
              "      window.d3 = d3;\n",
              "      LDAvis_load_lib(\"https://cdn.jsdelivr.net/gh/bmabey/pyLDAvis@3.4.0/pyLDAvis/js/ldavis.v3.0.0.js\", function(){\n",
              "        new LDAvis(\"#\" + \"ldavis_el1991364194362602403166711094\", ldavis_el1991364194362602403166711094_data);\n",
              "      });\n",
              "    });\n",
              "}else{\n",
              "    // require.js not available: dynamically load d3 & LDAvis\n",
              "    LDAvis_load_lib(\"https://d3js.org/d3.v5.js\", function(){\n",
              "         LDAvis_load_lib(\"https://cdn.jsdelivr.net/gh/bmabey/pyLDAvis@3.4.0/pyLDAvis/js/ldavis.v3.0.0.js\", function(){\n",
              "                 new LDAvis(\"#\" + \"ldavis_el1991364194362602403166711094\", ldavis_el1991364194362602403166711094_data);\n",
              "            })\n",
              "         });\n",
              "}\n",
              "</script>"
            ]
          },
          "metadata": {},
          "execution_count": 18
        }
      ]
    },
    {
      "cell_type": "code",
      "source": [],
      "metadata": {
        "id": "37DYrNlQU0xy"
      },
      "execution_count": null,
      "outputs": []
    }
  ]
}