{
 "cells": [
  {
   "cell_type": "markdown",
   "metadata": {
    "application/vnd.databricks.v1+cell": {
     "cellMetadata": {},
     "inputWidgets": {},
     "nuid": "be5aec0e-e6ea-40c1-9cb6-42beed2fe418",
     "showTitle": false,
     "tableResultSettingsMap": {},
     "title": ""
    },
    "colab_type": "text",
    "id": "view-in-github"
   },
   "source": [
    "<a href=\"https://colab.research.google.com/github/NITHIN-KESHAV/DATA-228-Group-Project/blob/main/Preprocessing.ipynb\" target=\"_parent\"><img src=\"https://colab.research.google.com/assets/colab-badge.svg\" alt=\"Open In Colab\"/></a>"
   ]
  },
  {
   "cell_type": "code",
   "execution_count": 0,
   "metadata": {
    "application/vnd.databricks.v1+cell": {
     "cellMetadata": {},
     "inputWidgets": {},
     "nuid": "ed7bb88b-49c0-4b32-ab95-2fdf00422438",
     "showTitle": false,
     "tableResultSettingsMap": {},
     "title": ""
    },
    "colab": {
     "base_uri": "https://localhost:8080/"
    },
    "id": "3Bu4xeKc3Op1",
    "outputId": "ffd35b85-b7b6-4577-e005-6701dfd7a06c"
   },
   "outputs": [],
   "source": [
    "!pip install gdown\n"
   ]
  },
  {
   "cell_type": "markdown",
   "metadata": {
    "application/vnd.databricks.v1+cell": {
     "cellMetadata": {},
     "inputWidgets": {},
     "nuid": "fd1e0989-ddeb-4946-9d38-fc323fcdea26",
     "showTitle": false,
     "tableResultSettingsMap": {},
     "title": ""
    },
    "id": "mCCvSXG5o7mk"
   },
   "source": [
    "## Working on chunk data( 10,000 rows )"
   ]
  },
  {
   "cell_type": "code",
   "execution_count": 0,
   "metadata": {
    "application/vnd.databricks.v1+cell": {
     "cellMetadata": {},
     "inputWidgets": {},
     "nuid": "f132258c-e1f0-445a-aa5b-d89cd7096c78",
     "showTitle": false,
     "tableResultSettingsMap": {},
     "title": ""
    },
    "colab": {
     "base_uri": "https://localhost:8080/",
     "height": 122
    },
    "id": "fZiJzxqZ3PpH",
    "outputId": "d263c45c-3b81-4273-c684-1167f1ee070d"
   },
   "outputs": [],
   "source": [
    "import gdown\n",
    "\n",
    "file_id = \"11CHzQfUChpnG1EGRWQXPs4VYIcmtVQZj\"\n",
    "download_url = f\"https://drive.google.com/uc?id={file_id}\"\n",
    "\n",
    "output = 'yourfile.zip'\n",
    "gdown.download(download_url, output, quiet=False)\n",
    "\n"
   ]
  },
  {
   "cell_type": "code",
   "execution_count": 0,
   "metadata": {
    "application/vnd.databricks.v1+cell": {
     "cellMetadata": {},
     "inputWidgets": {},
     "nuid": "b6f91f44-5471-4e3b-89db-298f597801b6",
     "showTitle": false,
     "tableResultSettingsMap": {},
     "title": ""
    },
    "colab": {
     "base_uri": "https://localhost:8080/"
    },
    "id": "RGBb2elN6Rsg",
    "outputId": "69454fe0-df27-4247-f7fd-b4a7c16cf3d1"
   },
   "outputs": [],
   "source": [
    "import os\n",
    "\n",
    "# Checking the size of the file to ensure it was downloaded completely\n",
    "file_size = os.path.getsize('yourfile.zip')\n",
    "print(f\"File size: {file_size / (1024 * 1024):.2f} MB\")\n"
   ]
  },
  {
   "cell_type": "code",
   "execution_count": 0,
   "metadata": {
    "application/vnd.databricks.v1+cell": {
     "cellMetadata": {},
     "inputWidgets": {},
     "nuid": "48b02b6d-03c3-4b92-8aac-fcc933f82376",
     "showTitle": false,
     "tableResultSettingsMap": {},
     "title": ""
    },
    "colab": {
     "base_uri": "https://localhost:8080/"
    },
    "id": "jyOjIWFh6f8o",
    "outputId": "5f4be417-da86-45fa-94a0-5ff7f50620d8"
   },
   "outputs": [],
   "source": [
    "# Checking the first few bytes of the file to see if it's a valid zip file\n",
    "with open('yourfile.zip', 'rb') as file:\n",
    "    header = file.read(4)\n",
    "    print(header)\n"
   ]
  },
  {
   "cell_type": "code",
   "execution_count": 0,
   "metadata": {
    "application/vnd.databricks.v1+cell": {
     "cellMetadata": {},
     "inputWidgets": {},
     "nuid": "7056ed4a-782b-44fe-8a39-14373aa7e25e",
     "showTitle": false,
     "tableResultSettingsMap": {},
     "title": ""
    },
    "colab": {
     "base_uri": "https://localhost:8080/"
    },
    "id": "93GMLBpF3go_",
    "outputId": "9e4fd404-b078-410d-e1a8-95e98a5e1210"
   },
   "outputs": [],
   "source": [
    "with gzip.open('yourfile.zip', 'rb') as f:\n",
    "    chunk_size = 100000  \n",
    "    for chunk in pd.read_csv(f, chunksize=chunk_size, sep='\\t'):  \n",
    "        print(chunk.head())\n",
    "        break\n",
    "\n"
   ]
  },
  {
   "cell_type": "code",
   "execution_count": 0,
   "metadata": {
    "application/vnd.databricks.v1+cell": {
     "cellMetadata": {},
     "inputWidgets": {},
     "nuid": "75790bb9-8c66-40ac-8b93-a471e2f91108",
     "showTitle": false,
     "tableResultSettingsMap": {},
     "title": ""
    },
    "colab": {
     "base_uri": "https://localhost:8080/"
    },
    "id": "AG0zuuGg67YB",
    "outputId": "0fdb375d-693b-436a-b2ac-5ba074a15aee"
   },
   "outputs": [],
   "source": [
    "with gzip.open('yourfile.zip', 'rb') as f:\n",
    "    for i, line in enumerate(f):\n",
    "        print(line)\n",
    "        if i == 20:  # Stoping the loop after the first 20 lines\n",
    "            break\n",
    "\n"
   ]
  },
  {
   "cell_type": "code",
   "execution_count": 0,
   "metadata": {
    "application/vnd.databricks.v1+cell": {
     "cellMetadata": {},
     "inputWidgets": {},
     "nuid": "26d5d722-bb14-40e0-aedc-9f3049d914dc",
     "showTitle": false,
     "tableResultSettingsMap": {},
     "title": ""
    },
    "id": "DFr7Blpz7DBz"
   },
   "outputs": [],
   "source": [
    "import gzip\n",
    "import pandas as pd\n",
    "\n",
    "# Opening the gzip file and reading the data as JSON lines\n",
    "with gzip.open('yourfile.zip', 'rb') as f:\n",
    "    # Reading the JSON lines into a pandas DataFrame\n",
    "    df = pd.read_json(f, lines=True)\n",
    "\n",
    "# Displaying the first few rows to get a better view of the data\n",
    "print(df.head(5))\n"
   ]
  },
  {
   "cell_type": "code",
   "execution_count": 0,
   "metadata": {
    "application/vnd.databricks.v1+cell": {
     "cellMetadata": {},
     "inputWidgets": {},
     "nuid": "998d04ee-e87f-49bb-95a5-afb5c2b72289",
     "showTitle": false,
     "tableResultSettingsMap": {},
     "title": ""
    },
    "colab": {
     "base_uri": "https://localhost:8080/"
    },
    "id": "_8KQnVtb7ZHw",
    "outputId": "0af38f86-3a1c-4b48-b565-ef9a6b81dd6e"
   },
   "outputs": [],
   "source": [
    "import gzip\n",
    "import pandas as pd\n",
    "\n",
    "# Defining the chunk size\n",
    "chunk_size = 10000  \n",
    "\n",
    "# Opening the gzip file and processing it in chunks\n",
    "with gzip.open('yourfile.zip', 'rb') as f:\n",
    "    # Reading the file in chunks and processing each chunk\n",
    "    for chunk in pd.read_json(f, lines=True, chunksize=chunk_size):\n",
    "        print(chunk.head())  \n",
    "        break\n"
   ]
  },
  {
   "cell_type": "code",
   "execution_count": 0,
   "metadata": {
    "application/vnd.databricks.v1+cell": {
     "cellMetadata": {},
     "inputWidgets": {},
     "nuid": "323a0ed8-fbf6-4e64-bca5-570664c55574",
     "showTitle": false,
     "tableResultSettingsMap": {},
     "title": ""
    },
    "colab": {
     "base_uri": "https://localhost:8080/"
    },
    "id": "LWnFU3FA8dbA",
    "outputId": "4ccdef01-8e85-4368-ca16-c417270bc9d8"
   },
   "outputs": [],
   "source": [
    "print(chunk.columns)  \n",
    "print(chunk.dtypes)   \n"
   ]
  },
  {
   "cell_type": "code",
   "execution_count": 0,
   "metadata": {
    "application/vnd.databricks.v1+cell": {
     "cellMetadata": {},
     "inputWidgets": {},
     "nuid": "3ff6570c-8d3c-47a8-81bf-e236a626343b",
     "showTitle": false,
     "tableResultSettingsMap": {},
     "title": ""
    },
    "colab": {
     "base_uri": "https://localhost:8080/"
    },
    "id": "j808L_K_8ohy",
    "outputId": "7e8451d3-3a6e-4a27-982b-cdbc196a1b6b"
   },
   "outputs": [],
   "source": [
    "print(chunk.describe())  \n"
   ]
  },
  {
   "cell_type": "code",
   "execution_count": 0,
   "metadata": {
    "application/vnd.databricks.v1+cell": {
     "cellMetadata": {},
     "inputWidgets": {},
     "nuid": "f675ca68-f9c1-4d2b-8b60-ab5d990aa87e",
     "showTitle": false,
     "tableResultSettingsMap": {},
     "title": ""
    },
    "colab": {
     "base_uri": "https://localhost:8080/"
    },
    "id": "CigM5MBb8sFU",
    "outputId": "6de67b8a-74be-4d57-92f7-e709922b5a88"
   },
   "outputs": [],
   "source": [
    "print(chunk.isnull().sum())  \n"
   ]
  },
  {
   "cell_type": "code",
   "execution_count": 0,
   "metadata": {
    "application/vnd.databricks.v1+cell": {
     "cellMetadata": {},
     "inputWidgets": {},
     "nuid": "9582041d-57fc-41cf-81e3-41b55ccc9870",
     "showTitle": false,
     "tableResultSettingsMap": {},
     "title": ""
    },
    "colab": {
     "base_uri": "https://localhost:8080/"
    },
    "id": "k1Kjta5S8wf4",
    "outputId": "2b4f88d1-c330-449e-88e6-669550b9cf52"
   },
   "outputs": [],
   "source": [
    "chunk['review_length'] = chunk['reviewText'].apply(lambda x: len(str(x).split()))\n",
    "print(chunk[['reviewText', 'review_length']].head()) \n"
   ]
  },
  {
   "cell_type": "code",
   "execution_count": 0,
   "metadata": {
    "application/vnd.databricks.v1+cell": {
     "cellMetadata": {},
     "inputWidgets": {},
     "nuid": "7fd0a654-0d5f-44e4-b18f-ab9b3ab7876f",
     "showTitle": false,
     "tableResultSettingsMap": {},
     "title": ""
    },
    "colab": {
     "base_uri": "https://localhost:8080/",
     "height": 34
    },
    "id": "fEwbPUwk9IfX",
    "outputId": "f3036068-1b58-4b64-e8ae-127e186c5721"
   },
   "outputs": [],
   "source": [
    "from google.colab import files\n",
    "files.download('processed_chunk.csv')\n"
   ]
  },
  {
   "cell_type": "markdown",
   "metadata": {
    "application/vnd.databricks.v1+cell": {
     "cellMetadata": {},
     "inputWidgets": {},
     "nuid": "d87dbdc1-657a-4c13-bedc-e98623847363",
     "showTitle": false,
     "tableResultSettingsMap": {},
     "title": ""
    },
    "id": "vuCH-0DIPThX"
   },
   "source": [
    "## Steps for topic modelling for chunks\n"
   ]
  },
  {
   "cell_type": "code",
   "execution_count": 0,
   "metadata": {
    "application/vnd.databricks.v1+cell": {
     "cellMetadata": {},
     "inputWidgets": {},
     "nuid": "a277b98b-e6ac-44c6-8450-7a738d189a0b",
     "showTitle": false,
     "tableResultSettingsMap": {},
     "title": ""
    },
    "colab": {
     "base_uri": "https://localhost:8080/"
    },
    "id": "NHWAHQ1R--Xu",
    "outputId": "41543ad6-b8d9-4489-e6d8-e7fb6822b583"
   },
   "outputs": [],
   "source": [
    "!pip install gensim scikit-learn\n"
   ]
  },
  {
   "cell_type": "code",
   "execution_count": 0,
   "metadata": {
    "application/vnd.databricks.v1+cell": {
     "cellMetadata": {},
     "inputWidgets": {},
     "nuid": "d1a62a60-8fb9-4dee-bc97-f5843be3eb5a",
     "showTitle": false,
     "tableResultSettingsMap": {},
     "title": ""
    },
    "colab": {
     "base_uri": "https://localhost:8080/"
    },
    "id": "OgBV9CZrPX6z",
    "outputId": "384a4194-19c6-4ffc-b470-f117f258fd29"
   },
   "outputs": [],
   "source": [
    "import pandas as pd\n",
    "\n",
    "df = pd.read_csv('/processed_chunk.csv')\n",
    "\n",
    "print(df.head())\n"
   ]
  },
  {
   "cell_type": "markdown",
   "metadata": {
    "application/vnd.databricks.v1+cell": {
     "cellMetadata": {},
     "inputWidgets": {},
     "nuid": "92b9ce2e-106d-445e-8bb3-59b26f845719",
     "showTitle": false,
     "tableResultSettingsMap": {},
     "title": ""
    },
    "id": "Vv682o31PdeW"
   },
   "source": [
    "## Preprocessing the Text for Topic Modeling:"
   ]
  },
  {
   "cell_type": "code",
   "execution_count": 0,
   "metadata": {
    "application/vnd.databricks.v1+cell": {
     "cellMetadata": {},
     "inputWidgets": {},
     "nuid": "fa96bf97-2c6a-482e-83ee-6b8701a3099b",
     "showTitle": false,
     "tableResultSettingsMap": {},
     "title": ""
    },
    "colab": {
     "base_uri": "https://localhost:8080/"
    },
    "id": "EDM2x8auPaFm",
    "outputId": "b4a04581-862b-4fea-8e94-a526bcd93f08"
   },
   "outputs": [],
   "source": [
    "import re\n",
    "from nltk.corpus import stopwords\n",
    "from sklearn.feature_extraction.text import CountVectorizer\n",
    "import nltk\n",
    "\n",
    "# Downloading the stopwords\n",
    "nltk.download('stopwords')\n",
    "\n",
    "# Preprocessing function: clean and tokenize text\n",
    "def preprocess_text(text):\n",
    "    text = re.sub(r'\\W', ' ', str(text))  # Removing special characters\n",
    "    text = re.sub(r'\\s+', ' ', text)  # Removing extra spaces\n",
    "    tokens = text.lower().split()  # Lowercasing and tokenization\n",
    "    tokens = [word for word in tokens if word not in stopwords.words('english')]  # Removing stopwords\n",
    "    return tokens\n",
    "\n",
    "# Applying preprocessing to the 'reviewText' column\n",
    "df['tokens'] = df['reviewText'].apply(preprocess_text)\n",
    "\n",
    "# Checking the tokenized reviews\n",
    "print(df[['reviewText', 'tokens']].head())\n"
   ]
  },
  {
   "cell_type": "markdown",
   "metadata": {
    "application/vnd.databricks.v1+cell": {
     "cellMetadata": {},
     "inputWidgets": {},
     "nuid": "7db07dfb-66e6-4ca3-b077-7f6595ae04ba",
     "showTitle": false,
     "tableResultSettingsMap": {},
     "title": ""
    },
    "id": "fsTFvRFIUOfC"
   },
   "source": [
    "##  Creating Dictionary and Corpus:"
   ]
  },
  {
   "cell_type": "code",
   "execution_count": 0,
   "metadata": {
    "application/vnd.databricks.v1+cell": {
     "cellMetadata": {},
     "inputWidgets": {},
     "nuid": "87f9d34f-81f6-480d-9c48-91ac053b0edb",
     "showTitle": false,
     "tableResultSettingsMap": {},
     "title": ""
    },
    "colab": {
     "base_uri": "https://localhost:8080/"
    },
    "id": "cMw694uSPaKu",
    "outputId": "73d3e3bf-88c6-448b-d7a1-1fa775591c5d"
   },
   "outputs": [],
   "source": [
    "from gensim import corpora\n",
    "\n",
    "# Creating a dictionary representation of the documents\n",
    "dictionary = corpora.Dictionary(df['tokens'])\n",
    "\n",
    "# Creating a bag-of-words corpus\n",
    "corpus = [dictionary.doc2bow(text) for text in df['tokens']]\n",
    "\n",
    "# Showing the sample corpus\n",
    "print(corpus[:1])\n"
   ]
  },
  {
   "cell_type": "markdown",
   "metadata": {
    "application/vnd.databricks.v1+cell": {
     "cellMetadata": {},
     "inputWidgets": {},
     "nuid": "591b885b-6c34-4e60-91d2-bc59e680ad9b",
     "showTitle": false,
     "tableResultSettingsMap": {},
     "title": ""
    },
    "id": "t9y3_TpaUZin"
   },
   "source": [
    "## Applying LDA for Topic Modeling:"
   ]
  },
  {
   "cell_type": "code",
   "execution_count": 0,
   "metadata": {
    "application/vnd.databricks.v1+cell": {
     "cellMetadata": {},
     "inputWidgets": {},
     "nuid": "fcaa206a-814a-4020-becc-8d4acd7e280b",
     "showTitle": false,
     "tableResultSettingsMap": {},
     "title": ""
    },
    "colab": {
     "base_uri": "https://localhost:8080/"
    },
    "id": "jEJs9PtgPaNi",
    "outputId": "377c1b9d-fc87-4a22-e897-955816b9e4f5"
   },
   "outputs": [],
   "source": [
    "import gensim\n",
    "\n",
    "# Setting the number of topics\n",
    "num_topics = 10\n",
    "\n",
    "# Running LDA using gensim\n",
    "lda_model = gensim.models.ldamodel.LdaModel(corpus,\n",
    "                                            num_topics=num_topics,\n",
    "                                            id2word=dictionary,\n",
    "                                            passes=10)\n",
    "\n",
    "# Printing the topics\n",
    "topics = lda_model.print_topics(num_words=5)\n",
    "for topic in topics:\n",
    "    print(topic)\n"
   ]
  },
  {
   "cell_type": "markdown",
   "metadata": {
    "application/vnd.databricks.v1+cell": {
     "cellMetadata": {},
     "inputWidgets": {},
     "nuid": "fba85919-a17e-436e-a326-0f3e02d832e1",
     "showTitle": false,
     "tableResultSettingsMap": {},
     "title": ""
    },
    "id": "zmYGsgftUruJ"
   },
   "source": [
    "### Visualizing the Topics"
   ]
  },
  {
   "cell_type": "code",
   "execution_count": 0,
   "metadata": {
    "application/vnd.databricks.v1+cell": {
     "cellMetadata": {},
     "inputWidgets": {},
     "nuid": "59a05249-1df0-45d7-ac10-757c190936b2",
     "showTitle": false,
     "tableResultSettingsMap": {},
     "title": ""
    },
    "colab": {
     "base_uri": "https://localhost:8080/"
    },
    "id": "fJFBGnn4PaPe",
    "outputId": "918f6f89-ec0f-42a5-fdfc-c37f294a2c79"
   },
   "outputs": [],
   "source": [
    "!pip install pyLDAvis\n"
   ]
  },
  {
   "cell_type": "code",
   "execution_count": 0,
   "metadata": {
    "application/vnd.databricks.v1+cell": {
     "cellMetadata": {},
     "inputWidgets": {},
     "nuid": "92c4871c-1cd9-48ed-aea1-ba868273fd6f",
     "showTitle": false,
     "tableResultSettingsMap": {},
     "title": ""
    },
    "colab": {
     "base_uri": "https://localhost:8080/",
     "height": 916
    },
    "id": "vqL1vK0nPaTG",
    "outputId": "6577de6e-6b2c-4e23-b6fa-986df15099a2"
   },
   "outputs": [],
   "source": [
    "import pyLDAvis.gensim_models as gensimvis\n",
    "import pyLDAvis\n",
    "\n",
    "vis_data = gensimvis.prepare(lda_model, corpus, dictionary)\n",
    "\n",
    "pyLDAvis.display(vis_data)\n"
   ]
  },
  {
   "cell_type": "code",
   "execution_count": 0,
   "metadata": {
    "application/vnd.databricks.v1+cell": {
     "cellMetadata": {},
     "inputWidgets": {},
     "nuid": "90b7c28a-95ec-47a1-8ef2-018fd58c5abd",
     "showTitle": false,
     "tableResultSettingsMap": {},
     "title": ""
    },
    "id": "37DYrNlQU0xy"
   },
   "outputs": [],
   "source": []
  }
 ],
 "metadata": {
  "application/vnd.databricks.v1+notebook": {
   "dashboards": [],
   "environmentMetadata": null,
   "language": "python",
   "notebookMetadata": {
    "pythonIndentUnit": 4
   },
   "notebookName": "Preprocessing",
   "widgets": {}
  },
  "colab": {
   "authorship_tag": "ABX9TyPj68oS14HgwbZrnXlN/2V8",
   "include_colab_link": true,
   "provenance": [],
   "toc_visible": true
  },
  "kernelspec": {
   "display_name": "Python 3",
   "name": "python3"
  },
  "language_info": {
   "name": "python"
  }
 },
 "nbformat": 4,
 "nbformat_minor": 0
}
