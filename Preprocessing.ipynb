{
 "cells": [
  {
   "cell_type": "markdown",
   "metadata": {
    "application/vnd.databricks.v1+cell": {
     "cellMetadata": {
      "byteLimit": 2048000,
      "rowLimit": 10000
     },
     "inputWidgets": {},
     "nuid": "c8ec901e-0719-4d04-9589-2e6f8379788c",
     "showTitle": false,
     "tableResultSettingsMap": {},
     "title": ""
    },
    "colab_type": "text",
    "id": "view-in-github"
   },
   "source": [
    "<a href=\"https://colab.research.google.com/github/NITHIN-KESHAV/DATA-228-Group-Project/blob/main/Preprocessing.ipynb\" target=\"_parent\"><img src=\"https://colab.research.google.com/assets/colab-badge.svg\" alt=\"Open In Colab\"/></a>"
   ]
  },
  {
   "cell_type": "code",
   "execution_count": 0,
   "metadata": {
    "application/vnd.databricks.v1+cell": {
     "cellMetadata": {
      "byteLimit": 2048000,
      "rowLimit": 10000
     },
     "inputWidgets": {},
     "nuid": "7f77bbc5-fb2e-46c5-844a-676e765549c4",
     "showTitle": false,
     "tableResultSettingsMap": {},
     "title": ""
    },
    "colab": {
     "base_uri": "https://localhost:8080/"
    },
    "id": "3Bu4xeKc3Op1",
    "outputId": "ffd35b85-b7b6-4577-e005-6701dfd7a06c"
   },
   "outputs": [],
   "source": [
    "!pip install gdown\n"
   ]
  },
  {
   "cell_type": "markdown",
   "metadata": {
    "application/vnd.databricks.v1+cell": {
     "cellMetadata": {
      "byteLimit": 2048000,
      "rowLimit": 10000
     },
     "inputWidgets": {},
     "nuid": "9c6ccc90-f093-4a58-8569-97b14a5c1ab9",
     "showTitle": false,
     "tableResultSettingsMap": {},
     "title": ""
    },
    "id": "mCCvSXG5o7mk"
   },
   "source": [
    "## Working on chunk data( 10,000 rows )"
   ]
  },
  {
   "cell_type": "code",
   "execution_count": 0,
   "metadata": {
    "application/vnd.databricks.v1+cell": {
     "cellMetadata": {
      "byteLimit": 2048000,
      "rowLimit": 10000
     },
     "inputWidgets": {},
     "nuid": "7273ab5d-9844-40bb-9ba1-bdd116293a82",
     "showTitle": false,
     "tableResultSettingsMap": {},
     "title": ""
    },
    "colab": {
     "base_uri": "https://localhost:8080/",
     "height": 122
    },
    "id": "fZiJzxqZ3PpH",
    "outputId": "d263c45c-3b81-4273-c684-1167f1ee070d"
   },
   "outputs": [],
   "source": [
    "import gdown\n",
    "\n",
    "# The updated file ID from your Google Drive link\n",
    "file_id = \"11CHzQfUChpnG1EGRWQXPs4VYIcmtVQZj\"\n",
    "download_url = f\"https://drive.google.com/uc?id={file_id}\"\n",
    "\n",
    "# Download the file\n",
    "output = 'yourfile.zip'\n",
    "gdown.download(download_url, output, quiet=False)\n",
    "\n"
   ]
  },
  {
   "cell_type": "code",
   "execution_count": 0,
   "metadata": {
    "application/vnd.databricks.v1+cell": {
     "cellMetadata": {
      "byteLimit": 2048000,
      "rowLimit": 10000
     },
     "inputWidgets": {},
     "nuid": "ddd215e9-0e4f-4b77-9ff4-060458543e90",
     "showTitle": false,
     "tableResultSettingsMap": {},
     "title": ""
    },
    "colab": {
     "base_uri": "https://localhost:8080/"
    },
    "id": "RGBb2elN6Rsg",
    "outputId": "69454fe0-df27-4247-f7fd-b4a7c16cf3d1"
   },
   "outputs": [],
   "source": [
    "import os\n",
    "\n",
    "# Check the size of the file to ensure it was downloaded completely\n",
    "file_size = os.path.getsize('yourfile.zip')\n",
    "print(f\"File size: {file_size / (1024 * 1024):.2f} MB\")\n"
   ]
  },
  {
   "cell_type": "code",
   "execution_count": 0,
   "metadata": {
    "application/vnd.databricks.v1+cell": {
     "cellMetadata": {
      "byteLimit": 2048000,
      "rowLimit": 10000
     },
     "inputWidgets": {},
     "nuid": "658dcfe6-f7a6-4010-a7e0-054394d76d97",
     "showTitle": false,
     "tableResultSettingsMap": {},
     "title": ""
    },
    "colab": {
     "base_uri": "https://localhost:8080/"
    },
    "id": "jyOjIWFh6f8o",
    "outputId": "5f4be417-da86-45fa-94a0-5ff7f50620d8"
   },
   "outputs": [],
   "source": [
    "# Check the first few bytes of the file to see if it's a valid zip file\n",
    "with open('yourfile.zip', 'rb') as file:\n",
    "    header = file.read(4)\n",
    "    print(header)\n"
   ]
  },
  {
   "cell_type": "code",
   "execution_count": 0,
   "metadata": {
    "application/vnd.databricks.v1+cell": {
     "cellMetadata": {
      "byteLimit": 2048000,
      "rowLimit": 10000
     },
     "inputWidgets": {},
     "nuid": "313575e6-78cb-42a9-9c47-82233d626393",
     "showTitle": false,
     "tableResultSettingsMap": {},
     "title": ""
    },
    "colab": {
     "base_uri": "https://localhost:8080/"
    },
    "id": "93GMLBpF3go_",
    "outputId": "9e4fd404-b078-410d-e1a8-95e98a5e1210"
   },
   "outputs": [],
   "source": [
    "with gzip.open('yourfile.zip', 'rb') as f:\n",
    "    chunk_size = 100000  # Adjust the chunk size as needed\n",
    "    for chunk in pd.read_csv(f, chunksize=chunk_size, sep='\\t'):  # Change sep if it's not a CSV\n",
    "        print(chunk.head())\n",
    "        break\n",
    "\n"
   ]
  },
  {
   "cell_type": "code",
   "execution_count": 0,
   "metadata": {
    "application/vnd.databricks.v1+cell": {
     "cellMetadata": {
      "byteLimit": 2048000,
      "rowLimit": 10000
     },
     "inputWidgets": {},
     "nuid": "3afcb8cd-c3c9-477a-a135-505cbb970534",
     "showTitle": false,
     "tableResultSettingsMap": {},
     "title": ""
    },
    "colab": {
     "base_uri": "https://localhost:8080/"
    },
    "id": "AG0zuuGg67YB",
    "outputId": "0fdb375d-693b-436a-b2ac-5ba074a15aee"
   },
   "outputs": [],
   "source": [
    "with gzip.open('yourfile.zip', 'rb') as f:\n",
    "    for i, line in enumerate(f):\n",
    "        print(line)\n",
    "        if i == 20:  # Stop after the first 20 lines\n",
    "            break\n",
    "\n"
   ]
  },
  {
   "cell_type": "code",
   "execution_count": 0,
   "metadata": {
    "application/vnd.databricks.v1+cell": {
     "cellMetadata": {
      "byteLimit": 2048000,
      "rowLimit": 10000
     },
     "inputWidgets": {},
     "nuid": "1583c7c4-1ef0-44e6-bbe8-3a6a0ab22086",
     "showTitle": false,
     "tableResultSettingsMap": {},
     "title": ""
    },
    "id": "DFr7Blpz7DBz"
   },
   "outputs": [],
   "source": [
    "import gzip\n",
    "import pandas as pd\n",
    "\n",
    "# Open the gzip file and read the data as JSON lines\n",
    "with gzip.open('yourfile.zip', 'rb') as f:\n",
    "    # Read the JSON lines into a pandas DataFrame\n",
    "    df = pd.read_json(f, lines=True)\n",
    "\n",
    "# Display the first few rows to get a better view of the data\n",
    "print(df.head(5))\n"
   ]
  },
  {
   "cell_type": "code",
   "execution_count": 0,
   "metadata": {
    "application/vnd.databricks.v1+cell": {
     "cellMetadata": {
      "byteLimit": 2048000,
      "rowLimit": 10000
     },
     "inputWidgets": {},
     "nuid": "fd7126ca-7c86-4121-9e65-24c3c141713d",
     "showTitle": false,
     "tableResultSettingsMap": {},
     "title": ""
    },
    "colab": {
     "base_uri": "https://localhost:8080/"
    },
    "id": "_8KQnVtb7ZHw",
    "outputId": "0af38f86-3a1c-4b48-b565-ef9a6b81dd6e"
   },
   "outputs": [],
   "source": [
    "import gzip\n",
    "import pandas as pd\n",
    "\n",
    "# Define the chunk size (number of lines to process at a time)\n",
    "chunk_size = 10000  # You can adjust this value\n",
    "\n",
    "# Open the gzip file and process it in chunks\n",
    "with gzip.open('yourfile.zip', 'rb') as f:\n",
    "    # Read the file in chunks and process each chunk\n",
    "    for chunk in pd.read_json(f, lines=True, chunksize=chunk_size):\n",
    "        print(chunk.head())  # Display the first few rows of each chunk\n",
    "\n",
    "        # Add your processing logic here, e.g., cleaning, analysis, etc.\n",
    "\n",
    "        # Stop after the first chunk for testing (remove this in your final implementation)\n",
    "        break\n"
   ]
  },
  {
   "cell_type": "code",
   "execution_count": 0,
   "metadata": {
    "application/vnd.databricks.v1+cell": {
     "cellMetadata": {
      "byteLimit": 2048000,
      "rowLimit": 10000
     },
     "inputWidgets": {},
     "nuid": "34f1077c-4fd2-4123-8132-7a332b37c759",
     "showTitle": false,
     "tableResultSettingsMap": {},
     "title": ""
    },
    "colab": {
     "base_uri": "https://localhost:8080/"
    },
    "id": "LWnFU3FA8dbA",
    "outputId": "4ccdef01-8e85-4368-ca16-c417270bc9d8"
   },
   "outputs": [],
   "source": [
    "print(chunk.columns)  # List the column names\n",
    "print(chunk.dtypes)   # Check the data types of each column\n"
   ]
  },
  {
   "cell_type": "code",
   "execution_count": 0,
   "metadata": {
    "application/vnd.databricks.v1+cell": {
     "cellMetadata": {
      "byteLimit": 2048000,
      "rowLimit": 10000
     },
     "inputWidgets": {},
     "nuid": "91388343-ddbe-4b4b-9581-5c7cb93a7c3a",
     "showTitle": false,
     "tableResultSettingsMap": {},
     "title": ""
    },
    "colab": {
     "base_uri": "https://localhost:8080/"
    },
    "id": "j808L_K_8ohy",
    "outputId": "7e8451d3-3a6e-4a27-982b-cdbc196a1b6b"
   },
   "outputs": [],
   "source": [
    "print(chunk.describe())  # Summary statistics for numerical columns\n"
   ]
  },
  {
   "cell_type": "code",
   "execution_count": 0,
   "metadata": {
    "application/vnd.databricks.v1+cell": {
     "cellMetadata": {
      "byteLimit": 2048000,
      "rowLimit": 10000
     },
     "inputWidgets": {},
     "nuid": "c108e9aa-3304-419e-a080-99cbf569fd10",
     "showTitle": false,
     "tableResultSettingsMap": {},
     "title": ""
    },
    "colab": {
     "base_uri": "https://localhost:8080/"
    },
    "id": "CigM5MBb8sFU",
    "outputId": "6de67b8a-74be-4d57-92f7-e709922b5a88"
   },
   "outputs": [],
   "source": [
    "print(chunk.isnull().sum())  # Check for missing values in each column\n"
   ]
  },
  {
   "cell_type": "code",
   "execution_count": 0,
   "metadata": {
    "application/vnd.databricks.v1+cell": {
     "cellMetadata": {
      "byteLimit": 2048000,
      "rowLimit": 10000
     },
     "inputWidgets": {},
     "nuid": "4cb920a2-fb15-4497-a3f1-bb43f5731f08",
     "showTitle": false,
     "tableResultSettingsMap": {},
     "title": ""
    },
    "colab": {
     "base_uri": "https://localhost:8080/"
    },
    "id": "k1Kjta5S8wf4",
    "outputId": "2b4f88d1-c330-449e-88e6-669550b9cf52"
   },
   "outputs": [],
   "source": [
    "chunk['review_length'] = chunk['reviewText'].apply(lambda x: len(str(x).split()))\n",
    "print(chunk[['reviewText', 'review_length']].head())  # Show the first few rows with review lengths\n"
   ]
  },
  {
   "cell_type": "code",
   "execution_count": 0,
   "metadata": {
    "application/vnd.databricks.v1+cell": {
     "cellMetadata": {
      "byteLimit": 2048000,
      "rowLimit": 10000
     },
     "inputWidgets": {},
     "nuid": "851ea56e-3d3d-4955-8c02-9e236b1bf23d",
     "showTitle": false,
     "tableResultSettingsMap": {},
     "title": ""
    },
    "colab": {
     "base_uri": "https://localhost:8080/",
     "height": 34
    },
    "id": "fEwbPUwk9IfX",
    "outputId": "f3036068-1b58-4b64-e8ae-127e186c5721"
   },
   "outputs": [],
   "source": [
    "from google.colab import files\n",
    "\n",
    "# Download the saved file\n",
    "files.download('processed_chunk.csv')\n"
   ]
  },
  {
   "cell_type": "markdown",
   "metadata": {
    "application/vnd.databricks.v1+cell": {
     "cellMetadata": {
      "byteLimit": 2048000,
      "rowLimit": 10000
     },
     "inputWidgets": {},
     "nuid": "00837702-7f57-4bdf-9cff-65b1bfa4ae64",
     "showTitle": false,
     "tableResultSettingsMap": {},
     "title": ""
    },
    "id": "vuCH-0DIPThX"
   },
   "source": [
    "## steps for topic modelling for chunks\n"
   ]
  },
  {
   "cell_type": "code",
   "execution_count": 0,
   "metadata": {
    "application/vnd.databricks.v1+cell": {
     "cellMetadata": {
      "byteLimit": 2048000,
      "rowLimit": 10000
     },
     "inputWidgets": {},
     "nuid": "80847031-09ad-49f5-899c-210a3ec5ba5b",
     "showTitle": false,
     "tableResultSettingsMap": {},
     "title": ""
    },
    "colab": {
     "base_uri": "https://localhost:8080/"
    },
    "id": "NHWAHQ1R--Xu",
    "outputId": "41543ad6-b8d9-4489-e6d8-e7fb6822b583"
   },
   "outputs": [],
   "source": [
    "!pip install gensim scikit-learn\n"
   ]
  },
  {
   "cell_type": "code",
   "execution_count": 0,
   "metadata": {
    "application/vnd.databricks.v1+cell": {
     "cellMetadata": {
      "byteLimit": 2048000,
      "rowLimit": 10000
     },
     "inputWidgets": {},
     "nuid": "b4c9f21e-4d09-4b94-b50c-9af5943f0e14",
     "showTitle": false,
     "tableResultSettingsMap": {},
     "title": ""
    },
    "colab": {
     "base_uri": "https://localhost:8080/"
    },
    "id": "OgBV9CZrPX6z",
    "outputId": "384a4194-19c6-4ffc-b470-f117f258fd29"
   },
   "outputs": [],
   "source": [
    "import pandas as pd\n",
    "\n",
    "# Load the dataset\n",
    "df = pd.read_csv('/processed_chunk.csv')\n",
    "\n",
    "# Check the data structure\n",
    "print(df.head())\n"
   ]
  },
  {
   "cell_type": "markdown",
   "metadata": {
    "application/vnd.databricks.v1+cell": {
     "cellMetadata": {
      "byteLimit": 2048000,
      "rowLimit": 10000
     },
     "inputWidgets": {},
     "nuid": "ace89fae-11f7-4cbd-ba15-882896161da5",
     "showTitle": false,
     "tableResultSettingsMap": {},
     "title": ""
    },
    "id": "Vv682o31PdeW"
   },
   "source": [
    "## Preprocess the Text for Topic Modeling:"
   ]
  },
  {
   "cell_type": "code",
   "execution_count": 0,
   "metadata": {
    "application/vnd.databricks.v1+cell": {
     "cellMetadata": {
      "byteLimit": 2048000,
      "rowLimit": 10000
     },
     "inputWidgets": {},
     "nuid": "0c486c58-4cb6-4473-80f2-3ca2b799403b",
     "showTitle": false,
     "tableResultSettingsMap": {},
     "title": ""
    },
    "colab": {
     "base_uri": "https://localhost:8080/"
    },
    "id": "EDM2x8auPaFm",
    "outputId": "b4a04581-862b-4fea-8e94-a526bcd93f08"
   },
   "outputs": [],
   "source": [
    "import re\n",
    "from nltk.corpus import stopwords\n",
    "from sklearn.feature_extraction.text import CountVectorizer\n",
    "import nltk\n",
    "\n",
    "# Download stopwords if not done already\n",
    "nltk.download('stopwords')\n",
    "\n",
    "# Preprocessing function: clean and tokenize text\n",
    "def preprocess_text(text):\n",
    "    text = re.sub(r'\\W', ' ', str(text))  # Remove special characters\n",
    "    text = re.sub(r'\\s+', ' ', text)  # Remove extra spaces\n",
    "    tokens = text.lower().split()  # Lowercase and tokenize\n",
    "    tokens = [word for word in tokens if word not in stopwords.words('english')]  # Remove stopwords\n",
    "    return tokens\n",
    "\n",
    "# Apply preprocessing to the 'reviewText' column\n",
    "df['tokens'] = df['reviewText'].apply(preprocess_text)\n",
    "\n",
    "# Check the tokenized reviews\n",
    "print(df[['reviewText', 'tokens']].head())\n"
   ]
  },
  {
   "cell_type": "markdown",
   "metadata": {
    "application/vnd.databricks.v1+cell": {
     "cellMetadata": {
      "byteLimit": 2048000,
      "rowLimit": 10000
     },
     "inputWidgets": {},
     "nuid": "415870e3-a1ad-4323-9bc7-2ac1be3e3792",
     "showTitle": false,
     "tableResultSettingsMap": {},
     "title": ""
    },
    "id": "fsTFvRFIUOfC"
   },
   "source": [
    "##  Create Dictionary and Corpus:"
   ]
  },
  {
   "cell_type": "code",
   "execution_count": 0,
   "metadata": {
    "application/vnd.databricks.v1+cell": {
     "cellMetadata": {
      "byteLimit": 2048000,
      "rowLimit": 10000
     },
     "inputWidgets": {},
     "nuid": "00f967d0-c697-4770-8ad5-0705e1778549",
     "showTitle": false,
     "tableResultSettingsMap": {},
     "title": ""
    },
    "colab": {
     "base_uri": "https://localhost:8080/"
    },
    "id": "cMw694uSPaKu",
    "outputId": "73d3e3bf-88c6-448b-d7a1-1fa775591c5d"
   },
   "outputs": [],
   "source": [
    "from gensim import corpora\n",
    "\n",
    "# Create a dictionary representation of the documents\n",
    "dictionary = corpora.Dictionary(df['tokens'])\n",
    "\n",
    "# Create a bag-of-words corpus\n",
    "corpus = [dictionary.doc2bow(text) for text in df['tokens']]\n",
    "\n",
    "# Show sample corpus\n",
    "print(corpus[:1])\n"
   ]
  },
  {
   "cell_type": "markdown",
   "metadata": {
    "application/vnd.databricks.v1+cell": {
     "cellMetadata": {
      "byteLimit": 2048000,
      "rowLimit": 10000
     },
     "inputWidgets": {},
     "nuid": "626a23ca-c63d-4e59-a8dd-25c2c9b75e25",
     "showTitle": false,
     "tableResultSettingsMap": {},
     "title": ""
    },
    "id": "t9y3_TpaUZin"
   },
   "source": [
    "## Apply LDA for Topic Modeling:"
   ]
  },
  {
   "cell_type": "code",
   "execution_count": 0,
   "metadata": {
    "application/vnd.databricks.v1+cell": {
     "cellMetadata": {
      "byteLimit": 2048000,
      "rowLimit": 10000
     },
     "inputWidgets": {},
     "nuid": "bdaa32b6-4ffe-49de-93cf-ea870e629556",
     "showTitle": false,
     "tableResultSettingsMap": {},
     "title": ""
    },
    "colab": {
     "base_uri": "https://localhost:8080/"
    },
    "id": "jEJs9PtgPaNi",
    "outputId": "377c1b9d-fc87-4a22-e897-955816b9e4f5"
   },
   "outputs": [],
   "source": [
    "import gensim\n",
    "\n",
    "# Set the number of topics\n",
    "num_topics = 10\n",
    "\n",
    "# Run LDA using gensim\n",
    "lda_model = gensim.models.ldamodel.LdaModel(corpus,\n",
    "                                            num_topics=num_topics,\n",
    "                                            id2word=dictionary,\n",
    "                                            passes=10)\n",
    "\n",
    "# Print the topics\n",
    "topics = lda_model.print_topics(num_words=5)\n",
    "for topic in topics:\n",
    "    print(topic)\n"
   ]
  },
  {
   "cell_type": "markdown",
   "metadata": {
    "application/vnd.databricks.v1+cell": {
     "cellMetadata": {
      "byteLimit": 2048000,
      "rowLimit": 10000
     },
     "inputWidgets": {},
     "nuid": "a8fc17b6-1120-48b4-8595-f6ba284464a5",
     "showTitle": false,
     "tableResultSettingsMap": {},
     "title": ""
    },
    "id": "zmYGsgftUruJ"
   },
   "source": [
    "### Visualize the Topics"
   ]
  },
  {
   "cell_type": "code",
   "execution_count": 0,
   "metadata": {
    "application/vnd.databricks.v1+cell": {
     "cellMetadata": {
      "byteLimit": 2048000,
      "rowLimit": 10000
     },
     "inputWidgets": {},
     "nuid": "9ed00a05-494a-452f-88f3-3e6ec681b400",
     "showTitle": false,
     "tableResultSettingsMap": {},
     "title": ""
    },
    "colab": {
     "base_uri": "https://localhost:8080/"
    },
    "id": "fJFBGnn4PaPe",
    "outputId": "918f6f89-ec0f-42a5-fdfc-c37f294a2c79"
   },
   "outputs": [],
   "source": [
    "!pip install pyLDAvis\n"
   ]
  },
  {
   "cell_type": "code",
   "execution_count": 0,
   "metadata": {
    "application/vnd.databricks.v1+cell": {
     "cellMetadata": {
      "byteLimit": 2048000,
      "rowLimit": 10000
     },
     "inputWidgets": {},
     "nuid": "da234826-13db-450e-ab86-93b35a12765e",
     "showTitle": false,
     "tableResultSettingsMap": {},
     "title": ""
    },
    "colab": {
     "base_uri": "https://localhost:8080/",
     "height": 916
    },
    "id": "vqL1vK0nPaTG",
    "outputId": "6577de6e-6b2c-4e23-b6fa-986df15099a2"
   },
   "outputs": [],
   "source": [
    "import pyLDAvis.gensim_models as gensimvis\n",
    "import pyLDAvis\n",
    "\n",
    "# Prepare the visualization data\n",
    "vis_data = gensimvis.prepare(lda_model, corpus, dictionary)\n",
    "\n",
    "# Display the visualization\n",
    "pyLDAvis.display(vis_data)\n"
   ]
  },
  {
   "cell_type": "code",
   "execution_count": 0,
   "metadata": {
    "application/vnd.databricks.v1+cell": {
     "cellMetadata": {
      "byteLimit": 2048000,
      "rowLimit": 10000
     },
     "inputWidgets": {},
     "nuid": "d83c7385-b90d-4e9b-9322-ef293bdb5b46",
     "showTitle": false,
     "tableResultSettingsMap": {},
     "title": ""
    },
    "id": "37DYrNlQU0xy"
   },
   "outputs": [],
   "source": []
  }
 ],
 "metadata": {
  "application/vnd.databricks.v1+notebook": {
   "dashboards": [],
   "environmentMetadata": null,
   "language": "python",
   "notebookMetadata": {
    "pythonIndentUnit": 4
   },
   "notebookName": "Preprocessing",
   "widgets": {}
  },
  "colab": {
   "authorship_tag": "ABX9TyPj68oS14HgwbZrnXlN/2V8",
   "include_colab_link": true,
   "provenance": [],
   "toc_visible": true
  },
  "kernelspec": {
   "display_name": "Python 3",
   "name": "python3"
  },
  "language_info": {
   "name": "python"
  }
 },
 "nbformat": 4,
 "nbformat_minor": 0
}
